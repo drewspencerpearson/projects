{
 "cells": [
  {
   "cell_type": "markdown",
   "metadata": {},
   "source": [
    "# Fantasy Baseball Optimization\n",
    "*Allyson Tom, Drew Pearson, Jacob Adams*"
   ]
  },
  {
   "cell_type": "markdown",
   "metadata": {},
   "source": [
    "## Introduction\n",
    "\n",
    "Fantasy sports are the closest thing most fans can get to being the general manager of a team. The following of fantasy sports has grown to over 50 million people (U.S. & Canada). Fantasy baseball was the first fantasy sport created and will be the focus of this project. For those who are unfamiliar with fantasy sports, the format is as follows. People enter leagues with 5-15 other participants. The league participants then draft real professional players to fill their rosters. Based on how those professional players perform in real life, the fantasy participants receive points, with the goal being to get more points than the other people in their league. \n",
    "\n",
    "Our goal is to create a tool to build the optimal fantasy baseball team during the draft. The tool will account for placing the required number of players in each position. It will also consider which players have already been drafted and use that information to update the optimal team during the draft (because players in my queue might be taken by other fantasy managers before my next pick). In order to achieve this goal, we will create and use the following datasets:\n",
    "- Actual statistics for MLB players from the 2009-2016 regular seasons, split by hitting and pitching statistics\n",
    "- Statistical projections from 2010-2016 for MLB player performance by ESPN, Marcel, CBS, Guru, Steamer, and FanGraphs, split by hitting and pitching projections (Note: We hope to incorporate projections for the 2017 season, but most of these are not yet published, as spring training for the upcoming season is still in progress and is factored heavily into these projections. As these become available, we will add them to our dataset.)\n",
    "\n",
    "Questions we would like to answer include:\n",
    "- Given a player’s statistics from the previous 7 regular seasons, what will the projection be for his statistics in the upcoming season? This will include 5 statistics for each player: home runs, runs batted in, runs, stolen bases, batting average; or, for a pitcher, earned run average, saves, strikeouts, wins, and walks plus hits per inning pitched.\n",
    "- Given those predictions, at any given point in a fantasy baseball draft, what is the best pick in a fantasy baseball draft, given your previous selections and the remaining available players?\n"
   ]
  },
  {
   "cell_type": "code",
   "execution_count": 1,
   "metadata": {
    "collapsed": false
   },
   "outputs": [],
   "source": [
    "import pandas as pd\n",
    "import re\n",
    "import numpy as np\n",
    "from __future__ import division\n",
    "import os\n",
    "from matplotlib import pyplot as plt\n",
    "%matplotlib inline"
   ]
  },
  {
   "cell_type": "markdown",
   "metadata": {},
   "source": [
    "## Actual Player Statistics Data"
   ]
  },
  {
   "cell_type": "markdown",
   "metadata": {},
   "source": [
    "We need two subsets of data for this portion of our dataset: hitter data and pitcher data.\n",
    "\n",
    "### Hitter Data\n",
    "We will first create a pandas DataFrame that holds the following hitting statistics for players for the 2010 through 2016 seasons:\n",
    "- Player Name\n",
    "- Player Age\n",
    "- Doubles (2B)\n",
    "- Triples (3B)\n",
    "- Runs (R)\n",
    "- Homeruns (HR)\n",
    "- Walks (BB)\n",
    "- Strikeouts (SO)\n",
    "- Runs Batted In (RBI)\n",
    "- Stolen Bases (SB)\n",
    "- Batting Average (AVG)\n",
    "- On-Base Percentage (OBP)\n",
    "- Slugging Percentage (SLG)\n",
    "- Season/Year\n",
    "- At Bats (AB)\n",
    "- Position (Pos Summary)"
   ]
  },
  {
   "cell_type": "code",
   "execution_count": 2,
   "metadata": {
    "collapsed": false
   },
   "outputs": [],
   "source": [
    "# ================================== CREATE DATAFRAME OF ALL HITTER INFORMATION =====================================\n",
    "\n",
    "# empty list to append to for each year of information\n",
    "hittersDF = []\n",
    "# list of years to loop through\n",
    "year_list = [2016, 2015, 2014, 2013, 2012, 2011, 2010, 2009]\n",
    "for year in year_list:\n",
    "    # open the file PlayerData/2016Hitters (or whatever year)\n",
    "    with open('PlayerData/' + str(year)+'Hitters') as inFile:\n",
    "        # convert csv file to pandas DataFrame, specifying datatypes\n",
    "        DF2016 = pd.read_csv(inFile)\n",
    "        # create year column\n",
    "        DF2016[\"Year\"] = year\n",
    "        # append to master list\n",
    "        hittersDF.append(DF2016)\n",
    "#concatenate master list into pandas DataFrame\n",
    "hittersDF = pd.concat(hittersDF)\n",
    "\n",
    "# remove all except columns of interest for our particular project (files have more stats than we are interested in)\n",
    "hittersDF = hittersDF[[\"Name\", \"Age\", \"2B\", \"3B\", \"BB\", \"SO\", \"OBP\", \"SLG\", \"Tm\", \"R\", \"HR\", \"RBI\", \"SB\", \"BA\", \\\n",
    "                       \"AB\", \"Pos Summary\", \"Year\"]]"
   ]
  },
  {
   "cell_type": "markdown",
   "metadata": {},
   "source": [
    "Now that we have all the hitting data in a Pandas DataFrame, we need to clean it. Right now, we have 10,766 rows and 10 columns in our hitters DataFrame. Before we get into the cleaning, here is a sample of what the hittersDF looks like, and the null values that we have at this point."
   ]
  },
  {
   "cell_type": "code",
   "execution_count": 3,
   "metadata": {
    "collapsed": false
   },
   "outputs": [
    {
     "data": {
      "text/html": [
       "<div>\n",
       "<table border=\"1\" class=\"dataframe\">\n",
       "  <thead>\n",
       "    <tr style=\"text-align: right;\">\n",
       "      <th></th>\n",
       "      <th>Name</th>\n",
       "      <th>Age</th>\n",
       "      <th>2B</th>\n",
       "      <th>3B</th>\n",
       "      <th>BB</th>\n",
       "      <th>SO</th>\n",
       "      <th>OBP</th>\n",
       "      <th>SLG</th>\n",
       "      <th>Tm</th>\n",
       "      <th>R</th>\n",
       "      <th>HR</th>\n",
       "      <th>RBI</th>\n",
       "      <th>SB</th>\n",
       "      <th>BA</th>\n",
       "      <th>AB</th>\n",
       "      <th>Pos Summary</th>\n",
       "      <th>Year</th>\n",
       "    </tr>\n",
       "  </thead>\n",
       "  <tbody>\n",
       "    <tr>\n",
       "      <th>0</th>\n",
       "      <td>Fernando Abad*\\abadfe01</td>\n",
       "      <td>30</td>\n",
       "      <td>0.0</td>\n",
       "      <td>0.0</td>\n",
       "      <td>0.0</td>\n",
       "      <td>1.0</td>\n",
       "      <td>0.000</td>\n",
       "      <td>0.000</td>\n",
       "      <td>TOT</td>\n",
       "      <td>0.0</td>\n",
       "      <td>0.0</td>\n",
       "      <td>0.0</td>\n",
       "      <td>0.0</td>\n",
       "      <td>0.000</td>\n",
       "      <td>1.0</td>\n",
       "      <td>1</td>\n",
       "      <td>2016</td>\n",
       "    </tr>\n",
       "    <tr>\n",
       "      <th>1</th>\n",
       "      <td>Fernando Abad*\\abadfe01</td>\n",
       "      <td>30</td>\n",
       "      <td>0.0</td>\n",
       "      <td>0.0</td>\n",
       "      <td>0.0</td>\n",
       "      <td>1.0</td>\n",
       "      <td>0.000</td>\n",
       "      <td>0.000</td>\n",
       "      <td>MIN</td>\n",
       "      <td>0.0</td>\n",
       "      <td>0.0</td>\n",
       "      <td>0.0</td>\n",
       "      <td>0.0</td>\n",
       "      <td>0.000</td>\n",
       "      <td>1.0</td>\n",
       "      <td>1</td>\n",
       "      <td>2016</td>\n",
       "    </tr>\n",
       "    <tr>\n",
       "      <th>2</th>\n",
       "      <td>Fernando Abad*\\abadfe01</td>\n",
       "      <td>30</td>\n",
       "      <td>0.0</td>\n",
       "      <td>0.0</td>\n",
       "      <td>0.0</td>\n",
       "      <td>0.0</td>\n",
       "      <td>NaN</td>\n",
       "      <td>NaN</td>\n",
       "      <td>BOS</td>\n",
       "      <td>0.0</td>\n",
       "      <td>0.0</td>\n",
       "      <td>0.0</td>\n",
       "      <td>0.0</td>\n",
       "      <td>NaN</td>\n",
       "      <td>0.0</td>\n",
       "      <td>1</td>\n",
       "      <td>2016</td>\n",
       "    </tr>\n",
       "    <tr>\n",
       "      <th>3</th>\n",
       "      <td>Jose Abreu\\abreujo02</td>\n",
       "      <td>29</td>\n",
       "      <td>32.0</td>\n",
       "      <td>1.0</td>\n",
       "      <td>47.0</td>\n",
       "      <td>125.0</td>\n",
       "      <td>0.353</td>\n",
       "      <td>0.468</td>\n",
       "      <td>CHW</td>\n",
       "      <td>67.0</td>\n",
       "      <td>25.0</td>\n",
       "      <td>100.0</td>\n",
       "      <td>0.0</td>\n",
       "      <td>0.293</td>\n",
       "      <td>624.0</td>\n",
       "      <td>*3/D</td>\n",
       "      <td>2016</td>\n",
       "    </tr>\n",
       "    <tr>\n",
       "      <th>4</th>\n",
       "      <td>A.J. Achter\\achteaj01</td>\n",
       "      <td>27</td>\n",
       "      <td>0.0</td>\n",
       "      <td>0.0</td>\n",
       "      <td>0.0</td>\n",
       "      <td>0.0</td>\n",
       "      <td>NaN</td>\n",
       "      <td>NaN</td>\n",
       "      <td>LAA</td>\n",
       "      <td>0.0</td>\n",
       "      <td>0.0</td>\n",
       "      <td>0.0</td>\n",
       "      <td>0.0</td>\n",
       "      <td>NaN</td>\n",
       "      <td>0.0</td>\n",
       "      <td>1</td>\n",
       "      <td>2016</td>\n",
       "    </tr>\n",
       "  </tbody>\n",
       "</table>\n",
       "</div>"
      ],
      "text/plain": [
       "                      Name  Age    2B   3B    BB     SO    OBP    SLG   Tm  \\\n",
       "0  Fernando Abad*\\abadfe01   30   0.0  0.0   0.0    1.0  0.000  0.000  TOT   \n",
       "1  Fernando Abad*\\abadfe01   30   0.0  0.0   0.0    1.0  0.000  0.000  MIN   \n",
       "2  Fernando Abad*\\abadfe01   30   0.0  0.0   0.0    0.0    NaN    NaN  BOS   \n",
       "3     Jose Abreu\\abreujo02   29  32.0  1.0  47.0  125.0  0.353  0.468  CHW   \n",
       "4    A.J. Achter\\achteaj01   27   0.0  0.0   0.0    0.0    NaN    NaN  LAA   \n",
       "\n",
       "      R    HR    RBI   SB     BA     AB Pos Summary  Year  \n",
       "0   0.0   0.0    0.0  0.0  0.000    1.0           1  2016  \n",
       "1   0.0   0.0    0.0  0.0  0.000    1.0           1  2016  \n",
       "2   0.0   0.0    0.0  0.0    NaN    0.0           1  2016  \n",
       "3  67.0  25.0  100.0  0.0  0.293  624.0        *3/D  2016  \n",
       "4   0.0   0.0    0.0  0.0    NaN    0.0           1  2016  "
      ]
     },
     "execution_count": 3,
     "metadata": {},
     "output_type": "execute_result"
    }
   ],
   "source": [
    "hittersDF.head()"
   ]
  },
  {
   "cell_type": "code",
   "execution_count": 4,
   "metadata": {
    "collapsed": false
   },
   "outputs": [
    {
     "name": "stdout",
     "output_type": "stream",
     "text": [
      "Name              0\n",
      "Age               0\n",
      "2B              139\n",
      "3B              139\n",
      "BB              139\n",
      "SO              139\n",
      "OBP            3472\n",
      "SLG            3507\n",
      "Tm                0\n",
      "R               139\n",
      "HR              139\n",
      "RBI             139\n",
      "SB              139\n",
      "BA             3507\n",
      "AB              139\n",
      "Pos Summary      37\n",
      "Year              0\n",
      "dtype: int64\n"
     ]
    }
   ],
   "source": [
    "print hittersDF.isnull().sum()"
   ]
  },
  {
   "cell_type": "markdown",
   "metadata": {},
   "source": [
    "As seen above, there are a few issues with our DataFrame as it currently stands. We decided that we would record names in all lowercase letters for uniformity; there are also symbols and letters appearing in the Name column that need to be removed. There are several players who have more than one row because they were traded mid-way through a season. For that reason, we drop all rows that are not the player's total for the given year. We also wanted to create a name column that has first initial and last name for later use. Finally, we remove all pitchers from the hitters dataframe and we limit the hitters dataframe to only players with more than 200 at bats in a given season. We will address these issues in the code that follows.\n",
    "\n",
    "Note: We keep player position for later use. The symbols denote the following:\n",
    "- \\* indicates the player played 2/3 or more of the season there\n",
    "- positions after \\ indicate that a player played less than 10 games there"
   ]
  },
  {
   "cell_type": "code",
   "execution_count": 5,
   "metadata": {
    "collapsed": true
   },
   "outputs": [],
   "source": [
    "# functions that will be used to separate Names into 'First' and 'Last' name columms\n",
    "def lower_names(string):\n",
    "    split_string = string.split(',')\n",
    "    return str.lower(split_string[0])\n",
    "def split_names_first(string):\n",
    "    split_string = string.split(' ')\n",
    "    first = str.lower(split_string[0])\n",
    "    return first\n",
    "def split_names_first_initial(string):\n",
    "    split_string = string.split(' ')\n",
    "    first = str.lower(list(split_string[0])[0]) + '.'\n",
    "    return first\n",
    "def split_names_last(string):\n",
    "    split_string = string.split(' ')\n",
    "    last = str.lower(' '.join(split_string[1:]))\n",
    "    return last"
   ]
  },
  {
   "cell_type": "code",
   "execution_count": 6,
   "metadata": {
    "collapsed": false
   },
   "outputs": [],
   "source": [
    "# replace names with corrected version by removing the unnecessary portions that appear in the DF above\n",
    "hittersDF['Name'] = hittersDF['Name'].str.replace(r'[*|\\\\|#|\\+].*', '')\n",
    "# change all letters in names to lower case\n",
    "hittersDF['Name'] = hittersDF['Name'].apply(lower_names)\n",
    "# create columns separating out pieces of player names\n",
    "hittersDF['First'], hittersDF['First_initial'], hittersDF['Last'] = \\\n",
    "        hittersDF['Name'].apply(split_names_first),hittersDF['Name'].apply(split_names_first_initial),\\\n",
    "        hittersDF['Name'].apply(split_names_last)\n",
    "hittersDF['Abbr_Name'] = hittersDF['First_initial'] + ' ' + hittersDF['Last']\n",
    "del hittersDF['First'], hittersDF['First_initial'], hittersDF['Last']\n",
    "\n",
    "# drop duplicates - keep first occurence, which is the one we want (total)\n",
    "for yr in year_list:\n",
    "    hittersDF[hittersDF[\"Year\"] == yr] = hittersDF[hittersDF[\"Year\"] == yr].drop_duplicates('Name')\n",
    "\n",
    "# drop rows with null values in the Name column\n",
    "hittersDF = hittersDF.dropna(subset = [\"Name\"], axis=0)\n",
    "# drop Team column\n",
    "hittersDF = hittersDF.drop(\"Tm\", axis=1)"
   ]
  },
  {
   "cell_type": "code",
   "execution_count": 7,
   "metadata": {
    "collapsed": true
   },
   "outputs": [],
   "source": [
    "# drop players with position = '1' (pitchers)\n",
    "hittersDF = hittersDF[(hittersDF[\"Pos Summary\"] != \"1\") & (hittersDF[\"Pos Summary\"] != \"/1\")]\n",
    "\n",
    "# drop player with fewer than 200 at-bats\n",
    "hittersDF = hittersDF[hittersDF[\"AB\"] > 200]\n",
    "# Reset the index values\n",
    "hittersDF = hittersDF.reset_index(drop=True)"
   ]
  },
  {
   "cell_type": "code",
   "execution_count": 8,
   "metadata": {
    "collapsed": false
   },
   "outputs": [],
   "source": [
    "# assign columns the correct datatypes\n",
    "\n",
    "hittersDF[\"Name\"] = hittersDF[\"Name\"].astype(str)\n",
    "hittersDF[\"R\"] = hittersDF[\"R\"].astype(int)\n",
    "hittersDF[\"HR\"] = hittersDF[\"HR\"].astype(int)\n",
    "hittersDF[\"RBI\"] = hittersDF[\"RBI\"].astype(int)\n",
    "hittersDF[\"SB\"] = hittersDF[\"SB\"].astype(int)\n",
    "hittersDF[\"AB\"] = hittersDF[\"AB\"].astype(int)\n",
    "hittersDF[\"Pos Summary\"] = hittersDF[\"Pos Summary\"].astype(str)\n",
    "hittersDF[\"Year\"] = hittersDF[\"Year\"].astype(int)\n",
    "hittersDF[\"Abbr_Name\"] = hittersDF[\"Abbr_Name\"].astype(str)"
   ]
  },
  {
   "cell_type": "markdown",
   "metadata": {},
   "source": [
    "With all of these corrections, our hitters dataframe is ready to use. We now have 2,313 rows and 9 columns. Here is a cleaned sample:"
   ]
  },
  {
   "cell_type": "code",
   "execution_count": 9,
   "metadata": {
    "collapsed": false
   },
   "outputs": [
    {
     "name": "stdout",
     "output_type": "stream",
     "text": [
      "(2647, 17)\n"
     ]
    },
    {
     "data": {
      "text/html": [
       "<div>\n",
       "<table border=\"1\" class=\"dataframe\">\n",
       "  <thead>\n",
       "    <tr style=\"text-align: right;\">\n",
       "      <th></th>\n",
       "      <th>Name</th>\n",
       "      <th>Age</th>\n",
       "      <th>2B</th>\n",
       "      <th>3B</th>\n",
       "      <th>BB</th>\n",
       "      <th>SO</th>\n",
       "      <th>OBP</th>\n",
       "      <th>SLG</th>\n",
       "      <th>R</th>\n",
       "      <th>HR</th>\n",
       "      <th>RBI</th>\n",
       "      <th>SB</th>\n",
       "      <th>BA</th>\n",
       "      <th>AB</th>\n",
       "      <th>Pos Summary</th>\n",
       "      <th>Year</th>\n",
       "      <th>Abbr_Name</th>\n",
       "    </tr>\n",
       "  </thead>\n",
       "  <tbody>\n",
       "    <tr>\n",
       "      <th>0</th>\n",
       "      <td>jose abreu</td>\n",
       "      <td>29.0</td>\n",
       "      <td>32.0</td>\n",
       "      <td>1.0</td>\n",
       "      <td>47.0</td>\n",
       "      <td>125.0</td>\n",
       "      <td>0.353</td>\n",
       "      <td>0.468</td>\n",
       "      <td>67</td>\n",
       "      <td>25</td>\n",
       "      <td>100</td>\n",
       "      <td>0</td>\n",
       "      <td>0.293</td>\n",
       "      <td>624</td>\n",
       "      <td>*3/D</td>\n",
       "      <td>2016</td>\n",
       "      <td>j. abreu</td>\n",
       "    </tr>\n",
       "    <tr>\n",
       "      <th>1</th>\n",
       "      <td>cristhian adames</td>\n",
       "      <td>24.0</td>\n",
       "      <td>7.0</td>\n",
       "      <td>3.0</td>\n",
       "      <td>24.0</td>\n",
       "      <td>47.0</td>\n",
       "      <td>0.304</td>\n",
       "      <td>0.302</td>\n",
       "      <td>25</td>\n",
       "      <td>2</td>\n",
       "      <td>17</td>\n",
       "      <td>2</td>\n",
       "      <td>0.218</td>\n",
       "      <td>225</td>\n",
       "      <td>645</td>\n",
       "      <td>2016</td>\n",
       "      <td>c. adames</td>\n",
       "    </tr>\n",
       "    <tr>\n",
       "      <th>2</th>\n",
       "      <td>matt adams</td>\n",
       "      <td>27.0</td>\n",
       "      <td>18.0</td>\n",
       "      <td>0.0</td>\n",
       "      <td>25.0</td>\n",
       "      <td>81.0</td>\n",
       "      <td>0.309</td>\n",
       "      <td>0.471</td>\n",
       "      <td>37</td>\n",
       "      <td>16</td>\n",
       "      <td>54</td>\n",
       "      <td>0</td>\n",
       "      <td>0.249</td>\n",
       "      <td>297</td>\n",
       "      <td>3</td>\n",
       "      <td>2016</td>\n",
       "      <td>m. adams</td>\n",
       "    </tr>\n",
       "    <tr>\n",
       "      <th>3</th>\n",
       "      <td>nick ahmed</td>\n",
       "      <td>26.0</td>\n",
       "      <td>9.0</td>\n",
       "      <td>1.0</td>\n",
       "      <td>15.0</td>\n",
       "      <td>58.0</td>\n",
       "      <td>0.265</td>\n",
       "      <td>0.299</td>\n",
       "      <td>26</td>\n",
       "      <td>4</td>\n",
       "      <td>20</td>\n",
       "      <td>5</td>\n",
       "      <td>0.218</td>\n",
       "      <td>284</td>\n",
       "      <td>6</td>\n",
       "      <td>2016</td>\n",
       "      <td>n. ahmed</td>\n",
       "    </tr>\n",
       "    <tr>\n",
       "      <th>4</th>\n",
       "      <td>yonder alonso</td>\n",
       "      <td>29.0</td>\n",
       "      <td>34.0</td>\n",
       "      <td>0.0</td>\n",
       "      <td>45.0</td>\n",
       "      <td>74.0</td>\n",
       "      <td>0.316</td>\n",
       "      <td>0.367</td>\n",
       "      <td>52</td>\n",
       "      <td>7</td>\n",
       "      <td>56</td>\n",
       "      <td>3</td>\n",
       "      <td>0.253</td>\n",
       "      <td>482</td>\n",
       "      <td>*3/5D</td>\n",
       "      <td>2016</td>\n",
       "      <td>y. alonso</td>\n",
       "    </tr>\n",
       "  </tbody>\n",
       "</table>\n",
       "</div>"
      ],
      "text/plain": [
       "               Name   Age    2B   3B    BB     SO    OBP    SLG   R  HR  RBI  \\\n",
       "0        jose abreu  29.0  32.0  1.0  47.0  125.0  0.353  0.468  67  25  100   \n",
       "1  cristhian adames  24.0   7.0  3.0  24.0   47.0  0.304  0.302  25   2   17   \n",
       "2        matt adams  27.0  18.0  0.0  25.0   81.0  0.309  0.471  37  16   54   \n",
       "3        nick ahmed  26.0   9.0  1.0  15.0   58.0  0.265  0.299  26   4   20   \n",
       "4     yonder alonso  29.0  34.0  0.0  45.0   74.0  0.316  0.367  52   7   56   \n",
       "\n",
       "   SB     BA   AB Pos Summary  Year  Abbr_Name  \n",
       "0   0  0.293  624        *3/D  2016   j. abreu  \n",
       "1   2  0.218  225         645  2016  c. adames  \n",
       "2   0  0.249  297           3  2016   m. adams  \n",
       "3   5  0.218  284           6  2016   n. ahmed  \n",
       "4   3  0.253  482       *3/5D  2016  y. alonso  "
      ]
     },
     "execution_count": 9,
     "metadata": {},
     "output_type": "execute_result"
    }
   ],
   "source": [
    "print hittersDF.shape\n",
    "hittersDF.head()"
   ]
  },
  {
   "cell_type": "markdown",
   "metadata": {},
   "source": [
    "Here is a table of some basic summary statistics for the dataset of actual hitter statistics as well, followed by a sum of null values to demonstrate that they have all been handled. It can also be seen from the summary statistics that nothing seems out of range, and the values reported make sense given the context."
   ]
  },
  {
   "cell_type": "code",
   "execution_count": 10,
   "metadata": {
    "collapsed": false
   },
   "outputs": [
    {
     "data": {
      "text/html": [
       "<div>\n",
       "<table border=\"1\" class=\"dataframe\">\n",
       "  <thead>\n",
       "    <tr style=\"text-align: right;\">\n",
       "      <th></th>\n",
       "      <th>Age</th>\n",
       "      <th>2B</th>\n",
       "      <th>3B</th>\n",
       "      <th>BB</th>\n",
       "      <th>SO</th>\n",
       "      <th>OBP</th>\n",
       "      <th>SLG</th>\n",
       "      <th>R</th>\n",
       "      <th>HR</th>\n",
       "      <th>RBI</th>\n",
       "      <th>SB</th>\n",
       "      <th>BA</th>\n",
       "      <th>AB</th>\n",
       "      <th>Year</th>\n",
       "    </tr>\n",
       "  </thead>\n",
       "  <tbody>\n",
       "    <tr>\n",
       "      <th>count</th>\n",
       "      <td>2647.000000</td>\n",
       "      <td>2647.000000</td>\n",
       "      <td>2647.000000</td>\n",
       "      <td>2647.000000</td>\n",
       "      <td>2647.000000</td>\n",
       "      <td>2647.000000</td>\n",
       "      <td>2647.000000</td>\n",
       "      <td>2647.000000</td>\n",
       "      <td>2647.000000</td>\n",
       "      <td>2647.000000</td>\n",
       "      <td>2647.000000</td>\n",
       "      <td>2647.000000</td>\n",
       "      <td>2647.000000</td>\n",
       "      <td>2647.000000</td>\n",
       "    </tr>\n",
       "    <tr>\n",
       "      <th>mean</th>\n",
       "      <td>28.687193</td>\n",
       "      <td>21.826974</td>\n",
       "      <td>2.306385</td>\n",
       "      <td>39.010956</td>\n",
       "      <td>86.077824</td>\n",
       "      <td>0.326362</td>\n",
       "      <td>0.413285</td>\n",
       "      <td>54.970533</td>\n",
       "      <td>13.042312</td>\n",
       "      <td>52.760484</td>\n",
       "      <td>7.652437</td>\n",
       "      <td>0.260409</td>\n",
       "      <td>416.784662</td>\n",
       "      <td>2012.499056</td>\n",
       "    </tr>\n",
       "    <tr>\n",
       "      <th>std</th>\n",
       "      <td>4.003730</td>\n",
       "      <td>9.590062</td>\n",
       "      <td>2.405314</td>\n",
       "      <td>20.582179</td>\n",
       "      <td>34.609177</td>\n",
       "      <td>0.035790</td>\n",
       "      <td>0.069297</td>\n",
       "      <td>23.763302</td>\n",
       "      <td>9.401381</td>\n",
       "      <td>25.433269</td>\n",
       "      <td>9.767483</td>\n",
       "      <td>0.031363</td>\n",
       "      <td>130.942264</td>\n",
       "      <td>2.292463</td>\n",
       "    </tr>\n",
       "    <tr>\n",
       "      <th>min</th>\n",
       "      <td>19.000000</td>\n",
       "      <td>2.000000</td>\n",
       "      <td>0.000000</td>\n",
       "      <td>4.000000</td>\n",
       "      <td>21.000000</td>\n",
       "      <td>0.174000</td>\n",
       "      <td>0.187000</td>\n",
       "      <td>4.000000</td>\n",
       "      <td>0.000000</td>\n",
       "      <td>8.000000</td>\n",
       "      <td>0.000000</td>\n",
       "      <td>0.146000</td>\n",
       "      <td>201.000000</td>\n",
       "      <td>2009.000000</td>\n",
       "    </tr>\n",
       "    <tr>\n",
       "      <th>25%</th>\n",
       "      <td>26.000000</td>\n",
       "      <td>14.000000</td>\n",
       "      <td>1.000000</td>\n",
       "      <td>24.000000</td>\n",
       "      <td>60.000000</td>\n",
       "      <td>0.303000</td>\n",
       "      <td>0.365000</td>\n",
       "      <td>36.000000</td>\n",
       "      <td>6.000000</td>\n",
       "      <td>32.000000</td>\n",
       "      <td>1.000000</td>\n",
       "      <td>0.240000</td>\n",
       "      <td>298.000000</td>\n",
       "      <td>2010.000000</td>\n",
       "    </tr>\n",
       "    <tr>\n",
       "      <th>50%</th>\n",
       "      <td>28.000000</td>\n",
       "      <td>21.000000</td>\n",
       "      <td>2.000000</td>\n",
       "      <td>35.000000</td>\n",
       "      <td>81.000000</td>\n",
       "      <td>0.325000</td>\n",
       "      <td>0.409000</td>\n",
       "      <td>52.000000</td>\n",
       "      <td>11.000000</td>\n",
       "      <td>49.000000</td>\n",
       "      <td>4.000000</td>\n",
       "      <td>0.260000</td>\n",
       "      <td>417.000000</td>\n",
       "      <td>2013.000000</td>\n",
       "    </tr>\n",
       "    <tr>\n",
       "      <th>75%</th>\n",
       "      <td>31.000000</td>\n",
       "      <td>28.000000</td>\n",
       "      <td>3.000000</td>\n",
       "      <td>51.000000</td>\n",
       "      <td>107.000000</td>\n",
       "      <td>0.349000</td>\n",
       "      <td>0.457000</td>\n",
       "      <td>72.000000</td>\n",
       "      <td>18.000000</td>\n",
       "      <td>70.000000</td>\n",
       "      <td>11.000000</td>\n",
       "      <td>0.282000</td>\n",
       "      <td>532.000000</td>\n",
       "      <td>2014.000000</td>\n",
       "    </tr>\n",
       "    <tr>\n",
       "      <th>max</th>\n",
       "      <td>43.000000</td>\n",
       "      <td>56.000000</td>\n",
       "      <td>16.000000</td>\n",
       "      <td>143.000000</td>\n",
       "      <td>223.000000</td>\n",
       "      <td>0.474000</td>\n",
       "      <td>0.658000</td>\n",
       "      <td>136.000000</td>\n",
       "      <td>54.000000</td>\n",
       "      <td>141.000000</td>\n",
       "      <td>70.000000</td>\n",
       "      <td>0.365000</td>\n",
       "      <td>684.000000</td>\n",
       "      <td>2016.000000</td>\n",
       "    </tr>\n",
       "  </tbody>\n",
       "</table>\n",
       "</div>"
      ],
      "text/plain": [
       "               Age           2B           3B           BB           SO  \\\n",
       "count  2647.000000  2647.000000  2647.000000  2647.000000  2647.000000   \n",
       "mean     28.687193    21.826974     2.306385    39.010956    86.077824   \n",
       "std       4.003730     9.590062     2.405314    20.582179    34.609177   \n",
       "min      19.000000     2.000000     0.000000     4.000000    21.000000   \n",
       "25%      26.000000    14.000000     1.000000    24.000000    60.000000   \n",
       "50%      28.000000    21.000000     2.000000    35.000000    81.000000   \n",
       "75%      31.000000    28.000000     3.000000    51.000000   107.000000   \n",
       "max      43.000000    56.000000    16.000000   143.000000   223.000000   \n",
       "\n",
       "               OBP          SLG            R           HR          RBI  \\\n",
       "count  2647.000000  2647.000000  2647.000000  2647.000000  2647.000000   \n",
       "mean      0.326362     0.413285    54.970533    13.042312    52.760484   \n",
       "std       0.035790     0.069297    23.763302     9.401381    25.433269   \n",
       "min       0.174000     0.187000     4.000000     0.000000     8.000000   \n",
       "25%       0.303000     0.365000    36.000000     6.000000    32.000000   \n",
       "50%       0.325000     0.409000    52.000000    11.000000    49.000000   \n",
       "75%       0.349000     0.457000    72.000000    18.000000    70.000000   \n",
       "max       0.474000     0.658000   136.000000    54.000000   141.000000   \n",
       "\n",
       "                SB           BA           AB         Year  \n",
       "count  2647.000000  2647.000000  2647.000000  2647.000000  \n",
       "mean      7.652437     0.260409   416.784662  2012.499056  \n",
       "std       9.767483     0.031363   130.942264     2.292463  \n",
       "min       0.000000     0.146000   201.000000  2009.000000  \n",
       "25%       1.000000     0.240000   298.000000  2010.000000  \n",
       "50%       4.000000     0.260000   417.000000  2013.000000  \n",
       "75%      11.000000     0.282000   532.000000  2014.000000  \n",
       "max      70.000000     0.365000   684.000000  2016.000000  "
      ]
     },
     "execution_count": 10,
     "metadata": {},
     "output_type": "execute_result"
    }
   ],
   "source": [
    "hittersDF.describe()"
   ]
  },
  {
   "cell_type": "code",
   "execution_count": 11,
   "metadata": {
    "collapsed": false
   },
   "outputs": [
    {
     "name": "stdout",
     "output_type": "stream",
     "text": [
      "Name           0\n",
      "Age            0\n",
      "2B             0\n",
      "3B             0\n",
      "BB             0\n",
      "SO             0\n",
      "OBP            0\n",
      "SLG            0\n",
      "R              0\n",
      "HR             0\n",
      "RBI            0\n",
      "SB             0\n",
      "BA             0\n",
      "AB             0\n",
      "Pos Summary    0\n",
      "Year           0\n",
      "Abbr_Name      0\n",
      "dtype: int64\n"
     ]
    }
   ],
   "source": [
    "print hittersDF.isnull().sum()"
   ]
  },
  {
   "cell_type": "markdown",
   "metadata": {},
   "source": [
    "We see that after cleaning our hitters data we do not have any null values. We did not deliberately drop na values, but we did drop pitchers and players that will not add value in the scope of this project. As a result we have a nice clean dataset. "
   ]
  },
  {
   "cell_type": "markdown",
   "metadata": {},
   "source": [
    "### Pitcher Data\n",
    "\n",
    "We now create a pandas DataFrame that holds the following pitching statistics for players (pitchers only) for the 2010 through 2016 seasons:\n",
    "- Player Name\n",
    "- Strikeouts (K)\n",
    "- Wins (W)\n",
    "- Saves (SV)\n",
    "- Earned Run Average (ERA)\n",
    "- Walks plus Hits per Inning Pitched (WHIP)\n",
    "- Season/Year\n",
    "- Innings Pitched (IP)"
   ]
  },
  {
   "cell_type": "code",
   "execution_count": 12,
   "metadata": {
    "collapsed": false
   },
   "outputs": [],
   "source": [
    "# ================================== CREATE DATAFRAME OF ALL PITCHER INFORMATION =====================================\n",
    "\n",
    "# empty list to append to for each year of information\n",
    "pitchersDF = []\n",
    "# loop through years of interest\n",
    "for year in year_list:\n",
    "    # open the file PlayerData/2016Pitchers (or whatever year)\n",
    "    with open('PlayerData/'+str(year)+'Pitchers') as inFile:\n",
    "        # convert csv file to pandas DataFrame\n",
    "        DF2016 = pd.read_csv(inFile)\n",
    "        # create year column\n",
    "        DF2016[\"Year\"] = year\n",
    "        # append to master list\n",
    "        pitchersDF.append(DF2016)\n",
    "#concatenate master list into pandas DataFrame\n",
    "pitchersDF = pd.concat(pitchersDF)\n",
    "# remove all except columns of interest for our particular project (files have more stats than we are interested in)\n",
    "pitchersDF = pitchersDF[[\"Name\", \"Age\", \"Tm\", \"Year\", \"SO\", \"W\", \"SV\", \"ERA\", \"WHIP\", \"IP\", \"H\", \"BB\", \"FIP\", \"BF\"]]"
   ]
  },
  {
   "cell_type": "markdown",
   "metadata": {},
   "source": [
    "Now that we have all of the pitching data in a Pandas dataframe, we need to clean it. Right now, we have 5,625 rows and 9 columns in our pitchers dataframe. Before we get into the cleaning, here is a sample of what the pitchersDF looks like, and the null values that it contains at this point."
   ]
  },
  {
   "cell_type": "code",
   "execution_count": 13,
   "metadata": {
    "collapsed": false
   },
   "outputs": [
    {
     "data": {
      "text/html": [
       "<div>\n",
       "<table border=\"1\" class=\"dataframe\">\n",
       "  <thead>\n",
       "    <tr style=\"text-align: right;\">\n",
       "      <th></th>\n",
       "      <th>Name</th>\n",
       "      <th>Age</th>\n",
       "      <th>Tm</th>\n",
       "      <th>Year</th>\n",
       "      <th>SO</th>\n",
       "      <th>W</th>\n",
       "      <th>SV</th>\n",
       "      <th>ERA</th>\n",
       "      <th>WHIP</th>\n",
       "      <th>IP</th>\n",
       "      <th>H</th>\n",
       "      <th>BB</th>\n",
       "      <th>FIP</th>\n",
       "      <th>BF</th>\n",
       "    </tr>\n",
       "  </thead>\n",
       "  <tbody>\n",
       "    <tr>\n",
       "      <th>0</th>\n",
       "      <td>Fernando Abad*\\abadfe01</td>\n",
       "      <td>30</td>\n",
       "      <td>TOT</td>\n",
       "      <td>2016</td>\n",
       "      <td>41</td>\n",
       "      <td>1</td>\n",
       "      <td>1</td>\n",
       "      <td>3.66</td>\n",
       "      <td>1.329</td>\n",
       "      <td>46.2</td>\n",
       "      <td>40</td>\n",
       "      <td>22</td>\n",
       "      <td>3.98</td>\n",
       "      <td>198</td>\n",
       "    </tr>\n",
       "    <tr>\n",
       "      <th>1</th>\n",
       "      <td>Fernando Abad*\\abadfe01</td>\n",
       "      <td>30</td>\n",
       "      <td>MIN</td>\n",
       "      <td>2016</td>\n",
       "      <td>29</td>\n",
       "      <td>1</td>\n",
       "      <td>1</td>\n",
       "      <td>2.65</td>\n",
       "      <td>1.206</td>\n",
       "      <td>34.0</td>\n",
       "      <td>27</td>\n",
       "      <td>14</td>\n",
       "      <td>3.44</td>\n",
       "      <td>138</td>\n",
       "    </tr>\n",
       "    <tr>\n",
       "      <th>2</th>\n",
       "      <td>Fernando Abad*\\abadfe01</td>\n",
       "      <td>30</td>\n",
       "      <td>BOS</td>\n",
       "      <td>2016</td>\n",
       "      <td>12</td>\n",
       "      <td>0</td>\n",
       "      <td>0</td>\n",
       "      <td>6.39</td>\n",
       "      <td>1.658</td>\n",
       "      <td>12.2</td>\n",
       "      <td>13</td>\n",
       "      <td>8</td>\n",
       "      <td>5.44</td>\n",
       "      <td>60</td>\n",
       "    </tr>\n",
       "    <tr>\n",
       "      <th>3</th>\n",
       "      <td>A.J. Achter\\achteaj01</td>\n",
       "      <td>27</td>\n",
       "      <td>LAA</td>\n",
       "      <td>2016</td>\n",
       "      <td>14</td>\n",
       "      <td>1</td>\n",
       "      <td>0</td>\n",
       "      <td>3.11</td>\n",
       "      <td>1.460</td>\n",
       "      <td>37.2</td>\n",
       "      <td>43</td>\n",
       "      <td>12</td>\n",
       "      <td>5.85</td>\n",
       "      <td>160</td>\n",
       "    </tr>\n",
       "    <tr>\n",
       "      <th>4</th>\n",
       "      <td>Austin Adams\\adamsau01</td>\n",
       "      <td>29</td>\n",
       "      <td>CLE</td>\n",
       "      <td>2016</td>\n",
       "      <td>17</td>\n",
       "      <td>0</td>\n",
       "      <td>0</td>\n",
       "      <td>9.82</td>\n",
       "      <td>1.855</td>\n",
       "      <td>18.1</td>\n",
       "      <td>27</td>\n",
       "      <td>7</td>\n",
       "      <td>5.98</td>\n",
       "      <td>88</td>\n",
       "    </tr>\n",
       "  </tbody>\n",
       "</table>\n",
       "</div>"
      ],
      "text/plain": [
       "                      Name  Age   Tm  Year  SO  W  SV   ERA   WHIP    IP   H  \\\n",
       "0  Fernando Abad*\\abadfe01   30  TOT  2016  41  1   1  3.66  1.329  46.2  40   \n",
       "1  Fernando Abad*\\abadfe01   30  MIN  2016  29  1   1  2.65  1.206  34.0  27   \n",
       "2  Fernando Abad*\\abadfe01   30  BOS  2016  12  0   0  6.39  1.658  12.2  13   \n",
       "3    A.J. Achter\\achteaj01   27  LAA  2016  14  1   0  3.11  1.460  37.2  43   \n",
       "4   Austin Adams\\adamsau01   29  CLE  2016  17  0   0  9.82  1.855  18.1  27   \n",
       "\n",
       "   BB   FIP   BF  \n",
       "0  22  3.98  198  \n",
       "1  14  3.44  138  \n",
       "2   8  5.44   60  \n",
       "3  12  5.85  160  \n",
       "4   7  5.98   88  "
      ]
     },
     "execution_count": 13,
     "metadata": {},
     "output_type": "execute_result"
    }
   ],
   "source": [
    "pitchersDF.head()"
   ]
  },
  {
   "cell_type": "code",
   "execution_count": 14,
   "metadata": {
    "collapsed": false
   },
   "outputs": [
    {
     "name": "stdout",
     "output_type": "stream",
     "text": [
      "Name    0\n",
      "Age     0\n",
      "Tm      0\n",
      "Year    0\n",
      "SO      0\n",
      "W       0\n",
      "SV      0\n",
      "ERA     2\n",
      "WHIP    6\n",
      "IP      0\n",
      "H       0\n",
      "BB      0\n",
      "FIP     6\n",
      "BF      0\n",
      "dtype: int64\n"
     ]
    }
   ],
   "source": [
    "print pitchersDF.isnull().sum()"
   ]
  },
  {
   "cell_type": "markdown",
   "metadata": {},
   "source": [
    "Again, we have several of the same issues as we saw above in the hitters dataframe. We will make all names lowercase, fix their formatting, and add a column for first initial and last name only. We again drop rows representing trades and keep only player totals across any given season. We will address these issues in the code that follows."
   ]
  },
  {
   "cell_type": "code",
   "execution_count": 15,
   "metadata": {
    "collapsed": false
   },
   "outputs": [],
   "source": [
    "# replace names with corrected version by removing the unnecessary portions that appear in the DF above\n",
    "pitchersDF['Name'] = pitchersDF['Name'].str.replace(r'[*|\\\\|#|\\+].*', '')\n",
    "# convert all names to lower case\n",
    "pitchersDF['Name'] = pitchersDF['Name'].apply(lower_names)\n",
    "# create columns separating out pieces of player names\n",
    "pitchersDF['First'], pitchersDF['First_initial'], pitchersDF['Last'] = \\\n",
    "        pitchersDF['Name'].apply(split_names_first),pitchersDF['Name'].apply(split_names_first_initial),\\\n",
    "        pitchersDF['Name'].apply(split_names_last)\n",
    "pitchersDF['Abbr_Name'] = pitchersDF['First_initial'] + ' ' + pitchersDF['Last']\n",
    "del pitchersDF['First'], pitchersDF['First_initial'], pitchersDF['Last']\n",
    "\n",
    "# drop duplicates - default is to keep first occurence\n",
    "for yr in year_list:\n",
    "    pitchersDF[pitchersDF[\"Year\"] == yr] = pitchersDF[pitchersDF[\"Year\"] == yr].drop_duplicates('Name')\n",
    "# drop rows with null values in the Name column\n",
    "pitchersDF = pitchersDF.dropna(subset = [\"Name\"], axis=0)\n",
    "# drop Team column\n",
    "pitchersDF = pitchersDF.drop(\"Tm\", axis=1)"
   ]
  },
  {
   "cell_type": "markdown",
   "metadata": {},
   "source": [
    "We had a few missing data points in the pitchers dataframe. In every case, the pitchers for which this occurred had no statistics for the given season. Thus, we dropped those pitchers from the dataframe for the respective years, especially because this only occured for 6 observations out of about 5,600. Lastly, we drop pitchers with fewer than 25 innings pitched in a given season, as these are not going to be significant players in the given season."
   ]
  },
  {
   "cell_type": "code",
   "execution_count": 16,
   "metadata": {
    "collapsed": true
   },
   "outputs": [],
   "source": [
    "# Drop rows where pitcher had no stats recorded for the year\n",
    "pitchersDF = pitchersDF[pitchersDF.ERA.notnull()]\n",
    "pitchersDF = pitchersDF[pitchersDF.WHIP.notnull()]\n",
    "# Drop pitchers with fewer than 25 innings pitched in a given season\n",
    "pitchersDF = pitchersDF[pitchersDF[\"IP\"] > 25]\n",
    "# Reset the index values\n",
    "pitchersDF = pitchersDF.reset_index(drop=True)"
   ]
  },
  {
   "cell_type": "code",
   "execution_count": 17,
   "metadata": {
    "collapsed": false
   },
   "outputs": [],
   "source": [
    "# Assign columns to the correct datatypes\n",
    "pitchersDF[\"Name\"] = pitchersDF[\"Name\"].astype(str)\n",
    "pitchersDF[\"Year\"] = pitchersDF[\"Year\"].astype(int)\n",
    "pitchersDF[\"SO\"] = pitchersDF[\"SO\"].astype(int)\n",
    "pitchersDF[\"W\"] = pitchersDF[\"W\"].astype(int)\n",
    "pitchersDF[\"SV\"] = pitchersDF[\"SV\"].astype(int)\n",
    "pitchersDF[\"Abbr_Name\"] = pitchersDF[\"Abbr_Name\"].astype(str)"
   ]
  },
  {
   "cell_type": "markdown",
   "metadata": {},
   "source": [
    "With all of these corrections, our pitchers dataframe is ready to use. We now have 3,157 rows and 8 columns. Here is a cleaned sample:"
   ]
  },
  {
   "cell_type": "code",
   "execution_count": 18,
   "metadata": {
    "collapsed": false
   },
   "outputs": [
    {
     "data": {
      "text/html": [
       "<div>\n",
       "<table border=\"1\" class=\"dataframe\">\n",
       "  <thead>\n",
       "    <tr style=\"text-align: right;\">\n",
       "      <th></th>\n",
       "      <th>Name</th>\n",
       "      <th>Age</th>\n",
       "      <th>Year</th>\n",
       "      <th>SO</th>\n",
       "      <th>W</th>\n",
       "      <th>SV</th>\n",
       "      <th>ERA</th>\n",
       "      <th>WHIP</th>\n",
       "      <th>IP</th>\n",
       "      <th>H</th>\n",
       "      <th>BB</th>\n",
       "      <th>FIP</th>\n",
       "      <th>BF</th>\n",
       "      <th>Abbr_Name</th>\n",
       "    </tr>\n",
       "  </thead>\n",
       "  <tbody>\n",
       "    <tr>\n",
       "      <th>0</th>\n",
       "      <td>fernando abad</td>\n",
       "      <td>30.0</td>\n",
       "      <td>2016</td>\n",
       "      <td>41</td>\n",
       "      <td>1</td>\n",
       "      <td>1</td>\n",
       "      <td>3.66</td>\n",
       "      <td>1.329</td>\n",
       "      <td>46.2</td>\n",
       "      <td>40.0</td>\n",
       "      <td>22.0</td>\n",
       "      <td>3.98</td>\n",
       "      <td>198.0</td>\n",
       "      <td>f. abad</td>\n",
       "    </tr>\n",
       "    <tr>\n",
       "      <th>1</th>\n",
       "      <td>a.j. achter</td>\n",
       "      <td>27.0</td>\n",
       "      <td>2016</td>\n",
       "      <td>14</td>\n",
       "      <td>1</td>\n",
       "      <td>0</td>\n",
       "      <td>3.11</td>\n",
       "      <td>1.460</td>\n",
       "      <td>37.2</td>\n",
       "      <td>43.0</td>\n",
       "      <td>12.0</td>\n",
       "      <td>5.85</td>\n",
       "      <td>160.0</td>\n",
       "      <td>a. achter</td>\n",
       "    </tr>\n",
       "    <tr>\n",
       "      <th>2</th>\n",
       "      <td>tim adleman</td>\n",
       "      <td>28.0</td>\n",
       "      <td>2016</td>\n",
       "      <td>47</td>\n",
       "      <td>4</td>\n",
       "      <td>0</td>\n",
       "      <td>4.00</td>\n",
       "      <td>1.206</td>\n",
       "      <td>69.2</td>\n",
       "      <td>64.0</td>\n",
       "      <td>20.0</td>\n",
       "      <td>5.30</td>\n",
       "      <td>287.0</td>\n",
       "      <td>t. adleman</td>\n",
       "    </tr>\n",
       "    <tr>\n",
       "      <th>3</th>\n",
       "      <td>matt albers</td>\n",
       "      <td>33.0</td>\n",
       "      <td>2016</td>\n",
       "      <td>30</td>\n",
       "      <td>2</td>\n",
       "      <td>0</td>\n",
       "      <td>6.31</td>\n",
       "      <td>1.675</td>\n",
       "      <td>51.1</td>\n",
       "      <td>67.0</td>\n",
       "      <td>19.0</td>\n",
       "      <td>5.80</td>\n",
       "      <td>237.0</td>\n",
       "      <td>m. albers</td>\n",
       "    </tr>\n",
       "    <tr>\n",
       "      <th>4</th>\n",
       "      <td>cody allen</td>\n",
       "      <td>27.0</td>\n",
       "      <td>2016</td>\n",
       "      <td>87</td>\n",
       "      <td>3</td>\n",
       "      <td>32</td>\n",
       "      <td>2.51</td>\n",
       "      <td>1.000</td>\n",
       "      <td>68.0</td>\n",
       "      <td>41.0</td>\n",
       "      <td>27.0</td>\n",
       "      <td>3.31</td>\n",
       "      <td>264.0</td>\n",
       "      <td>c. allen</td>\n",
       "    </tr>\n",
       "  </tbody>\n",
       "</table>\n",
       "</div>"
      ],
      "text/plain": [
       "            Name   Age  Year  SO  W  SV   ERA   WHIP    IP     H    BB   FIP  \\\n",
       "0  fernando abad  30.0  2016  41  1   1  3.66  1.329  46.2  40.0  22.0  3.98   \n",
       "1    a.j. achter  27.0  2016  14  1   0  3.11  1.460  37.2  43.0  12.0  5.85   \n",
       "2    tim adleman  28.0  2016  47  4   0  4.00  1.206  69.2  64.0  20.0  5.30   \n",
       "3    matt albers  33.0  2016  30  2   0  6.31  1.675  51.1  67.0  19.0  5.80   \n",
       "4     cody allen  27.0  2016  87  3  32  2.51  1.000  68.0  41.0  27.0  3.31   \n",
       "\n",
       "      BF   Abbr_Name  \n",
       "0  198.0     f. abad  \n",
       "1  160.0   a. achter  \n",
       "2  287.0  t. adleman  \n",
       "3  237.0   m. albers  \n",
       "4  264.0    c. allen  "
      ]
     },
     "execution_count": 18,
     "metadata": {},
     "output_type": "execute_result"
    }
   ],
   "source": [
    "pitchersDF.head()"
   ]
  },
  {
   "cell_type": "markdown",
   "metadata": {},
   "source": [
    "Here is a table of some basic summary statistics for the dataset of actual pitcher statistics as well. It can be seen from the summary statistics that nothing seems out of range, and the values reported make sense given the context."
   ]
  },
  {
   "cell_type": "code",
   "execution_count": 19,
   "metadata": {
    "collapsed": false
   },
   "outputs": [
    {
     "data": {
      "text/html": [
       "<div>\n",
       "<table border=\"1\" class=\"dataframe\">\n",
       "  <thead>\n",
       "    <tr style=\"text-align: right;\">\n",
       "      <th></th>\n",
       "      <th>Age</th>\n",
       "      <th>Year</th>\n",
       "      <th>SO</th>\n",
       "      <th>W</th>\n",
       "      <th>SV</th>\n",
       "      <th>ERA</th>\n",
       "      <th>WHIP</th>\n",
       "      <th>IP</th>\n",
       "      <th>H</th>\n",
       "      <th>BB</th>\n",
       "      <th>FIP</th>\n",
       "      <th>BF</th>\n",
       "    </tr>\n",
       "  </thead>\n",
       "  <tbody>\n",
       "    <tr>\n",
       "      <th>count</th>\n",
       "      <td>3607.000000</td>\n",
       "      <td>3607.000000</td>\n",
       "      <td>3607.000000</td>\n",
       "      <td>3607.000000</td>\n",
       "      <td>3607.000000</td>\n",
       "      <td>3607.000000</td>\n",
       "      <td>3607.000000</td>\n",
       "      <td>3607.000000</td>\n",
       "      <td>3607.000000</td>\n",
       "      <td>3607.000000</td>\n",
       "      <td>3607.000000</td>\n",
       "      <td>3607.000000</td>\n",
       "    </tr>\n",
       "    <tr>\n",
       "      <th>mean</th>\n",
       "      <td>28.252564</td>\n",
       "      <td>2012.553368</td>\n",
       "      <td>75.792903</td>\n",
       "      <td>5.204879</td>\n",
       "      <td>2.727474</td>\n",
       "      <td>3.995761</td>\n",
       "      <td>1.326870</td>\n",
       "      <td>90.604464</td>\n",
       "      <td>87.655670</td>\n",
       "      <td>30.487386</td>\n",
       "      <td>4.017444</td>\n",
       "      <td>384.876074</td>\n",
       "    </tr>\n",
       "    <tr>\n",
       "      <th>std</th>\n",
       "      <td>4.104058</td>\n",
       "      <td>2.297571</td>\n",
       "      <td>51.230825</td>\n",
       "      <td>4.437449</td>\n",
       "      <td>8.327682</td>\n",
       "      <td>1.324327</td>\n",
       "      <td>0.229476</td>\n",
       "      <td>58.628642</td>\n",
       "      <td>58.182512</td>\n",
       "      <td>18.695380</td>\n",
       "      <td>0.968475</td>\n",
       "      <td>244.190186</td>\n",
       "    </tr>\n",
       "    <tr>\n",
       "      <th>min</th>\n",
       "      <td>19.000000</td>\n",
       "      <td>2009.000000</td>\n",
       "      <td>7.000000</td>\n",
       "      <td>0.000000</td>\n",
       "      <td>0.000000</td>\n",
       "      <td>0.450000</td>\n",
       "      <td>0.565000</td>\n",
       "      <td>25.100000</td>\n",
       "      <td>11.000000</td>\n",
       "      <td>2.000000</td>\n",
       "      <td>0.780000</td>\n",
       "      <td>90.000000</td>\n",
       "    </tr>\n",
       "    <tr>\n",
       "      <th>25%</th>\n",
       "      <td>25.000000</td>\n",
       "      <td>2011.000000</td>\n",
       "      <td>38.000000</td>\n",
       "      <td>2.000000</td>\n",
       "      <td>0.000000</td>\n",
       "      <td>3.090000</td>\n",
       "      <td>1.176500</td>\n",
       "      <td>47.200000</td>\n",
       "      <td>44.000000</td>\n",
       "      <td>17.000000</td>\n",
       "      <td>3.370000</td>\n",
       "      <td>205.000000</td>\n",
       "    </tr>\n",
       "    <tr>\n",
       "      <th>50%</th>\n",
       "      <td>27.000000</td>\n",
       "      <td>2013.000000</td>\n",
       "      <td>59.000000</td>\n",
       "      <td>4.000000</td>\n",
       "      <td>0.000000</td>\n",
       "      <td>3.860000</td>\n",
       "      <td>1.315000</td>\n",
       "      <td>66.200000</td>\n",
       "      <td>62.000000</td>\n",
       "      <td>25.000000</td>\n",
       "      <td>3.970000</td>\n",
       "      <td>279.000000</td>\n",
       "    </tr>\n",
       "    <tr>\n",
       "      <th>75%</th>\n",
       "      <td>31.000000</td>\n",
       "      <td>2015.000000</td>\n",
       "      <td>101.000000</td>\n",
       "      <td>7.000000</td>\n",
       "      <td>1.000000</td>\n",
       "      <td>4.750000</td>\n",
       "      <td>1.463000</td>\n",
       "      <td>130.200000</td>\n",
       "      <td>131.000000</td>\n",
       "      <td>41.000000</td>\n",
       "      <td>4.620000</td>\n",
       "      <td>561.000000</td>\n",
       "    </tr>\n",
       "    <tr>\n",
       "      <th>max</th>\n",
       "      <td>49.000000</td>\n",
       "      <td>2016.000000</td>\n",
       "      <td>301.000000</td>\n",
       "      <td>24.000000</td>\n",
       "      <td>51.000000</td>\n",
       "      <td>10.690000</td>\n",
       "      <td>2.374000</td>\n",
       "      <td>251.000000</td>\n",
       "      <td>262.000000</td>\n",
       "      <td>105.000000</td>\n",
       "      <td>9.230000</td>\n",
       "      <td>1009.000000</td>\n",
       "    </tr>\n",
       "  </tbody>\n",
       "</table>\n",
       "</div>"
      ],
      "text/plain": [
       "               Age         Year           SO            W           SV  \\\n",
       "count  3607.000000  3607.000000  3607.000000  3607.000000  3607.000000   \n",
       "mean     28.252564  2012.553368    75.792903     5.204879     2.727474   \n",
       "std       4.104058     2.297571    51.230825     4.437449     8.327682   \n",
       "min      19.000000  2009.000000     7.000000     0.000000     0.000000   \n",
       "25%      25.000000  2011.000000    38.000000     2.000000     0.000000   \n",
       "50%      27.000000  2013.000000    59.000000     4.000000     0.000000   \n",
       "75%      31.000000  2015.000000   101.000000     7.000000     1.000000   \n",
       "max      49.000000  2016.000000   301.000000    24.000000    51.000000   \n",
       "\n",
       "               ERA         WHIP           IP            H           BB  \\\n",
       "count  3607.000000  3607.000000  3607.000000  3607.000000  3607.000000   \n",
       "mean      3.995761     1.326870    90.604464    87.655670    30.487386   \n",
       "std       1.324327     0.229476    58.628642    58.182512    18.695380   \n",
       "min       0.450000     0.565000    25.100000    11.000000     2.000000   \n",
       "25%       3.090000     1.176500    47.200000    44.000000    17.000000   \n",
       "50%       3.860000     1.315000    66.200000    62.000000    25.000000   \n",
       "75%       4.750000     1.463000   130.200000   131.000000    41.000000   \n",
       "max      10.690000     2.374000   251.000000   262.000000   105.000000   \n",
       "\n",
       "               FIP           BF  \n",
       "count  3607.000000  3607.000000  \n",
       "mean      4.017444   384.876074  \n",
       "std       0.968475   244.190186  \n",
       "min       0.780000    90.000000  \n",
       "25%       3.370000   205.000000  \n",
       "50%       3.970000   279.000000  \n",
       "75%       4.620000   561.000000  \n",
       "max       9.230000  1009.000000  "
      ]
     },
     "execution_count": 19,
     "metadata": {},
     "output_type": "execute_result"
    }
   ],
   "source": [
    "pitchersDF.describe()"
   ]
  },
  {
   "cell_type": "markdown",
   "metadata": {},
   "source": [
    "As shown below, we now have a nice clean pitchers dataset, free of null values."
   ]
  },
  {
   "cell_type": "code",
   "execution_count": 20,
   "metadata": {
    "collapsed": false
   },
   "outputs": [
    {
     "name": "stdout",
     "output_type": "stream",
     "text": [
      "Name         0\n",
      "Age          0\n",
      "Year         0\n",
      "SO           0\n",
      "W            0\n",
      "SV           0\n",
      "ERA          0\n",
      "WHIP         0\n",
      "IP           0\n",
      "H            0\n",
      "BB           0\n",
      "FIP          0\n",
      "BF           0\n",
      "Abbr_Name    0\n",
      "dtype: int64\n"
     ]
    }
   ],
   "source": [
    "print pitchersDF.isnull().sum()"
   ]
  },
  {
   "cell_type": "markdown",
   "metadata": {},
   "source": [
    "## Statistical Projection Data"
   ]
  },
  {
   "cell_type": "markdown",
   "metadata": {},
   "source": [
    "We will scrape statistical projections for each of the seasons 2010-2015 from FanGraphs, Steamer, Guru, Marcel, CBS, and ESPN. We follow the same pattern for all 6 of the prediction methods. So, rather than printing out an example of each dataframe, its size, its null values, etc., we will give the summary of each dataframe here and explain any issues that arose. Then, we will go through the cleaning process for the Marcel dataframe in detail, which outlines the process we followed for the other 5 prediction methods. The rest will simply follow in code.\n",
    "\n",
    "- Marcel: \n",
    "    - This dataset was the hardest to clean. The dataset had a lot of features that are irrelevant to our problem, but this dataset was also missing two integral features: AVG and WHIP. We were able to engineer these features from the other features provided from this dataset. \n",
    "    - The pitchers dataframe was missing Saves for about 350 rows of the 2,000 rows of data. \n",
    "    - After cleaning, the hitters dataframe has about 1,800 rows and the pitchers has about 2,300 rows, which is 300/year and 380/year, respectively.\n",
    "- Fangraphs:\n",
    "    - Fangraphs did not predict saves for 2010 and 2011.\n",
    "    - After cleaning, the pitchers dataframe has about 1,500 rows and the hitters dataframe has about 1,200 rows. \n",
    "- Steamer:\n",
    "    - Steamer was the largest dataset at the outset. This is because it predicted statistics for every possible player. \n",
    "    - Steamer did not predict Saves.\n",
    "    - After cleaning, the hitters dataframe has about 1,900 rows and the pitchers dataframe has about 2,500 rows.\n",
    "- Guru:\n",
    "    - For non-closers, the Guru data had \"-\" for saves instead of 0's. So, we replaced those.\n",
    "    - Guru had about 300 rows of missing data. However, on inspection of these players we found that these players are minimal playing time players and bench players, thus they will not be important for fantasy baseball as only the top 300-400 players are drafted. So, we dropped those players and were left with no missing values.\n",
    "    - After cleaning, the hitters dataframe has about 1,600 rows and the pitchers dataframe has about 2,300 rows.\n",
    "- ESPN: \n",
    "    - ESPN is missing Saves for 1 year.\n",
    "    - ESPN, like Guru, included some players of minor importance and instead of being Nan values they had \"--\". We treated this like Nan values and again dropped them because they are not of importance for fantasy baseball purposes. \n",
    "    - After cleaning, the hitters dataframe has about 1,800 rows and the pitchers dataframe has about 1,800 rows.\n",
    "- CBS:\n",
    "    - CBS is missing Runs for 1 year.\n",
    "    - After cleaning, the hitters dataframe has about 1,800 rows and the pitchers dataframe has about 1,800 rows.\n",
    "\n",
    "As mentioned above, a few of the projection methods did not predict Saves or are missing Saves for a season or two. This will not be a serious issue for us, as we plan to run models on each statistic seperately. So, in the case of Steamer (no Saves predictions), we simply won't include this method when we try to determine who the best is at predicting Saves. As for the methods that are missing Saves for a couple of seasons, or CBS is missing runs for a season, this will not be a showstopper. There is no way to engineer these values as they are created from a specific model that we do not have access to, doing so would skew our data greatly, and in the case of Saves they are completely independent of the other statistics. So, we won't include that year when analyzing that particular statistic, i.e. Fangraphs is missing saves for 2010, so we won't include Fangraphs 2010 when measuring Fangraphs ability to predict saves. We do not drop these years or rows entirely as they still contain the predictions of the other statistics and provide extreme value. \n",
    "\n",
    "Another note about the data is the size of our dataframes. While we would ideally like to have more datapoints, prediction data is hard to obtain. Plus, most predictions are only concerned with the top 300 players, so for 6 years that is only 1,800 rows of data. We were able to obtain predictions for the years 2010-2015, which results in about 1,400-2,100 rows of data for each dataframe. These are not as large as we like, but we will still move forward. In addition, we were unable to acquire projections for 2016. This data was not available anywhere. While unfortunate, this does not restrict our methods or models we plan on using, but it is important to note. We have not obtained the 2017 predictions yet as they have not all been published, because spring training is currently happening and that affects some of the prediction methods. We will obtain this data in a couple of weeks when spring training is completed and the predictions are completed. Also, while we are watching for these to appear, we will keep an eye open for the 2016 data.\n",
    "\n",
    "While our dataset is smaller than what is ideal, and we do not have 2016 projections, we can be sure that this data is very reliable. First off, our official statistics dataframes come from baseball-reference.com, which is the leading site in baseball statistics. Every baseball site, blog, and analyst including the leaders such as ESPN, CBS sports, Fox Sports, etc. use baseball-reference.com. The actual projections come from the various websites and many articles on Bleacher Report, Razzball, Fantasy Pros, etc. reference these different projection methods. So, we assume that these are reliable data. A potential bias could occur, if, say ESPN went back and changed their projections for previous years to appear more accurate. However, we believe this will not be an issue as we obtained the data from a 3rd party that does not have immediate ties to any of the 6 projection methods. This 3rd party is reliable as it is referenced in many articles from the leading sports pages."
   ]
  },
  {
   "cell_type": "code",
   "execution_count": 21,
   "metadata": {
    "collapsed": true
   },
   "outputs": [],
   "source": [
    "# list for looping through seasons in cleaning\n",
    "season = np.arange(2010,2016)"
   ]
  },
  {
   "cell_type": "markdown",
   "metadata": {},
   "source": [
    "We realized that we did not have need for predictions for every single player in the MLB because our league will only draft a given number of players.  As such, we chose to use the hitters and pitchers with at bats and pitches above a given threshold.  Using this list of players for every given year we created a mask and selected these players from each of our 6 sites.  Due to naming conventions we had to use an extra function to check matching names on both a complete name basis as well as using a first initial and last name on the subset of names leftover from the first check."
   ]
  },
  {
   "cell_type": "code",
   "execution_count": 22,
   "metadata": {
    "collapsed": true
   },
   "outputs": [],
   "source": [
    "#Rename the statistics in the hittersDF so we can differentiate the actual and predicted statistics when we merge\n",
    "hittersDF = hittersDF.rename(columns = {'Year':'Season', 'R' : 'actual_R', 'HR' : \"actual_HR\", \\\n",
    "                                        'RBI': 'actual_RBI', 'SB': 'actual_SB', 'BA': 'actual_AVG', 'AB':'actual_AB',\\\n",
    "                                       '2B': 'actual_2B', '3B': 'actual_3B', 'Age': 'actual_age', 'BB': 'actual_BB',\\\n",
    "                                       'OBP': 'actual_OBP', 'SLG': 'actual_SLG', 'SO': 'actual_SO'})\n",
    "\n",
    "#Rename the statistics in the pitchersDF so we can differentiate the actual and predicted statistics when we merge\n",
    "pitchersDF = pitchersDF.rename(columns = {'Year':'Season', 'SO' : 'actual_K', 'W' : \"actual_W\", 'ERA': 'actual_ERA',\\\n",
    "                                          'WHIP': 'actual_WHIP', 'IP': 'actual_IP', 'SV':'actual_SV', \\\n",
    "                                          'FIP':'actual_FIP', 'BB': 'actual_BB', 'BF': 'actual_BF', 'H': 'actual_H'})"
   ]
  },
  {
   "cell_type": "code",
   "execution_count": 23,
   "metadata": {
    "collapsed": true
   },
   "outputs": [],
   "source": [
    "def find_names(df, site_df, season=season):\n",
    "    \n",
    "    # we create blank data frames that we will be using to store the necessary data, we might need to work on naming\n",
    "    #     conventions...\n",
    "    \n",
    "    # dataframe containing Name hits from both the site DFs and the PlayerData DFs\n",
    "    new_site_df_1 = pd.DataFrame()\n",
    "    \n",
    "    # dataframe containing Name hits NOT IN PlayerData DF\n",
    "    not_site_df_1 = pd.DataFrame()\n",
    "    \n",
    "    # dataframe containing names in PlayerData DF and not the site DF\n",
    "    allyson_not = pd.DataFrame()\n",
    "    \n",
    "    # Observe these next three dataframes are to see the same information as before but for Abbr_Name and within the\n",
    "    #     intersection of the previous dataframes\n",
    "    new_site_df_2 = pd.DataFrame()\n",
    "    not_site_df_2 = pd.DataFrame()\n",
    "    allyson_not_site = pd.DataFrame()\n",
    "\n",
    "    \n",
    "    # loop through every season.  Observe a couple sites are missing data for different seasons which is why we allow\n",
    "    #     the user to pass in the appropriate seasons they wish to use.\n",
    "    for i in season:\n",
    "        \n",
    "        # checking for names that exist in both pitchersDF and espn_pitchers\n",
    "        dfcheck = df[df['Season']==i]\n",
    "        site_df_check = site_df[site_df['Season']==i]\n",
    "\n",
    "        # we were using more complex 'isin' checks but opted to just use a pd.merge because we eventually needed to \n",
    "        #     combine the site data with the actual player DF, same applies to code below\n",
    "        df_subset_1_TEST = pd.merge(site_df_check, dfcheck, on=['Name', 'Season'])\n",
    "        new_site_df_1 = new_site_df_1.append(df_subset_1_TEST)\n",
    "        ####df_subset_1 = site_df[(site_df['Name'].isin(dfcheck['Name'])) & (site_df['Season']==i)]\n",
    "        ####new_site_df_1 = new_site_df_1.append(df_subset_1)        \n",
    "        \n",
    "        not_df_subset_1 = site_df[(site_df['Name'].isin(dfcheck['Name'])==False) & (site_df['Season']==i)]\n",
    "        not_site_df_1 = not_site_df_1.append(not_df_subset_1)\n",
    "\n",
    "        not_allyson_subset = df[(df['Name'].isin(site_df_check['Name'])==False)& (df['Season']==i)]\n",
    "        allyson_not = allyson_not.append(not_allyson_subset)\n",
    "\n",
    "        # checking for names that did not exist in both pitchersDF and source, but do match first initials\n",
    "        allysoncheck = allyson_not[allyson_not['Season']==i]\n",
    "        sitecheck = not_site_df_1[not_site_df_1['Season']==i]\n",
    "\n",
    "        site_df_subset_TEST = pd.merge(not_site_df_1, allysoncheck, on=['Abbr_Name', 'Season'])\n",
    "        new_site_df_2 = new_site_df_2.append(site_df_subset_TEST)\n",
    "        ####site_df_subset = not_site_df_1[(not_site_df_1['Abbr_Name'].isin(allysoncheck['Abbr_Name'])) & \\\n",
    "        ####                               (not_site_df_1['Season']==i)]\n",
    "        ####new_site_df_2 = new_site_df_2.append(site_df_subset)\n",
    "\n",
    "        not_df_subset_2 = not_site_df_1[(not_site_df_1['Abbr_Name'].isin(allysoncheck['Abbr_Name'])==False) & \\\n",
    "                                        (not_site_df_1['Season']==i)]\n",
    "        not_site_df_2 = not_site_df_2.append(not_df_subset_2)\n",
    "\n",
    "        not_allyson_subset_2 = allyson_not[(allyson_not['Abbr_Name'].isin(sitecheck['Abbr_Name'])==False)& \\\n",
    "                                           (allyson_not['Season']==i)]\n",
    "        allyson_not_site = allyson_not_site.append(not_allyson_subset_2)\n",
    "\n",
    "        \n",
    "    # observe that because we did not merge on all columns with a common name we ended up with several columns\n",
    "    #     with a naming convention such as '_y' so we use some regex to clean these up for applicable dataframes\n",
    "    \n",
    "    for col in new_site_df_1.columns:\n",
    "        if '_x' in col:\n",
    "            new_site_df_1[col[:-2]] = new_site_df_1[col]\n",
    "    for col in new_site_df_2.columns:\n",
    "        if '_x' in col:\n",
    "            new_site_df_2[col[:-2]] = new_site_df_2[col]\n",
    "    \n",
    "    new_site_df_1 = new_site_df_1.select(lambda x: not re.search(r'.*\\_y', x), axis=1)\n",
    "    new_site_df_2 = new_site_df_2.select(lambda x: not re.search(r'.*\\_y', x), axis=1)\n",
    "    \n",
    "    new_site_df_1 = new_site_df_1.select(lambda x: not re.search(r'.*\\_x', x), axis=1)\n",
    "    new_site_df_2 = new_site_df_2.select(lambda x: not re.search(r'.*\\_x', x), axis=1)\n",
    "    \n",
    "    # observe we are returning 6 components but only use 2 for our final dataframes.  The reason for these extra \n",
    "    #     dataframes was for checking to ensure our function was properly working\n",
    "    return new_site_df_1, not_site_df_1, allyson_not, new_site_df_2, not_site_df_2, allyson_not_site\n",
    "\n",
    "#### signifies code we are not currently using but might need in the future"
   ]
  },
  {
   "cell_type": "code",
   "execution_count": 24,
   "metadata": {
    "collapsed": false
   },
   "outputs": [],
   "source": [
    "def find_names2(df, site_df, season=season):\n",
    "    site_df_replace = site_df.copy()\n",
    "    df['Prediction_Season'] = df['Season']+1\n",
    "    site_df_replace['Prediction_Season'] = site_df['Season']\n",
    "    \n",
    "    for col in site_df_replace.columns:\n",
    "        if 'actual_' in col:\n",
    "            del site_df_replace[col]\n",
    "    \n",
    "    # this is the the same as find_names but is combining the current year's predictions with the previous year's \n",
    "    #     actual statistics\n",
    "    \n",
    "    #print df[df['Abbr_Name']=='a. pujols'][['Abbr_Name', 'actual_HR', 'Prediction_Season']]\n",
    "    \n",
    "    # we create blank data frames that we will be using to store the necessary data, we might need to work on naming\n",
    "    #     conventions...\n",
    "    \n",
    "    # dataframe containing Name hits from both the site DFs and the PlayerData DFs\n",
    "    new_site_df_1 = pd.DataFrame()\n",
    "    new_site_df_new_stats_1 = pd.DataFrame()\n",
    "    \n",
    "    # dataframe containing Name hits NOT IN PlayerData DF\n",
    "    not_site_df_1 = pd.DataFrame()\n",
    "    \n",
    "    # dataframe containing names in PlayerData DF and not the site DF\n",
    "    allyson_not = pd.DataFrame()\n",
    "    \n",
    "    # Observe these next three dataframes are to see the same information as before but for Abbr_Name and within the\n",
    "    #     intersection of the previous dataframes\n",
    "    new_site_df_2 = pd.DataFrame()\n",
    "    \n",
    "    new_site_df_new_stats_2 = pd.DataFrame()\n",
    "    \n",
    "    not_site_df_2 = pd.DataFrame()\n",
    "    allyson_not_site = pd.DataFrame()\n",
    "\n",
    "    \n",
    "    # loop through every season.  Observe a couple sites are missing data for different seasons which is why we allow\n",
    "    #     the user to pass in the appropriate seasons they wish to use.\n",
    "    for i in season:\n",
    "        \n",
    "        # checking for names that exist in both pitchersDF and espn_pitchers\n",
    "        dfcheck = df[df['Prediction_Season']==i]\n",
    "        site_df_check = site_df_replace[site_df_replace['Prediction_Season']==i]\n",
    "        \n",
    "        #dfcheck_new_stats = df[df['Season']==i-1]\n",
    "        #site_df_check_new_stats = site_df[site_df['Season']==i]\n",
    "\n",
    "        # we were using more complex 'isin' checks but opted to just use a pd.merge because we eventually needed to \n",
    "        #     combine the site data with the actual player DF, same applies to code below\n",
    "        df_subset_1_TEST = pd.merge(site_df_check, dfcheck, on=['Name', 'Prediction_Season'])\n",
    "        new_site_df_1 = new_site_df_1.append(df_subset_1_TEST)\n",
    "        \n",
    "        #df_subset_1_TEST_new_stats = pd.merge(site_df_check, dfcheck_new_stats, on=['Name', 'Prediction_season'])\n",
    "        #new_site_df_new_stats_1 = new_site_df_new_stats_1.append(df_subset_1_TEST_new_stats)\n",
    "        ####df_subset_1 = site_df[(site_df['Name'].isin(dfcheck['Name'])) & (site_df['Season']==i)]\n",
    "        ####new_site_df_1 = new_site_df_1.append(df_subset_1)        \n",
    "        \n",
    "        not_df_subset_1 = site_df_replace[(site_df_replace['Name'].isin(dfcheck['Name'])==False) & (site_df_replace['Prediction_Season']==i)]\n",
    "        not_site_df_1 = not_site_df_1.append(not_df_subset_1)\n",
    "\n",
    "        not_allyson_subset = df[(df['Name'].isin(site_df_check['Name'])==False) & (df['Prediction_Season']==i)]\n",
    "        allyson_not = allyson_not.append(not_allyson_subset)\n",
    "        \n",
    "        ####not_ally_subset_new = df[(df['Name'].isin(site_df_check_new_stats['Name'])==False) & df[]]\n",
    "        \n",
    "        \n",
    "        # checking for names that did not exist in both pitchersDF and source, but do match first initials\n",
    "        allysoncheck = allyson_not[allyson_not['Prediction_Season']==i]\n",
    "        sitecheck = not_site_df_1[not_site_df_1['Prediction_Season']==i]\n",
    "        \n",
    "\n",
    "        site_df_subset_TEST = pd.merge(not_site_df_1, allysoncheck, on=['Abbr_Name', 'Prediction_Season'])\n",
    "        new_site_df_2 = new_site_df_2.append(site_df_subset_TEST)\n",
    "        \n",
    "        #site_df_subset_TEST_new_stats = pd.merge(not_site_df_1, allysoncheck, on=['Abbr_Name', 'Prediction_season'])\n",
    "        #new_site_df_new_stats_2 = new_site_df_2.append(site_df_subset_TEST)\n",
    "        ####site_df_subset = not_site_df_1[(not_site_df_1['Abbr_Name'].isin(allysoncheck['Abbr_Name'])) & \\\n",
    "        ####                               (not_site_df_1['Season']==i)]\n",
    "        ####new_site_df_2 = new_site_df_2.append(site_df_subset)\n",
    "\n",
    "        not_df_subset_2 = not_site_df_1[(not_site_df_1['Abbr_Name'].isin(allysoncheck['Abbr_Name'])==False) & \\\n",
    "                                        (not_site_df_1['Prediction_Season']==i)]\n",
    "        not_site_df_2 = not_site_df_2.append(not_df_subset_2)\n",
    "\n",
    "        not_allyson_subset_2 = allyson_not[(allyson_not['Abbr_Name'].isin(sitecheck['Abbr_Name'])==False)& \\\n",
    "                                           (allyson_not['Prediction_Season']==i)]\n",
    "        allyson_not_site = allyson_not_site.append(not_allyson_subset_2)\n",
    "\n",
    "        \n",
    "    # observe that because we did not merge on all columns with a common name we ended up with several columns\n",
    "    #     with a naming convention such as '_y' so we use some regex to clean these up for applicable dataframes\n",
    "    \n",
    "    for col in new_site_df_1.columns:\n",
    "        if '_x' in col:\n",
    "            new_site_df_1[col[:-2]] = new_site_df_1[col]\n",
    "    for col in new_site_df_2.columns:\n",
    "        if '_x' in col:\n",
    "            new_site_df_2[col[:-2]] = new_site_df_2[col]\n",
    "\n",
    "    new_site_df_1 = new_site_df_1.select(lambda x: not re.search(r'.*\\_y', x), axis=1)\n",
    "    new_site_df_1 = new_site_df_1.select(lambda x: not re.search(r'.*\\_x', x), axis=1)\n",
    "    \n",
    "    new_site_df_2 = new_site_df_2.select(lambda x: not re.search(r'.*\\_y', x), axis=1)\n",
    "    new_site_df_2 = new_site_df_2.select(lambda x: not re.search(r'.*\\_x', x), axis=1)\n",
    "    \n",
    "    for col in new_site_df_1.columns:\n",
    "        if 'actual_' in col:\n",
    "            new_site_df_1 = new_site_df_1.rename(columns={col:'previous_'+col[7:]})\n",
    "    for col in new_site_df_2.columns:\n",
    "        if 'actual_' in col:\n",
    "            new_site_df_2 = new_site_df_2.rename(columns={col:'previous_'+col[7:]})\n",
    "    \n",
    "    # observe we are returning 6 components but only use 2 for our final dataframes.  The reason for these extra \n",
    "    #     dataframes was for checking to ensure our function was properly working\n",
    "    return new_site_df_1, not_site_df_1, allyson_not, new_site_df_2, not_site_df_2, allyson_not_site\n",
    "\n",
    "#### signifies code we are not currently using but might need in the future"
   ]
  },
  {
   "cell_type": "code",
   "execution_count": 25,
   "metadata": {
    "collapsed": true
   },
   "outputs": [],
   "source": [
    "def add_correct_column(df,statistics):\n",
    "    \"\"\"This function adds columns to our dataframes that classify whether a prediction is correct or not. We pass\n",
    "    in a dataframe and a dictionary of statistics, where the keys are stats and the values are the epsilon balls.\n",
    "    Then we make a column and add the value 1 if the projection for a statistic is within the epsilon ball of the \n",
    "    actual stat and a 0 if it is outside the epsilon ball.\n",
    "    Parameters\n",
    "    df: dataframe we want to adjust\n",
    "    statistic: dict where keys are stats and values are epsilon ball values\n",
    "    returns: Nothing, but it adds columns to the dataframe that are binary with 1's = a correct prediction\"\"\"\n",
    "    for i in statistics:\n",
    "        difference = statistics.get(i)\n",
    "        df['correct_'+i] = ((df['actual_'+i]<df[i]+difference)&(df['actual_'+i]>df[i]-difference)).astype('int')\n",
    "    return None\n",
    "        "
   ]
  },
  {
   "cell_type": "markdown",
   "metadata": {},
   "source": [
    "We now detail the process of cleaning the Marcel data."
   ]
  },
  {
   "cell_type": "markdown",
   "metadata": {},
   "source": [
    "### Marcel\n",
    "Marcel is a baseball statistic projection system that claims to be very basic in its methods. It uses the past 3 years to predict each current year, weighting recent data more heavily. We now read in the Marcel data and put it into pandas dataframes."
   ]
  },
  {
   "cell_type": "code",
   "execution_count": 26,
   "metadata": {
    "collapsed": false
   },
   "outputs": [
    {
     "name": "stdout",
     "output_type": "stream",
     "text": [
      "marcel hitters (6158, 27)\n",
      "marcel pitchers (5716, 29)\n"
     ]
    }
   ],
   "source": [
    "# ============================ CREATE DATAFRAMES OF MARCEL PITCHER & HITTER PROJECTIONS ===============================\n",
    "\n",
    "# empty lists to append to for each year of information\n",
    "marcel_hitters = []\n",
    "marcel_pitchers = []\n",
    "\n",
    "# append to pitchers dataframe\n",
    "for ID in os.listdir('CSV_files/marcel_pitchers/'):\n",
    "    if ID not in '.listing':\n",
    "        with open(os.path.join('./CSV_files/marcel_pitchers/', ID)) as inFile:\n",
    "            marcel_pitchers.append(pd.read_csv(inFile))\n",
    "            \n",
    "# append to hitters dataframe\n",
    "for ID in os.listdir('CSV_files/marcel_hitters/'):\n",
    "    if ID not in '.listing':\n",
    "        with open(os.path.join('./CSV_files/marcel_hitters/', ID)) as inFile:\n",
    "            marcel_hitters.append(pd.read_csv(inFile))\n",
    "\n",
    "# concatenate master lists into dataframes\n",
    "marcel_hitters = pd.concat(marcel_hitters)\n",
    "marcel_pitchers = pd.concat(marcel_pitchers)\n",
    "\n",
    "# check the sizes of our dataframes\n",
    "print \"marcel hitters\", marcel_hitters.shape\n",
    "print \"marcel pitchers\", marcel_pitchers.shape"
   ]
  },
  {
   "cell_type": "markdown",
   "metadata": {},
   "source": [
    "Now that we have all the Marcel projection data in two Pandas dataframes, we need to clean them. Right now, we have 6,158 rows and 27 columns in our hitters dataframe and we have 5,716 rows and 29 columns in our pitchers dataframe.\n",
    "Before we get into the cleaning, here is a sample of what the Marcel hitters dataframe looks like, and its null values."
   ]
  },
  {
   "cell_type": "code",
   "execution_count": 27,
   "metadata": {
    "collapsed": false
   },
   "outputs": [
    {
     "data": {
      "text/html": [
       "<div>\n",
       "<table border=\"1\" class=\"dataframe\">\n",
       "  <thead>\n",
       "    <tr style=\"text-align: right;\">\n",
       "      <th></th>\n",
       "      <th>AB</th>\n",
       "      <th>AVG</th>\n",
       "      <th>Age</th>\n",
       "      <th>HR</th>\n",
       "      <th>Name</th>\n",
       "      <th>R</th>\n",
       "      <th>RBI</th>\n",
       "      <th>SB</th>\n",
       "      <th>Season</th>\n",
       "      <th>Unnamed: 0</th>\n",
       "      <th>...</th>\n",
       "      <th>mIBB</th>\n",
       "      <th>mPA</th>\n",
       "      <th>mSF</th>\n",
       "      <th>mSH</th>\n",
       "      <th>mSO</th>\n",
       "      <th>nameFirst</th>\n",
       "      <th>nameLast</th>\n",
       "      <th>playerID</th>\n",
       "      <th>reliability</th>\n",
       "      <th>wOBA</th>\n",
       "    </tr>\n",
       "  </thead>\n",
       "  <tbody>\n",
       "    <tr>\n",
       "      <th>0</th>\n",
       "      <td>526.0</td>\n",
       "      <td>NaN</td>\n",
       "      <td>29.0</td>\n",
       "      <td>28.0</td>\n",
       "      <td>NaN</td>\n",
       "      <td>91.0</td>\n",
       "      <td>94.0</td>\n",
       "      <td>4.0</td>\n",
       "      <td>2012.0</td>\n",
       "      <td>NaN</td>\n",
       "      <td>...</td>\n",
       "      <td>19.0</td>\n",
       "      <td>609.0</td>\n",
       "      <td>4.0</td>\n",
       "      <td>0.0</td>\n",
       "      <td>90.0</td>\n",
       "      <td>Miguel</td>\n",
       "      <td>Cabrera</td>\n",
       "      <td>cabremi01</td>\n",
       "      <td>0.87</td>\n",
       "      <td>0.402</td>\n",
       "    </tr>\n",
       "    <tr>\n",
       "      <th>1</th>\n",
       "      <td>533.0</td>\n",
       "      <td>NaN</td>\n",
       "      <td>29.0</td>\n",
       "      <td>27.0</td>\n",
       "      <td>NaN</td>\n",
       "      <td>89.0</td>\n",
       "      <td>91.0</td>\n",
       "      <td>10.0</td>\n",
       "      <td>2012.0</td>\n",
       "      <td>NaN</td>\n",
       "      <td>...</td>\n",
       "      <td>10.0</td>\n",
       "      <td>624.0</td>\n",
       "      <td>4.0</td>\n",
       "      <td>0.0</td>\n",
       "      <td>117.0</td>\n",
       "      <td>Joey</td>\n",
       "      <td>Votto</td>\n",
       "      <td>vottojo01</td>\n",
       "      <td>0.87</td>\n",
       "      <td>0.397</td>\n",
       "    </tr>\n",
       "    <tr>\n",
       "      <th>2</th>\n",
       "      <td>494.0</td>\n",
       "      <td>NaN</td>\n",
       "      <td>32.0</td>\n",
       "      <td>34.0</td>\n",
       "      <td>NaN</td>\n",
       "      <td>87.0</td>\n",
       "      <td>87.0</td>\n",
       "      <td>8.0</td>\n",
       "      <td>2012.0</td>\n",
       "      <td>NaN</td>\n",
       "      <td>...</td>\n",
       "      <td>10.0</td>\n",
       "      <td>596.0</td>\n",
       "      <td>4.0</td>\n",
       "      <td>2.0</td>\n",
       "      <td>107.0</td>\n",
       "      <td>Jose</td>\n",
       "      <td>Bautista</td>\n",
       "      <td>bautijo02</td>\n",
       "      <td>0.86</td>\n",
       "      <td>0.387</td>\n",
       "    </tr>\n",
       "    <tr>\n",
       "      <th>3</th>\n",
       "      <td>514.0</td>\n",
       "      <td>NaN</td>\n",
       "      <td>32.0</td>\n",
       "      <td>32.0</td>\n",
       "      <td>NaN</td>\n",
       "      <td>92.0</td>\n",
       "      <td>93.0</td>\n",
       "      <td>11.0</td>\n",
       "      <td>2012.0</td>\n",
       "      <td>NaN</td>\n",
       "      <td>...</td>\n",
       "      <td>24.0</td>\n",
       "      <td>596.0</td>\n",
       "      <td>6.0</td>\n",
       "      <td>0.0</td>\n",
       "      <td>65.0</td>\n",
       "      <td>Albert</td>\n",
       "      <td>Pujols</td>\n",
       "      <td>pujolal01</td>\n",
       "      <td>0.87</td>\n",
       "      <td>0.385</td>\n",
       "    </tr>\n",
       "    <tr>\n",
       "      <th>4</th>\n",
       "      <td>526.0</td>\n",
       "      <td>NaN</td>\n",
       "      <td>29.0</td>\n",
       "      <td>24.0</td>\n",
       "      <td>NaN</td>\n",
       "      <td>88.0</td>\n",
       "      <td>89.0</td>\n",
       "      <td>20.0</td>\n",
       "      <td>2012.0</td>\n",
       "      <td>NaN</td>\n",
       "      <td>...</td>\n",
       "      <td>2.0</td>\n",
       "      <td>583.0</td>\n",
       "      <td>3.0</td>\n",
       "      <td>0.0</td>\n",
       "      <td>94.0</td>\n",
       "      <td>Ryan</td>\n",
       "      <td>Braun</td>\n",
       "      <td>braunry02</td>\n",
       "      <td>0.87</td>\n",
       "      <td>0.384</td>\n",
       "    </tr>\n",
       "  </tbody>\n",
       "</table>\n",
       "<p>5 rows × 27 columns</p>\n",
       "</div>"
      ],
      "text/plain": [
       "      AB  AVG   Age    HR Name     R   RBI    SB  Season Unnamed: 0  ...    \\\n",
       "0  526.0  NaN  29.0  28.0  NaN  91.0  94.0   4.0  2012.0        NaN  ...     \n",
       "1  533.0  NaN  29.0  27.0  NaN  89.0  91.0  10.0  2012.0        NaN  ...     \n",
       "2  494.0  NaN  32.0  34.0  NaN  87.0  87.0   8.0  2012.0        NaN  ...     \n",
       "3  514.0  NaN  32.0  32.0  NaN  92.0  93.0  11.0  2012.0        NaN  ...     \n",
       "4  526.0  NaN  29.0  24.0  NaN  88.0  89.0  20.0  2012.0        NaN  ...     \n",
       "\n",
       "   mIBB    mPA  mSF  mSH    mSO  nameFirst  nameLast   playerID  reliability  \\\n",
       "0  19.0  609.0  4.0  0.0   90.0     Miguel   Cabrera  cabremi01         0.87   \n",
       "1  10.0  624.0  4.0  0.0  117.0       Joey     Votto  vottojo01         0.87   \n",
       "2  10.0  596.0  4.0  2.0  107.0       Jose  Bautista  bautijo02         0.86   \n",
       "3  24.0  596.0  6.0  0.0   65.0     Albert    Pujols  pujolal01         0.87   \n",
       "4   2.0  583.0  3.0  0.0   94.0       Ryan     Braun  braunry02         0.87   \n",
       "\n",
       "    wOBA  \n",
       "0  0.402  \n",
       "1  0.397  \n",
       "2  0.387  \n",
       "3  0.385  \n",
       "4  0.384  \n",
       "\n",
       "[5 rows x 27 columns]"
      ]
     },
     "execution_count": 27,
     "metadata": {},
     "output_type": "execute_result"
    }
   ],
   "source": [
    "marcel_hitters.head()"
   ]
  },
  {
   "cell_type": "code",
   "execution_count": 28,
   "metadata": {
    "collapsed": false
   },
   "outputs": [
    {
     "name": "stdout",
     "output_type": "stream",
     "text": [
      "AB                0\n",
      "AVG            2560\n",
      "Age            3598\n",
      "HR                0\n",
      "Name           2560\n",
      "R                 0\n",
      "RBI               0\n",
      "SB                0\n",
      "Season            0\n",
      "Unnamed: 0     6158\n",
      "m2B            3598\n",
      "m3B            3598\n",
      "mBB            3598\n",
      "mCS            3598\n",
      "mGIDP          3598\n",
      "mH             3598\n",
      "mHBP           3598\n",
      "mIBB           3598\n",
      "mPA            3598\n",
      "mSF            3598\n",
      "mSH            3598\n",
      "mSO            3598\n",
      "nameFirst      3598\n",
      "nameLast       3598\n",
      "playerID       3598\n",
      "reliability    3598\n",
      "wOBA           3598\n",
      "dtype: int64\n"
     ]
    }
   ],
   "source": [
    "print marcel_hitters.isnull().sum()"
   ]
  },
  {
   "cell_type": "markdown",
   "metadata": {},
   "source": [
    "Here is a sample of the Marcel pitcher data, and its null values."
   ]
  },
  {
   "cell_type": "code",
   "execution_count": 29,
   "metadata": {
    "collapsed": false
   },
   "outputs": [
    {
     "data": {
      "text/html": [
       "<div>\n",
       "<table border=\"1\" class=\"dataframe\">\n",
       "  <thead>\n",
       "    <tr style=\"text-align: right;\">\n",
       "      <th></th>\n",
       "      <th>Age</th>\n",
       "      <th>ERA</th>\n",
       "      <th>IP</th>\n",
       "      <th>K</th>\n",
       "      <th>Name</th>\n",
       "      <th>SV</th>\n",
       "      <th>Season</th>\n",
       "      <th>Unnamed: 0</th>\n",
       "      <th>W</th>\n",
       "      <th>WHIP</th>\n",
       "      <th>...</th>\n",
       "      <th>mHR</th>\n",
       "      <th>mIBB</th>\n",
       "      <th>mL</th>\n",
       "      <th>mR</th>\n",
       "      <th>mRepl</th>\n",
       "      <th>mWP</th>\n",
       "      <th>nameFirst</th>\n",
       "      <th>nameLast</th>\n",
       "      <th>playerID</th>\n",
       "      <th>reliability</th>\n",
       "    </tr>\n",
       "  </thead>\n",
       "  <tbody>\n",
       "    <tr>\n",
       "      <th>0</th>\n",
       "      <td>NaN</td>\n",
       "      <td>4.32</td>\n",
       "      <td>25.0</td>\n",
       "      <td>21.0</td>\n",
       "      <td>Sean Gallagher</td>\n",
       "      <td>1.0</td>\n",
       "      <td>2013.0</td>\n",
       "      <td>NaN</td>\n",
       "      <td>1.0</td>\n",
       "      <td>1.360000</td>\n",
       "      <td>...</td>\n",
       "      <td>NaN</td>\n",
       "      <td>NaN</td>\n",
       "      <td>NaN</td>\n",
       "      <td>NaN</td>\n",
       "      <td>NaN</td>\n",
       "      <td>NaN</td>\n",
       "      <td>NaN</td>\n",
       "      <td>NaN</td>\n",
       "      <td>NaN</td>\n",
       "      <td>NaN</td>\n",
       "    </tr>\n",
       "    <tr>\n",
       "      <th>1</th>\n",
       "      <td>NaN</td>\n",
       "      <td>4.74</td>\n",
       "      <td>38.0</td>\n",
       "      <td>34.0</td>\n",
       "      <td>Yoshinori Tateyama</td>\n",
       "      <td>1.0</td>\n",
       "      <td>2013.0</td>\n",
       "      <td>NaN</td>\n",
       "      <td>2.0</td>\n",
       "      <td>1.315789</td>\n",
       "      <td>...</td>\n",
       "      <td>NaN</td>\n",
       "      <td>NaN</td>\n",
       "      <td>NaN</td>\n",
       "      <td>NaN</td>\n",
       "      <td>NaN</td>\n",
       "      <td>NaN</td>\n",
       "      <td>NaN</td>\n",
       "      <td>NaN</td>\n",
       "      <td>NaN</td>\n",
       "      <td>NaN</td>\n",
       "    </tr>\n",
       "    <tr>\n",
       "      <th>2</th>\n",
       "      <td>NaN</td>\n",
       "      <td>4.15</td>\n",
       "      <td>26.0</td>\n",
       "      <td>21.0</td>\n",
       "      <td>Danny Herrera</td>\n",
       "      <td>1.0</td>\n",
       "      <td>2013.0</td>\n",
       "      <td>NaN</td>\n",
       "      <td>1.0</td>\n",
       "      <td>1.346154</td>\n",
       "      <td>...</td>\n",
       "      <td>NaN</td>\n",
       "      <td>NaN</td>\n",
       "      <td>NaN</td>\n",
       "      <td>NaN</td>\n",
       "      <td>NaN</td>\n",
       "      <td>NaN</td>\n",
       "      <td>NaN</td>\n",
       "      <td>NaN</td>\n",
       "      <td>NaN</td>\n",
       "      <td>NaN</td>\n",
       "    </tr>\n",
       "    <tr>\n",
       "      <th>3</th>\n",
       "      <td>NaN</td>\n",
       "      <td>3.72</td>\n",
       "      <td>58.0</td>\n",
       "      <td>50.0</td>\n",
       "      <td>Jose Mijares</td>\n",
       "      <td>1.0</td>\n",
       "      <td>2013.0</td>\n",
       "      <td>NaN</td>\n",
       "      <td>3.0</td>\n",
       "      <td>1.362069</td>\n",
       "      <td>...</td>\n",
       "      <td>NaN</td>\n",
       "      <td>NaN</td>\n",
       "      <td>NaN</td>\n",
       "      <td>NaN</td>\n",
       "      <td>NaN</td>\n",
       "      <td>NaN</td>\n",
       "      <td>NaN</td>\n",
       "      <td>NaN</td>\n",
       "      <td>NaN</td>\n",
       "      <td>NaN</td>\n",
       "    </tr>\n",
       "    <tr>\n",
       "      <th>4</th>\n",
       "      <td>NaN</td>\n",
       "      <td>4.29</td>\n",
       "      <td>161.7</td>\n",
       "      <td>137.0</td>\n",
       "      <td>Philip Hughes</td>\n",
       "      <td>1.0</td>\n",
       "      <td>2013.0</td>\n",
       "      <td>NaN</td>\n",
       "      <td>13.0</td>\n",
       "      <td>1.280148</td>\n",
       "      <td>...</td>\n",
       "      <td>NaN</td>\n",
       "      <td>NaN</td>\n",
       "      <td>NaN</td>\n",
       "      <td>NaN</td>\n",
       "      <td>NaN</td>\n",
       "      <td>NaN</td>\n",
       "      <td>NaN</td>\n",
       "      <td>NaN</td>\n",
       "      <td>NaN</td>\n",
       "      <td>NaN</td>\n",
       "    </tr>\n",
       "  </tbody>\n",
       "</table>\n",
       "<p>5 rows × 29 columns</p>\n",
       "</div>"
      ],
      "text/plain": [
       "   Age   ERA     IP      K                Name   SV  Season Unnamed: 0     W  \\\n",
       "0  NaN  4.32   25.0   21.0      Sean Gallagher  1.0  2013.0        NaN   1.0   \n",
       "1  NaN  4.74   38.0   34.0  Yoshinori Tateyama  1.0  2013.0        NaN   2.0   \n",
       "2  NaN  4.15   26.0   21.0       Danny Herrera  1.0  2013.0        NaN   1.0   \n",
       "3  NaN  3.72   58.0   50.0        Jose Mijares  1.0  2013.0        NaN   3.0   \n",
       "4  NaN  4.29  161.7  137.0       Philip Hughes  1.0  2013.0        NaN  13.0   \n",
       "\n",
       "       WHIP     ...       mHR mIBB  mL  mR  mRepl  mWP  nameFirst  nameLast  \\\n",
       "0  1.360000     ...       NaN  NaN NaN NaN    NaN  NaN        NaN       NaN   \n",
       "1  1.315789     ...       NaN  NaN NaN NaN    NaN  NaN        NaN       NaN   \n",
       "2  1.346154     ...       NaN  NaN NaN NaN    NaN  NaN        NaN       NaN   \n",
       "3  1.362069     ...       NaN  NaN NaN NaN    NaN  NaN        NaN       NaN   \n",
       "4  1.280148     ...       NaN  NaN NaN NaN    NaN  NaN        NaN       NaN   \n",
       "\n",
       "   playerID  reliability  \n",
       "0       NaN          NaN  \n",
       "1       NaN          NaN  \n",
       "2       NaN          NaN  \n",
       "3       NaN          NaN  \n",
       "4       NaN          NaN  \n",
       "\n",
       "[5 rows x 29 columns]"
      ]
     },
     "execution_count": 29,
     "metadata": {},
     "output_type": "execute_result"
    }
   ],
   "source": [
    "marcel_pitchers.head()"
   ]
  },
  {
   "cell_type": "code",
   "execution_count": 30,
   "metadata": {
    "collapsed": false
   },
   "outputs": [
    {
     "name": "stdout",
     "output_type": "stream",
     "text": [
      "Age            2864\n",
      "ERA               0\n",
      "IP                0\n",
      "K                 0\n",
      "Name           2852\n",
      "SV              950\n",
      "Season            0\n",
      "Unnamed: 0     5716\n",
      "W                 0\n",
      "WHIP           2852\n",
      "bsrER          2864\n",
      "lgID           2864\n",
      "mBB            2864\n",
      "mBK            2864\n",
      "mER            2864\n",
      "mG             3828\n",
      "mGS            3828\n",
      "mH             2864\n",
      "mHBP           2864\n",
      "mHR            2864\n",
      "mIBB           2864\n",
      "mL             2864\n",
      "mR             2864\n",
      "mRepl          4764\n",
      "mWP            2864\n",
      "nameFirst      2864\n",
      "nameLast       2864\n",
      "playerID       2864\n",
      "reliability    2864\n",
      "dtype: int64\n"
     ]
    }
   ],
   "source": [
    "print marcel_pitchers.isnull().sum()"
   ]
  },
  {
   "cell_type": "markdown",
   "metadata": {},
   "source": [
    "We will now clean the Marcel data. First of all, this dataset is missing WHIP for pitchers and AVG for hitters, which we will derive from the other features that are available. We also create a Name column that includes both first and last names together, and make that all lower case. Secondly, the dataset as is contains much more information than we need, so we will drop all columns except those of particular interest to us. Thirdly, we change player names to all lowercase for the sake of uniformity within the dataset and among our other datasets, and create a column holding the first initial and last name of each player."
   ]
  },
  {
   "cell_type": "code",
   "execution_count": 31,
   "metadata": {
    "collapsed": false
   },
   "outputs": [],
   "source": [
    "# engineering of WHIP and AVG, engineering of single name column\n",
    "marcel_pitchers['Name'] = np.where(marcel_pitchers['Name'].isnull(), \\\n",
    "                        marcel_pitchers['nameFirst'] + ' ' + marcel_pitchers['nameLast'], marcel_pitchers['Name'])\n",
    "marcel_pitchers['WHIP'] = np.where(marcel_pitchers['WHIP'].isnull(), \\\n",
    "                        (marcel_pitchers['mBB']+marcel_pitchers['mH'])/marcel_pitchers['IP'], marcel_pitchers['WHIP'])\n",
    "marcel_hitters['Name'] = np.where(marcel_hitters['Name'].isnull(), \\\n",
    "                        marcel_hitters['nameFirst'] + ' ' + marcel_hitters['nameLast'], marcel_hitters['Name'])\n",
    "marcel_hitters['AVG'] = np.where(marcel_hitters['AVG'].isnull(), \\\n",
    "                        (marcel_hitters['mH'])/marcel_hitters['AB'], marcel_hitters['AVG'])\n",
    "\n",
    "# keep only columns includings stats we care about\n",
    "marcel_pitchers = marcel_pitchers[['Name', 'K', 'W', 'IP', 'ERA', 'WHIP', 'Season']]\n",
    "marcel_pitchers.columns = ['Name', 'K', 'W', 'IP', 'ERA', 'WHIP', 'Season']\n",
    "marcel_hitters = marcel_hitters[['Name', 'AB', 'RBI', 'R','HR', 'SB', 'AVG', 'Season']]\n",
    "marcel_hitters.columns = ['Name', 'AB', 'RBI', 'R','HR', 'SB', 'AVG', 'Season']\n",
    "\n",
    "# convert names to all lower case letters for uniformity\n",
    "marcel_pitchers['Name'] = marcel_pitchers['Name'].apply(lower_names)\n",
    "marcel_hitters['Name'] = marcel_hitters['Name'].apply(lower_names)\n",
    "\n",
    "# create a column for first initial and last name for each player\n",
    "marcel_pitchers['First'], marcel_pitchers['First_initial'], marcel_pitchers['Last'] = \\\n",
    "        marcel_pitchers['Name'].apply(split_names_first),marcel_pitchers['Name'].apply(split_names_first_initial),\\\n",
    "        marcel_pitchers['Name'].apply(split_names_last)\n",
    "marcel_pitchers['Abbr_Name'] = marcel_pitchers['First_initial'] + ' ' + marcel_pitchers['Last']\n",
    "marcel_hitters['First'], marcel_hitters['First_initial'], marcel_hitters['Last'] = \\\n",
    "        marcel_hitters['Name'].apply(split_names_first),marcel_hitters['Name'].apply(split_names_first_initial),\\\n",
    "        marcel_hitters['Name'].apply(split_names_last)\n",
    "marcel_hitters['Abbr_Name'] = marcel_hitters['First_initial'] + ' ' + marcel_hitters['Last']\n",
    "\n",
    "# delete the extra columns we made to get the abbr_name column\n",
    "del marcel_hitters['First'], marcel_hitters['First_initial'], marcel_hitters['Last']\n",
    "del marcel_pitchers['First'], marcel_pitchers['First_initial'], marcel_pitchers['Last']"
   ]
  },
  {
   "cell_type": "code",
   "execution_count": 32,
   "metadata": {
    "collapsed": false
   },
   "outputs": [],
   "source": [
    "# assign columns to the correct datatypes\n",
    "marcel_hitters[\"AB\"] = pd.to_numeric(marcel_hitters.AB)\n",
    "marcel_hitters[\"AB\"] = marcel_hitters[\"AB\"].astype(int)\n",
    "marcel_hitters[\"RBI\"] = marcel_hitters[\"RBI\"].astype(int)\n",
    "marcel_hitters[\"R\"] = marcel_hitters[\"R\"].astype(int)\n",
    "marcel_hitters[\"HR\"] = marcel_hitters[\"HR\"].astype(int)\n",
    "marcel_hitters[\"SB\"] = marcel_hitters[\"SB\"].astype(int)\n",
    "marcel_hitters[\"Season\"] = marcel_hitters[\"Season\"].astype(int)\n",
    "\n",
    "marcel_pitchers[\"K\"] = marcel_pitchers[\"K\"].astype(int)\n",
    "marcel_pitchers[\"W\"] = marcel_pitchers[\"W\"].astype(int)\n",
    "marcel_pitchers[\"Season\"] = marcel_pitchers[\"Season\"].astype(int)"
   ]
  },
  {
   "cell_type": "code",
   "execution_count": 33,
   "metadata": {
    "collapsed": false
   },
   "outputs": [],
   "source": [
    "new_df_pitch = find_names(pitchersDF, marcel_pitchers, season)\n",
    "new_df_hit = find_names(hittersDF, marcel_hitters, season)\n",
    "\n",
    "marcel_pitchers = new_df_pitch[0].append(new_df_pitch[3])\n",
    "marcel_hitters = new_df_hit[0].append(new_df_hit[3])\n"
   ]
  },
  {
   "cell_type": "markdown",
   "metadata": {},
   "source": [
    "Now, the Marcel data is cleaned and ready to use. The pitchers dataframe is 2,354 rows and 8 columns and the hitters dataframe is 1,876 rows and 9 columns. Below are samples of each (hitters, then pitchers), which will show the cleaned dataframes and the fact that we have taken care of all null values."
   ]
  },
  {
   "cell_type": "code",
   "execution_count": 34,
   "metadata": {
    "collapsed": false
   },
   "outputs": [
    {
     "data": {
      "text/html": [
       "<div>\n",
       "<table border=\"1\" class=\"dataframe\">\n",
       "  <thead>\n",
       "    <tr style=\"text-align: right;\">\n",
       "      <th></th>\n",
       "      <th>AB</th>\n",
       "      <th>AVG</th>\n",
       "      <th>Abbr_Name</th>\n",
       "      <th>HR</th>\n",
       "      <th>Name</th>\n",
       "      <th>Pos Summary</th>\n",
       "      <th>R</th>\n",
       "      <th>RBI</th>\n",
       "      <th>SB</th>\n",
       "      <th>Season</th>\n",
       "      <th>...</th>\n",
       "      <th>actual_AVG</th>\n",
       "      <th>actual_BB</th>\n",
       "      <th>actual_HR</th>\n",
       "      <th>actual_OBP</th>\n",
       "      <th>actual_R</th>\n",
       "      <th>actual_RBI</th>\n",
       "      <th>actual_SB</th>\n",
       "      <th>actual_SLG</th>\n",
       "      <th>actual_SO</th>\n",
       "      <th>actual_age</th>\n",
       "    </tr>\n",
       "  </thead>\n",
       "  <tbody>\n",
       "    <tr>\n",
       "      <th>0</th>\n",
       "      <td>508</td>\n",
       "      <td>0.322835</td>\n",
       "      <td>a. pujols</td>\n",
       "      <td>34</td>\n",
       "      <td>albert pujols</td>\n",
       "      <td>*3</td>\n",
       "      <td>96</td>\n",
       "      <td>104</td>\n",
       "      <td>9</td>\n",
       "      <td>2010</td>\n",
       "      <td>...</td>\n",
       "      <td>0.312</td>\n",
       "      <td>103.0</td>\n",
       "      <td>42</td>\n",
       "      <td>0.414</td>\n",
       "      <td>115</td>\n",
       "      <td>118</td>\n",
       "      <td>14</td>\n",
       "      <td>0.596</td>\n",
       "      <td>76.0</td>\n",
       "      <td>30.0</td>\n",
       "    </tr>\n",
       "    <tr>\n",
       "      <th>1</th>\n",
       "      <td>528</td>\n",
       "      <td>0.289773</td>\n",
       "      <td>p. fielder</td>\n",
       "      <td>37</td>\n",
       "      <td>prince fielder</td>\n",
       "      <td>*3/D</td>\n",
       "      <td>88</td>\n",
       "      <td>106</td>\n",
       "      <td>3</td>\n",
       "      <td>2010</td>\n",
       "      <td>...</td>\n",
       "      <td>0.261</td>\n",
       "      <td>114.0</td>\n",
       "      <td>32</td>\n",
       "      <td>0.401</td>\n",
       "      <td>94</td>\n",
       "      <td>83</td>\n",
       "      <td>1</td>\n",
       "      <td>0.471</td>\n",
       "      <td>138.0</td>\n",
       "      <td>26.0</td>\n",
       "    </tr>\n",
       "    <tr>\n",
       "      <th>2</th>\n",
       "      <td>521</td>\n",
       "      <td>0.320537</td>\n",
       "      <td>h. ramirez</td>\n",
       "      <td>24</td>\n",
       "      <td>hanley ramirez</td>\n",
       "      <td>*6</td>\n",
       "      <td>97</td>\n",
       "      <td>75</td>\n",
       "      <td>30</td>\n",
       "      <td>2010</td>\n",
       "      <td>...</td>\n",
       "      <td>0.300</td>\n",
       "      <td>64.0</td>\n",
       "      <td>21</td>\n",
       "      <td>0.378</td>\n",
       "      <td>92</td>\n",
       "      <td>76</td>\n",
       "      <td>32</td>\n",
       "      <td>0.475</td>\n",
       "      <td>93.0</td>\n",
       "      <td>26.0</td>\n",
       "    </tr>\n",
       "    <tr>\n",
       "      <th>3</th>\n",
       "      <td>447</td>\n",
       "      <td>0.286353</td>\n",
       "      <td>a. rodriguez</td>\n",
       "      <td>31</td>\n",
       "      <td>alex rodriguez</td>\n",
       "      <td>*5D</td>\n",
       "      <td>85</td>\n",
       "      <td>93</td>\n",
       "      <td>15</td>\n",
       "      <td>2010</td>\n",
       "      <td>...</td>\n",
       "      <td>0.270</td>\n",
       "      <td>59.0</td>\n",
       "      <td>30</td>\n",
       "      <td>0.341</td>\n",
       "      <td>74</td>\n",
       "      <td>125</td>\n",
       "      <td>4</td>\n",
       "      <td>0.506</td>\n",
       "      <td>98.0</td>\n",
       "      <td>34.0</td>\n",
       "    </tr>\n",
       "    <tr>\n",
       "      <th>4</th>\n",
       "      <td>522</td>\n",
       "      <td>0.312261</td>\n",
       "      <td>m. holliday</td>\n",
       "      <td>24</td>\n",
       "      <td>matt holliday</td>\n",
       "      <td>*7/D</td>\n",
       "      <td>90</td>\n",
       "      <td>93</td>\n",
       "      <td>16</td>\n",
       "      <td>2010</td>\n",
       "      <td>...</td>\n",
       "      <td>0.312</td>\n",
       "      <td>69.0</td>\n",
       "      <td>28</td>\n",
       "      <td>0.390</td>\n",
       "      <td>95</td>\n",
       "      <td>103</td>\n",
       "      <td>9</td>\n",
       "      <td>0.532</td>\n",
       "      <td>93.0</td>\n",
       "      <td>30.0</td>\n",
       "    </tr>\n",
       "  </tbody>\n",
       "</table>\n",
       "<p>5 rows × 23 columns</p>\n",
       "</div>"
      ],
      "text/plain": [
       "    AB       AVG     Abbr_Name  HR            Name Pos Summary   R  RBI  SB  \\\n",
       "0  508  0.322835     a. pujols  34   albert pujols          *3  96  104   9   \n",
       "1  528  0.289773    p. fielder  37  prince fielder        *3/D  88  106   3   \n",
       "2  521  0.320537    h. ramirez  24  hanley ramirez          *6  97   75  30   \n",
       "3  447  0.286353  a. rodriguez  31  alex rodriguez         *5D  85   93  15   \n",
       "4  522  0.312261   m. holliday  24   matt holliday        *7/D  90   93  16   \n",
       "\n",
       "   Season     ...      actual_AVG  actual_BB  actual_HR  actual_OBP  actual_R  \\\n",
       "0    2010     ...           0.312      103.0         42       0.414       115   \n",
       "1    2010     ...           0.261      114.0         32       0.401        94   \n",
       "2    2010     ...           0.300       64.0         21       0.378        92   \n",
       "3    2010     ...           0.270       59.0         30       0.341        74   \n",
       "4    2010     ...           0.312       69.0         28       0.390        95   \n",
       "\n",
       "   actual_RBI  actual_SB  actual_SLG  actual_SO  actual_age  \n",
       "0         118         14       0.596       76.0        30.0  \n",
       "1          83          1       0.471      138.0        26.0  \n",
       "2          76         32       0.475       93.0        26.0  \n",
       "3         125          4       0.506       98.0        34.0  \n",
       "4         103          9       0.532       93.0        30.0  \n",
       "\n",
       "[5 rows x 23 columns]"
      ]
     },
     "execution_count": 34,
     "metadata": {},
     "output_type": "execute_result"
    }
   ],
   "source": [
    "marcel_hitters.head()"
   ]
  },
  {
   "cell_type": "code",
   "execution_count": 35,
   "metadata": {
    "collapsed": false
   },
   "outputs": [
    {
     "name": "stdout",
     "output_type": "stream",
     "text": [
      "AB             0\n",
      "AVG            0\n",
      "Abbr_Name      0\n",
      "HR             0\n",
      "Name           0\n",
      "Pos Summary    0\n",
      "R              0\n",
      "RBI            0\n",
      "SB             0\n",
      "Season         0\n",
      "actual_2B      0\n",
      "actual_3B      0\n",
      "actual_AB      0\n",
      "actual_AVG     0\n",
      "actual_BB      0\n",
      "actual_HR      0\n",
      "actual_OBP     0\n",
      "actual_R       0\n",
      "actual_RBI     0\n",
      "actual_SB      0\n",
      "actual_SLG     0\n",
      "actual_SO      0\n",
      "actual_age     0\n",
      "dtype: int64\n"
     ]
    }
   ],
   "source": [
    "print marcel_hitters.isnull().sum()"
   ]
  },
  {
   "cell_type": "code",
   "execution_count": 36,
   "metadata": {
    "collapsed": false
   },
   "outputs": [
    {
     "data": {
      "text/html": [
       "<div>\n",
       "<table border=\"1\" class=\"dataframe\">\n",
       "  <thead>\n",
       "    <tr style=\"text-align: right;\">\n",
       "      <th></th>\n",
       "      <th>Abbr_Name</th>\n",
       "      <th>Age</th>\n",
       "      <th>ERA</th>\n",
       "      <th>IP</th>\n",
       "      <th>K</th>\n",
       "      <th>Name</th>\n",
       "      <th>Season</th>\n",
       "      <th>W</th>\n",
       "      <th>WHIP</th>\n",
       "      <th>actual_BB</th>\n",
       "      <th>actual_BF</th>\n",
       "      <th>actual_ERA</th>\n",
       "      <th>actual_FIP</th>\n",
       "      <th>actual_H</th>\n",
       "      <th>actual_IP</th>\n",
       "      <th>actual_K</th>\n",
       "      <th>actual_SV</th>\n",
       "      <th>actual_W</th>\n",
       "      <th>actual_WHIP</th>\n",
       "    </tr>\n",
       "  </thead>\n",
       "  <tbody>\n",
       "    <tr>\n",
       "      <th>0</th>\n",
       "      <td>t. lincecum</td>\n",
       "      <td>26.0</td>\n",
       "      <td>2.88</td>\n",
       "      <td>195.0</td>\n",
       "      <td>218</td>\n",
       "      <td>tim lincecum</td>\n",
       "      <td>2010</td>\n",
       "      <td>13</td>\n",
       "      <td>1.138462</td>\n",
       "      <td>76.0</td>\n",
       "      <td>897.0</td>\n",
       "      <td>3.43</td>\n",
       "      <td>3.15</td>\n",
       "      <td>194.0</td>\n",
       "      <td>212.1</td>\n",
       "      <td>231</td>\n",
       "      <td>0</td>\n",
       "      <td>16</td>\n",
       "      <td>1.272</td>\n",
       "    </tr>\n",
       "    <tr>\n",
       "      <th>1</th>\n",
       "      <td>c. carpenter</td>\n",
       "      <td>35.0</td>\n",
       "      <td>3.01</td>\n",
       "      <td>157.0</td>\n",
       "      <td>115</td>\n",
       "      <td>chris carpenter</td>\n",
       "      <td>2010</td>\n",
       "      <td>12</td>\n",
       "      <td>1.152866</td>\n",
       "      <td>63.0</td>\n",
       "      <td>969.0</td>\n",
       "      <td>3.22</td>\n",
       "      <td>3.69</td>\n",
       "      <td>214.0</td>\n",
       "      <td>235.0</td>\n",
       "      <td>179</td>\n",
       "      <td>0</td>\n",
       "      <td>16</td>\n",
       "      <td>1.179</td>\n",
       "    </tr>\n",
       "    <tr>\n",
       "      <th>2</th>\n",
       "      <td>a. bailey</td>\n",
       "      <td>26.0</td>\n",
       "      <td>3.09</td>\n",
       "      <td>67.0</td>\n",
       "      <td>63</td>\n",
       "      <td>andrew bailey</td>\n",
       "      <td>2010</td>\n",
       "      <td>4</td>\n",
       "      <td>1.119403</td>\n",
       "      <td>13.0</td>\n",
       "      <td>189.0</td>\n",
       "      <td>1.47</td>\n",
       "      <td>2.96</td>\n",
       "      <td>34.0</td>\n",
       "      <td>49.0</td>\n",
       "      <td>42</td>\n",
       "      <td>25</td>\n",
       "      <td>1</td>\n",
       "      <td>0.959</td>\n",
       "    </tr>\n",
       "    <tr>\n",
       "      <th>3</th>\n",
       "      <td>j. broxton</td>\n",
       "      <td>26.0</td>\n",
       "      <td>3.09</td>\n",
       "      <td>70.0</td>\n",
       "      <td>83</td>\n",
       "      <td>jonathan broxton</td>\n",
       "      <td>2010</td>\n",
       "      <td>5</td>\n",
       "      <td>1.157143</td>\n",
       "      <td>28.0</td>\n",
       "      <td>271.0</td>\n",
       "      <td>4.04</td>\n",
       "      <td>3.01</td>\n",
       "      <td>64.0</td>\n",
       "      <td>62.1</td>\n",
       "      <td>73</td>\n",
       "      <td>22</td>\n",
       "      <td>5</td>\n",
       "      <td>1.476</td>\n",
       "    </tr>\n",
       "    <tr>\n",
       "      <th>4</th>\n",
       "      <td>m. adams</td>\n",
       "      <td>31.0</td>\n",
       "      <td>3.15</td>\n",
       "      <td>50.0</td>\n",
       "      <td>48</td>\n",
       "      <td>mike adams</td>\n",
       "      <td>2010</td>\n",
       "      <td>2</td>\n",
       "      <td>1.140000</td>\n",
       "      <td>23.0</td>\n",
       "      <td>268.0</td>\n",
       "      <td>1.76</td>\n",
       "      <td>2.31</td>\n",
       "      <td>48.0</td>\n",
       "      <td>66.2</td>\n",
       "      <td>73</td>\n",
       "      <td>0</td>\n",
       "      <td>4</td>\n",
       "      <td>1.065</td>\n",
       "    </tr>\n",
       "  </tbody>\n",
       "</table>\n",
       "</div>"
      ],
      "text/plain": [
       "      Abbr_Name   Age   ERA     IP    K              Name  Season   W  \\\n",
       "0   t. lincecum  26.0  2.88  195.0  218      tim lincecum    2010  13   \n",
       "1  c. carpenter  35.0  3.01  157.0  115   chris carpenter    2010  12   \n",
       "2     a. bailey  26.0  3.09   67.0   63     andrew bailey    2010   4   \n",
       "3    j. broxton  26.0  3.09   70.0   83  jonathan broxton    2010   5   \n",
       "4      m. adams  31.0  3.15   50.0   48        mike adams    2010   2   \n",
       "\n",
       "       WHIP  actual_BB  actual_BF  actual_ERA  actual_FIP  actual_H  \\\n",
       "0  1.138462       76.0      897.0        3.43        3.15     194.0   \n",
       "1  1.152866       63.0      969.0        3.22        3.69     214.0   \n",
       "2  1.119403       13.0      189.0        1.47        2.96      34.0   \n",
       "3  1.157143       28.0      271.0        4.04        3.01      64.0   \n",
       "4  1.140000       23.0      268.0        1.76        2.31      48.0   \n",
       "\n",
       "   actual_IP  actual_K  actual_SV  actual_W  actual_WHIP  \n",
       "0      212.1       231          0        16        1.272  \n",
       "1      235.0       179          0        16        1.179  \n",
       "2       49.0        42         25         1        0.959  \n",
       "3       62.1        73         22         5        1.476  \n",
       "4       66.2        73          0         4        1.065  "
      ]
     },
     "execution_count": 36,
     "metadata": {},
     "output_type": "execute_result"
    }
   ],
   "source": [
    "marcel_pitchers.head()"
   ]
  },
  {
   "cell_type": "code",
   "execution_count": 37,
   "metadata": {
    "collapsed": false,
    "scrolled": true
   },
   "outputs": [
    {
     "name": "stdout",
     "output_type": "stream",
     "text": [
      "Abbr_Name      0\n",
      "Age            0\n",
      "ERA            0\n",
      "IP             0\n",
      "K              0\n",
      "Name           0\n",
      "Season         0\n",
      "W              0\n",
      "WHIP           0\n",
      "actual_BB      0\n",
      "actual_BF      0\n",
      "actual_ERA     0\n",
      "actual_FIP     0\n",
      "actual_H       0\n",
      "actual_IP      0\n",
      "actual_K       0\n",
      "actual_SV      0\n",
      "actual_W       0\n",
      "actual_WHIP    0\n",
      "dtype: int64\n"
     ]
    }
   ],
   "source": [
    "print marcel_pitchers.isnull().sum()"
   ]
  },
  {
   "cell_type": "markdown",
   "metadata": {},
   "source": [
    "Here is a table of some basic summary statistics for the Marcel hitters data, followed by the same for the Marcel pitchers data. It can also be seen from the summary statistics that nothing seems out of range, and the values reported make sense given the context."
   ]
  },
  {
   "cell_type": "code",
   "execution_count": 38,
   "metadata": {
    "collapsed": false
   },
   "outputs": [
    {
     "data": {
      "text/html": [
       "<div>\n",
       "<table border=\"1\" class=\"dataframe\">\n",
       "  <thead>\n",
       "    <tr style=\"text-align: right;\">\n",
       "      <th></th>\n",
       "      <th>AB</th>\n",
       "      <th>AVG</th>\n",
       "      <th>HR</th>\n",
       "      <th>R</th>\n",
       "      <th>RBI</th>\n",
       "      <th>SB</th>\n",
       "      <th>Season</th>\n",
       "      <th>actual_2B</th>\n",
       "      <th>actual_3B</th>\n",
       "      <th>actual_AB</th>\n",
       "      <th>actual_AVG</th>\n",
       "      <th>actual_BB</th>\n",
       "      <th>actual_HR</th>\n",
       "      <th>actual_OBP</th>\n",
       "      <th>actual_R</th>\n",
       "      <th>actual_RBI</th>\n",
       "      <th>actual_SB</th>\n",
       "      <th>actual_SLG</th>\n",
       "      <th>actual_SO</th>\n",
       "      <th>actual_age</th>\n",
       "    </tr>\n",
       "  </thead>\n",
       "  <tbody>\n",
       "    <tr>\n",
       "      <th>count</th>\n",
       "      <td>1871.000000</td>\n",
       "      <td>1871.000000</td>\n",
       "      <td>1871.000000</td>\n",
       "      <td>1871.000000</td>\n",
       "      <td>1871.000000</td>\n",
       "      <td>1871.000000</td>\n",
       "      <td>1871.000000</td>\n",
       "      <td>1871.000000</td>\n",
       "      <td>1871.000000</td>\n",
       "      <td>1871.000000</td>\n",
       "      <td>1871.000000</td>\n",
       "      <td>1871.000000</td>\n",
       "      <td>1871.000000</td>\n",
       "      <td>1871.000000</td>\n",
       "      <td>1871.000000</td>\n",
       "      <td>1871.000000</td>\n",
       "      <td>1871.000000</td>\n",
       "      <td>1871.000000</td>\n",
       "      <td>1871.000000</td>\n",
       "      <td>1871.000000</td>\n",
       "    </tr>\n",
       "    <tr>\n",
       "      <th>mean</th>\n",
       "      <td>400.636024</td>\n",
       "      <td>0.264954</td>\n",
       "      <td>12.459647</td>\n",
       "      <td>53.720470</td>\n",
       "      <td>51.006948</td>\n",
       "      <td>7.979156</td>\n",
       "      <td>2012.490647</td>\n",
       "      <td>21.868520</td>\n",
       "      <td>2.265099</td>\n",
       "      <td>419.540353</td>\n",
       "      <td>0.259387</td>\n",
       "      <td>38.706574</td>\n",
       "      <td>12.680385</td>\n",
       "      <td>0.324669</td>\n",
       "      <td>54.342598</td>\n",
       "      <td>52.334046</td>\n",
       "      <td>7.714057</td>\n",
       "      <td>0.408976</td>\n",
       "      <td>85.894174</td>\n",
       "      <td>28.959380</td>\n",
       "    </tr>\n",
       "    <tr>\n",
       "      <th>std</th>\n",
       "      <td>105.615495</td>\n",
       "      <td>0.019227</td>\n",
       "      <td>6.645199</td>\n",
       "      <td>17.546833</td>\n",
       "      <td>18.837681</td>\n",
       "      <td>7.421539</td>\n",
       "      <td>1.702717</td>\n",
       "      <td>9.543081</td>\n",
       "      <td>2.390323</td>\n",
       "      <td>130.648401</td>\n",
       "      <td>0.031349</td>\n",
       "      <td>20.161645</td>\n",
       "      <td>9.131390</td>\n",
       "      <td>0.035828</td>\n",
       "      <td>23.408388</td>\n",
       "      <td>24.950885</td>\n",
       "      <td>9.838591</td>\n",
       "      <td>0.069251</td>\n",
       "      <td>34.362779</td>\n",
       "      <td>3.884352</td>\n",
       "    </tr>\n",
       "    <tr>\n",
       "      <th>min</th>\n",
       "      <td>177.000000</td>\n",
       "      <td>0.204698</td>\n",
       "      <td>2.000000</td>\n",
       "      <td>19.000000</td>\n",
       "      <td>17.000000</td>\n",
       "      <td>1.000000</td>\n",
       "      <td>2010.000000</td>\n",
       "      <td>2.000000</td>\n",
       "      <td>0.000000</td>\n",
       "      <td>201.000000</td>\n",
       "      <td>0.146000</td>\n",
       "      <td>4.000000</td>\n",
       "      <td>0.000000</td>\n",
       "      <td>0.174000</td>\n",
       "      <td>4.000000</td>\n",
       "      <td>8.000000</td>\n",
       "      <td>0.000000</td>\n",
       "      <td>0.187000</td>\n",
       "      <td>21.000000</td>\n",
       "      <td>20.000000</td>\n",
       "    </tr>\n",
       "    <tr>\n",
       "      <th>25%</th>\n",
       "      <td>320.000000</td>\n",
       "      <td>0.251424</td>\n",
       "      <td>7.000000</td>\n",
       "      <td>40.000000</td>\n",
       "      <td>36.000000</td>\n",
       "      <td>3.000000</td>\n",
       "      <td>2011.000000</td>\n",
       "      <td>14.000000</td>\n",
       "      <td>0.000000</td>\n",
       "      <td>303.000000</td>\n",
       "      <td>0.239000</td>\n",
       "      <td>24.000000</td>\n",
       "      <td>6.000000</td>\n",
       "      <td>0.301000</td>\n",
       "      <td>35.500000</td>\n",
       "      <td>32.000000</td>\n",
       "      <td>1.000000</td>\n",
       "      <td>0.361000</td>\n",
       "      <td>60.000000</td>\n",
       "      <td>26.000000</td>\n",
       "    </tr>\n",
       "    <tr>\n",
       "      <th>50%</th>\n",
       "      <td>418.000000</td>\n",
       "      <td>0.264916</td>\n",
       "      <td>11.000000</td>\n",
       "      <td>54.000000</td>\n",
       "      <td>50.000000</td>\n",
       "      <td>5.000000</td>\n",
       "      <td>2013.000000</td>\n",
       "      <td>21.000000</td>\n",
       "      <td>2.000000</td>\n",
       "      <td>424.000000</td>\n",
       "      <td>0.259000</td>\n",
       "      <td>35.000000</td>\n",
       "      <td>11.000000</td>\n",
       "      <td>0.323000</td>\n",
       "      <td>52.000000</td>\n",
       "      <td>48.000000</td>\n",
       "      <td>4.000000</td>\n",
       "      <td>0.403000</td>\n",
       "      <td>82.000000</td>\n",
       "      <td>29.000000</td>\n",
       "    </tr>\n",
       "    <tr>\n",
       "      <th>75%</th>\n",
       "      <td>491.000000</td>\n",
       "      <td>0.277039</td>\n",
       "      <td>17.000000</td>\n",
       "      <td>67.000000</td>\n",
       "      <td>65.000000</td>\n",
       "      <td>10.000000</td>\n",
       "      <td>2014.000000</td>\n",
       "      <td>28.000000</td>\n",
       "      <td>3.000000</td>\n",
       "      <td>535.000000</td>\n",
       "      <td>0.281000</td>\n",
       "      <td>50.000000</td>\n",
       "      <td>18.000000</td>\n",
       "      <td>0.347000</td>\n",
       "      <td>72.000000</td>\n",
       "      <td>69.000000</td>\n",
       "      <td>11.000000</td>\n",
       "      <td>0.453000</td>\n",
       "      <td>106.000000</td>\n",
       "      <td>32.000000</td>\n",
       "    </tr>\n",
       "    <tr>\n",
       "      <th>max</th>\n",
       "      <td>593.000000</td>\n",
       "      <td>0.329218</td>\n",
       "      <td>39.000000</td>\n",
       "      <td>104.000000</td>\n",
       "      <td>119.000000</td>\n",
       "      <td>51.000000</td>\n",
       "      <td>2015.000000</td>\n",
       "      <td>55.000000</td>\n",
       "      <td>16.000000</td>\n",
       "      <td>684.000000</td>\n",
       "      <td>0.359000</td>\n",
       "      <td>143.000000</td>\n",
       "      <td>54.000000</td>\n",
       "      <td>0.474000</td>\n",
       "      <td>136.000000</td>\n",
       "      <td>139.000000</td>\n",
       "      <td>68.000000</td>\n",
       "      <td>0.649000</td>\n",
       "      <td>222.000000</td>\n",
       "      <td>43.000000</td>\n",
       "    </tr>\n",
       "  </tbody>\n",
       "</table>\n",
       "</div>"
      ],
      "text/plain": [
       "                AB          AVG           HR            R          RBI  \\\n",
       "count  1871.000000  1871.000000  1871.000000  1871.000000  1871.000000   \n",
       "mean    400.636024     0.264954    12.459647    53.720470    51.006948   \n",
       "std     105.615495     0.019227     6.645199    17.546833    18.837681   \n",
       "min     177.000000     0.204698     2.000000    19.000000    17.000000   \n",
       "25%     320.000000     0.251424     7.000000    40.000000    36.000000   \n",
       "50%     418.000000     0.264916    11.000000    54.000000    50.000000   \n",
       "75%     491.000000     0.277039    17.000000    67.000000    65.000000   \n",
       "max     593.000000     0.329218    39.000000   104.000000   119.000000   \n",
       "\n",
       "                SB       Season    actual_2B    actual_3B    actual_AB  \\\n",
       "count  1871.000000  1871.000000  1871.000000  1871.000000  1871.000000   \n",
       "mean      7.979156  2012.490647    21.868520     2.265099   419.540353   \n",
       "std       7.421539     1.702717     9.543081     2.390323   130.648401   \n",
       "min       1.000000  2010.000000     2.000000     0.000000   201.000000   \n",
       "25%       3.000000  2011.000000    14.000000     0.000000   303.000000   \n",
       "50%       5.000000  2013.000000    21.000000     2.000000   424.000000   \n",
       "75%      10.000000  2014.000000    28.000000     3.000000   535.000000   \n",
       "max      51.000000  2015.000000    55.000000    16.000000   684.000000   \n",
       "\n",
       "        actual_AVG    actual_BB    actual_HR   actual_OBP     actual_R  \\\n",
       "count  1871.000000  1871.000000  1871.000000  1871.000000  1871.000000   \n",
       "mean      0.259387    38.706574    12.680385     0.324669    54.342598   \n",
       "std       0.031349    20.161645     9.131390     0.035828    23.408388   \n",
       "min       0.146000     4.000000     0.000000     0.174000     4.000000   \n",
       "25%       0.239000    24.000000     6.000000     0.301000    35.500000   \n",
       "50%       0.259000    35.000000    11.000000     0.323000    52.000000   \n",
       "75%       0.281000    50.000000    18.000000     0.347000    72.000000   \n",
       "max       0.359000   143.000000    54.000000     0.474000   136.000000   \n",
       "\n",
       "        actual_RBI    actual_SB   actual_SLG    actual_SO   actual_age  \n",
       "count  1871.000000  1871.000000  1871.000000  1871.000000  1871.000000  \n",
       "mean     52.334046     7.714057     0.408976    85.894174    28.959380  \n",
       "std      24.950885     9.838591     0.069251    34.362779     3.884352  \n",
       "min       8.000000     0.000000     0.187000    21.000000    20.000000  \n",
       "25%      32.000000     1.000000     0.361000    60.000000    26.000000  \n",
       "50%      48.000000     4.000000     0.403000    82.000000    29.000000  \n",
       "75%      69.000000    11.000000     0.453000   106.000000    32.000000  \n",
       "max     139.000000    68.000000     0.649000   222.000000    43.000000  "
      ]
     },
     "execution_count": 38,
     "metadata": {},
     "output_type": "execute_result"
    }
   ],
   "source": [
    "marcel_hitters.describe()"
   ]
  },
  {
   "cell_type": "code",
   "execution_count": 39,
   "metadata": {
    "collapsed": false
   },
   "outputs": [
    {
     "data": {
      "text/html": [
       "<div>\n",
       "<table border=\"1\" class=\"dataframe\">\n",
       "  <thead>\n",
       "    <tr style=\"text-align: right;\">\n",
       "      <th></th>\n",
       "      <th>Age</th>\n",
       "      <th>ERA</th>\n",
       "      <th>IP</th>\n",
       "      <th>K</th>\n",
       "      <th>Season</th>\n",
       "      <th>W</th>\n",
       "      <th>WHIP</th>\n",
       "      <th>actual_BB</th>\n",
       "      <th>actual_BF</th>\n",
       "      <th>actual_ERA</th>\n",
       "      <th>actual_FIP</th>\n",
       "      <th>actual_H</th>\n",
       "      <th>actual_IP</th>\n",
       "      <th>actual_K</th>\n",
       "      <th>actual_SV</th>\n",
       "      <th>actual_W</th>\n",
       "      <th>actual_WHIP</th>\n",
       "    </tr>\n",
       "  </thead>\n",
       "  <tbody>\n",
       "    <tr>\n",
       "      <th>count</th>\n",
       "      <td>2354.000000</td>\n",
       "      <td>2354.000000</td>\n",
       "      <td>2354.000000</td>\n",
       "      <td>2354.000000</td>\n",
       "      <td>2354.000000</td>\n",
       "      <td>2354.000000</td>\n",
       "      <td>2354.000000</td>\n",
       "      <td>2354.000000</td>\n",
       "      <td>2354.000000</td>\n",
       "      <td>2354.000000</td>\n",
       "      <td>2354.000000</td>\n",
       "      <td>2354.000000</td>\n",
       "      <td>2354.000000</td>\n",
       "      <td>2354.000000</td>\n",
       "      <td>2354.000000</td>\n",
       "      <td>2354.000000</td>\n",
       "      <td>2354.000000</td>\n",
       "    </tr>\n",
       "    <tr>\n",
       "      <th>mean</th>\n",
       "      <td>28.781223</td>\n",
       "      <td>3.893755</td>\n",
       "      <td>91.398343</td>\n",
       "      <td>75.630416</td>\n",
       "      <td>2012.525064</td>\n",
       "      <td>5.287596</td>\n",
       "      <td>1.310539</td>\n",
       "      <td>31.328802</td>\n",
       "      <td>405.767630</td>\n",
       "      <td>3.891619</td>\n",
       "      <td>3.908008</td>\n",
       "      <td>92.197961</td>\n",
       "      <td>95.849618</td>\n",
       "      <td>80.121071</td>\n",
       "      <td>3.078590</td>\n",
       "      <td>5.534410</td>\n",
       "      <td>1.309510</td>\n",
       "    </tr>\n",
       "    <tr>\n",
       "      <th>std</th>\n",
       "      <td>3.998424</td>\n",
       "      <td>0.514722</td>\n",
       "      <td>50.613519</td>\n",
       "      <td>42.257817</td>\n",
       "      <td>1.700606</td>\n",
       "      <td>3.420166</td>\n",
       "      <td>0.094917</td>\n",
       "      <td>19.083233</td>\n",
       "      <td>253.188384</td>\n",
       "      <td>1.293373</td>\n",
       "      <td>0.941681</td>\n",
       "      <td>60.344611</td>\n",
       "      <td>60.833606</td>\n",
       "      <td>52.789000</td>\n",
       "      <td>8.898122</td>\n",
       "      <td>4.590207</td>\n",
       "      <td>0.225391</td>\n",
       "    </tr>\n",
       "    <tr>\n",
       "      <th>min</th>\n",
       "      <td>20.000000</td>\n",
       "      <td>2.210000</td>\n",
       "      <td>25.000000</td>\n",
       "      <td>18.000000</td>\n",
       "      <td>2010.000000</td>\n",
       "      <td>1.000000</td>\n",
       "      <td>0.943683</td>\n",
       "      <td>3.000000</td>\n",
       "      <td>90.000000</td>\n",
       "      <td>0.600000</td>\n",
       "      <td>0.780000</td>\n",
       "      <td>11.000000</td>\n",
       "      <td>25.100000</td>\n",
       "      <td>7.000000</td>\n",
       "      <td>0.000000</td>\n",
       "      <td>0.000000</td>\n",
       "      <td>0.565000</td>\n",
       "    </tr>\n",
       "    <tr>\n",
       "      <th>25%</th>\n",
       "      <td>26.000000</td>\n",
       "      <td>3.520000</td>\n",
       "      <td>55.000000</td>\n",
       "      <td>45.000000</td>\n",
       "      <td>2011.000000</td>\n",
       "      <td>3.000000</td>\n",
       "      <td>1.251694</td>\n",
       "      <td>17.000000</td>\n",
       "      <td>217.000000</td>\n",
       "      <td>3.002500</td>\n",
       "      <td>3.280000</td>\n",
       "      <td>45.000000</td>\n",
       "      <td>51.000000</td>\n",
       "      <td>41.000000</td>\n",
       "      <td>0.000000</td>\n",
       "      <td>2.000000</td>\n",
       "      <td>1.163250</td>\n",
       "    </tr>\n",
       "    <tr>\n",
       "      <th>50%</th>\n",
       "      <td>28.000000</td>\n",
       "      <td>3.900000</td>\n",
       "      <td>68.000000</td>\n",
       "      <td>61.000000</td>\n",
       "      <td>2013.000000</td>\n",
       "      <td>4.000000</td>\n",
       "      <td>1.313433</td>\n",
       "      <td>26.000000</td>\n",
       "      <td>285.000000</td>\n",
       "      <td>3.750000</td>\n",
       "      <td>3.850000</td>\n",
       "      <td>64.000000</td>\n",
       "      <td>68.100000</td>\n",
       "      <td>63.000000</td>\n",
       "      <td>0.000000</td>\n",
       "      <td>4.000000</td>\n",
       "      <td>1.298000</td>\n",
       "    </tr>\n",
       "    <tr>\n",
       "      <th>75%</th>\n",
       "      <td>31.000000</td>\n",
       "      <td>4.240000</td>\n",
       "      <td>137.000000</td>\n",
       "      <td>103.000000</td>\n",
       "      <td>2014.000000</td>\n",
       "      <td>8.000000</td>\n",
       "      <td>1.372190</td>\n",
       "      <td>43.000000</td>\n",
       "      <td>634.000000</td>\n",
       "      <td>4.610000</td>\n",
       "      <td>4.470000</td>\n",
       "      <td>148.750000</td>\n",
       "      <td>147.075000</td>\n",
       "      <td>109.000000</td>\n",
       "      <td>1.000000</td>\n",
       "      <td>8.000000</td>\n",
       "      <td>1.440000</td>\n",
       "    </tr>\n",
       "    <tr>\n",
       "      <th>max</th>\n",
       "      <td>49.000000</td>\n",
       "      <td>5.580000</td>\n",
       "      <td>209.000000</td>\n",
       "      <td>218.000000</td>\n",
       "      <td>2015.000000</td>\n",
       "      <td>17.000000</td>\n",
       "      <td>1.655914</td>\n",
       "      <td>105.000000</td>\n",
       "      <td>1009.000000</td>\n",
       "      <td>10.690000</td>\n",
       "      <td>8.570000</td>\n",
       "      <td>262.000000</td>\n",
       "      <td>251.000000</td>\n",
       "      <td>301.000000</td>\n",
       "      <td>51.000000</td>\n",
       "      <td>24.000000</td>\n",
       "      <td>2.357000</td>\n",
       "    </tr>\n",
       "  </tbody>\n",
       "</table>\n",
       "</div>"
      ],
      "text/plain": [
       "               Age          ERA           IP            K       Season  \\\n",
       "count  2354.000000  2354.000000  2354.000000  2354.000000  2354.000000   \n",
       "mean     28.781223     3.893755    91.398343    75.630416  2012.525064   \n",
       "std       3.998424     0.514722    50.613519    42.257817     1.700606   \n",
       "min      20.000000     2.210000    25.000000    18.000000  2010.000000   \n",
       "25%      26.000000     3.520000    55.000000    45.000000  2011.000000   \n",
       "50%      28.000000     3.900000    68.000000    61.000000  2013.000000   \n",
       "75%      31.000000     4.240000   137.000000   103.000000  2014.000000   \n",
       "max      49.000000     5.580000   209.000000   218.000000  2015.000000   \n",
       "\n",
       "                 W         WHIP    actual_BB    actual_BF   actual_ERA  \\\n",
       "count  2354.000000  2354.000000  2354.000000  2354.000000  2354.000000   \n",
       "mean      5.287596     1.310539    31.328802   405.767630     3.891619   \n",
       "std       3.420166     0.094917    19.083233   253.188384     1.293373   \n",
       "min       1.000000     0.943683     3.000000    90.000000     0.600000   \n",
       "25%       3.000000     1.251694    17.000000   217.000000     3.002500   \n",
       "50%       4.000000     1.313433    26.000000   285.000000     3.750000   \n",
       "75%       8.000000     1.372190    43.000000   634.000000     4.610000   \n",
       "max      17.000000     1.655914   105.000000  1009.000000    10.690000   \n",
       "\n",
       "        actual_FIP     actual_H    actual_IP     actual_K    actual_SV  \\\n",
       "count  2354.000000  2354.000000  2354.000000  2354.000000  2354.000000   \n",
       "mean      3.908008    92.197961    95.849618    80.121071     3.078590   \n",
       "std       0.941681    60.344611    60.833606    52.789000     8.898122   \n",
       "min       0.780000    11.000000    25.100000     7.000000     0.000000   \n",
       "25%       3.280000    45.000000    51.000000    41.000000     0.000000   \n",
       "50%       3.850000    64.000000    68.100000    63.000000     0.000000   \n",
       "75%       4.470000   148.750000   147.075000   109.000000     1.000000   \n",
       "max       8.570000   262.000000   251.000000   301.000000    51.000000   \n",
       "\n",
       "          actual_W  actual_WHIP  \n",
       "count  2354.000000  2354.000000  \n",
       "mean      5.534410     1.309510  \n",
       "std       4.590207     0.225391  \n",
       "min       0.000000     0.565000  \n",
       "25%       2.000000     1.163250  \n",
       "50%       4.000000     1.298000  \n",
       "75%       8.000000     1.440000  \n",
       "max      24.000000     2.357000  "
      ]
     },
     "execution_count": 39,
     "metadata": {},
     "output_type": "execute_result"
    }
   ],
   "source": [
    "marcel_pitchers.describe()"
   ]
  },
  {
   "cell_type": "markdown",
   "metadata": {},
   "source": [
    "As mentioned above, we will now go through similar processes for the remaining five sources of projection data, but in considerably less detail."
   ]
  },
  {
   "cell_type": "markdown",
   "metadata": {},
   "source": [
    "### FanGraphs\n",
    "FanGraphs is a company-run website that provides historical major and minor league baseball statistics, analysis, and projections. Below, we scrape their projections from each season of interest."
   ]
  },
  {
   "cell_type": "code",
   "execution_count": 40,
   "metadata": {
    "collapsed": false
   },
   "outputs": [],
   "source": [
    "# ========================== CREATE DATAFRAMES OF FANGRAPHS PITCHER & HITTER PROJECTIONS ==============================\n",
    "\n",
    "# Set up our hitter and pitcher pandas DataFrames for FanGraphs method\n",
    "fangraphs_hitters = pd.DataFrame()\n",
    "fangraphs_pitchers = pd.DataFrame()\n",
    "\n",
    "# for each year of projections read in the csv file and append it to the appropriate df\n",
    "ID=[2010, 2011, 2012, 2013, 2014, 2015]\n",
    "for i in ID:\n",
    "    df = pd.read_csv('fangraphs/fans_hitters_{}.csv'.format(i))\n",
    "    fangraphs_hitters = fangraphs_hitters.append(df, ignore_index = True)\n",
    "    df2 = pd.read_csv('fangraphs/fans_pitchers_{}.csv'.format(i))\n",
    "    fangraphs_pitchers = fangraphs_pitchers.append(df2, ignore_index = True)\n",
    "\n",
    "# only keep statistics we are interested in \n",
    "fangraphs_hitters = fangraphs_hitters[['Name', 'AB', 'HR', 'R', 'RBI', 'SB', 'AVG', 'season']]\n",
    "fangraphs_pitchers = fangraphs_pitchers[['Name', 'W', 'ERA', 'IP', 'K','SV', 'WHIP', 'season']]\n",
    "fangraphs_hitters = fangraphs_hitters.rename(columns = {'season' : 'Season'})\n",
    "fangraphs_pitchers = fangraphs_pitchers.rename(columns = {'season' : 'Season'})"
   ]
  },
  {
   "cell_type": "code",
   "execution_count": 41,
   "metadata": {
    "collapsed": false
   },
   "outputs": [],
   "source": [
    "# using a function defined previously, change names to lower case for uniformity\n",
    "\n",
    "fangraphs_pitchers['Name'] = fangraphs_pitchers['Name'].apply(lower_names)\n",
    "fangraphs_hitters['Name'] = fangraphs_hitters['Name'].apply(lower_names)\n",
    "\n",
    "fangraphs_pitchers['First'], fangraphs_pitchers['First_initial'], fangraphs_pitchers['Last'] = \\\n",
    "    fangraphs_pitchers['Name'].apply(split_names_first),fangraphs_pitchers['Name'].apply(split_names_first_initial),\\\n",
    "    fangraphs_pitchers['Name'].apply(split_names_last)\n",
    "fangraphs_pitchers['Abbr_Name'] = fangraphs_pitchers['First_initial'] + ' ' + fangraphs_pitchers['Last']\n",
    "fangraphs_hitters['First'], fangraphs_hitters['First_initial'], fangraphs_hitters['Last'] = \\\n",
    "    fangraphs_hitters['Name'].apply(split_names_first),fangraphs_hitters['Name'].apply(split_names_first_initial),\\\n",
    "    fangraphs_hitters['Name'].apply(split_names_last)\n",
    "fangraphs_hitters['Abbr_Name'] = fangraphs_hitters['First_initial'] + ' ' + fangraphs_hitters['Last']\n",
    "\n",
    "del fangraphs_hitters['First'], fangraphs_hitters['First_initial'], fangraphs_hitters['Last']\n",
    "del fangraphs_pitchers['First'], fangraphs_pitchers['First_initial'], fangraphs_pitchers['Last']"
   ]
  },
  {
   "cell_type": "code",
   "execution_count": 42,
   "metadata": {
    "collapsed": false
   },
   "outputs": [],
   "source": [
    "# assign columns to the correct datatypes\n",
    "fangraphs_hitters[\"AB\"] = fangraphs_hitters[\"AB\"].astype(str)\n",
    "fangraphs_hitters[\"RBI\"] = fangraphs_hitters[\"RBI\"].astype(int)\n",
    "fangraphs_hitters[\"R\"] = fangraphs_hitters[\"R\"].astype(int)\n",
    "fangraphs_hitters[\"HR\"] = fangraphs_hitters[\"HR\"].astype(int)\n",
    "fangraphs_hitters[\"SB\"] = fangraphs_hitters[\"SB\"].astype(int)\n",
    "fangraphs_hitters[\"Season\"] = fangraphs_hitters[\"Season\"].astype(int)\n",
    "\n",
    "fangraphs_pitchers[\"K\"] = fangraphs_pitchers[\"K\"].astype(int)\n",
    "fangraphs_pitchers[\"W\"] = fangraphs_pitchers[\"W\"].astype(int)\n",
    "fangraphs_pitchers[\"Season\"] = fangraphs_pitchers[\"Season\"].astype(int)"
   ]
  },
  {
   "cell_type": "code",
   "execution_count": 43,
   "metadata": {
    "collapsed": false
   },
   "outputs": [],
   "source": [
    "#Take a subset of the fangraphs dataframe to only include players in the actual statistics dataframes\n",
    "new_df_pitch = find_names(pitchersDF, fangraphs_pitchers, season)\n",
    "new_df_hit = find_names(hittersDF, fangraphs_hitters, season)\n",
    "\n",
    "fangraphs_pitchers = new_df_pitch[0].append(new_df_pitch[3])\n",
    "fangraphs_hitters = new_df_hit[0].append(new_df_hit[3])"
   ]
  },
  {
   "cell_type": "code",
   "execution_count": 44,
   "metadata": {
    "collapsed": true
   },
   "outputs": [],
   "source": [
    "fangraphs_hitters[\"AB\"] = pd.to_numeric(fangraphs_hitters.AB)\n",
    "fangraphs_hitters[\"AB\"] = fangraphs_hitters[\"AB\"].astype(int)"
   ]
  },
  {
   "cell_type": "markdown",
   "metadata": {},
   "source": [
    "### Steamer\n",
    "Steamer Projections provides statistical projections for major league baseball players. Below, we will obtain their results for each of our seasons of interest."
   ]
  },
  {
   "cell_type": "code",
   "execution_count": 45,
   "metadata": {
    "collapsed": false
   },
   "outputs": [],
   "source": [
    "# =========================== CREATE DATAFRAMES OF STEAMER PITCHER & HITTER PROJECTIONS ==============================\n",
    "\n",
    "# Set up our hitter and pitcher Pandas DataFrames for Steamer method\n",
    "steamer_hitters = pd.DataFrame()\n",
    "steamer_pitchers = pd.DataFrame()\n",
    "\n",
    "#for each year of projections read in the csv file and append it to the apprpriate df\n",
    "\n",
    "ID=[2010, 2011, 2012, 2013, 2014, 2015]\n",
    "for i in ID:\n",
    "    df = pd.read_csv('steamer/steamer_hitters_{}.csv'.format(i))\n",
    "    steamer_hitters = steamer_hitters.append(df, ignore_index = True)\n",
    "    df2 = pd.read_csv('steamer/steamer_pitchers_{}.csv'.format(i))\n",
    "    steamer_pitchers = steamer_pitchers.append(df2, ignore_index = True)\n",
    "    \n",
    "# only keep statistics we are interested in \n",
    "steamer_hitters = steamer_hitters[['Name', 'AB', 'HR', 'R', 'RBI', 'SB', 'AVG', 'season']]\n",
    "steamer_pitchers = steamer_pitchers[['Name', 'W', 'ERA', 'IP', 'K','SV', 'WHIP', 'season']]\n",
    "steamer_hitters = steamer_hitters.rename(columns = {'season' : 'Season'})\n",
    "steamer_pitchers = steamer_pitchers.rename(columns = {'season' : 'Season'})"
   ]
  },
  {
   "cell_type": "code",
   "execution_count": 46,
   "metadata": {
    "collapsed": true
   },
   "outputs": [],
   "source": [
    "# using a function defined previously, change names to lower case for uniformity\n",
    "steamer_pitchers['Name'] = steamer_pitchers['Name'].apply(lower_names)\n",
    "steamer_hitters['Name'] = steamer_hitters['Name'].apply(lower_names)\n",
    "\n",
    "steamer_pitchers['First'], steamer_pitchers['First_initial'], steamer_pitchers['Last'] = \\\n",
    "    steamer_pitchers['Name'].apply(split_names_first),steamer_pitchers['Name'].apply(split_names_first_initial),\\\n",
    "    steamer_pitchers['Name'].apply(split_names_last)\n",
    "steamer_pitchers['Abbr_Name'] = steamer_pitchers['First_initial'] + ' ' + steamer_pitchers['Last']\n",
    "steamer_hitters['First'], steamer_hitters['First_initial'], steamer_hitters['Last'] = \\\n",
    "    steamer_hitters['Name'].apply(split_names_first),steamer_hitters['Name'].apply(split_names_first_initial),\\\n",
    "    steamer_hitters['Name'].apply(split_names_last)\n",
    "steamer_hitters['Abbr_Name'] = steamer_hitters['First_initial'] + ' ' + steamer_hitters['Last']\n",
    "del steamer_hitters['First'], steamer_hitters['First_initial'], steamer_hitters['Last']\n",
    "del steamer_pitchers['First'], steamer_pitchers['First_initial'], steamer_pitchers['Last']"
   ]
  },
  {
   "cell_type": "code",
   "execution_count": 47,
   "metadata": {
    "collapsed": false
   },
   "outputs": [],
   "source": [
    "# assign columns to the correct datatypes\n",
    "#steamer_hitters[\"AB\"] = pd.to_numeric(steamer_hitters.AB)\n",
    "steamer_hitters[\"AB\"] = steamer_hitters[\"AB\"].astype(str)\n",
    "steamer_hitters[\"RBI\"] = steamer_hitters[\"RBI\"].astype(int)\n",
    "steamer_hitters[\"R\"] = steamer_hitters[\"R\"].astype(int)\n",
    "steamer_hitters[\"HR\"] = steamer_hitters[\"HR\"].astype(int)\n",
    "steamer_hitters[\"SB\"] = steamer_hitters[\"SB\"].astype(int)\n",
    "steamer_hitters[\"Season\"] = steamer_hitters[\"Season\"].astype(int)\n",
    "\n",
    "steamer_pitchers[\"K\"] = steamer_pitchers[\"K\"].astype(int)\n",
    "steamer_pitchers[\"W\"] = steamer_pitchers[\"W\"].astype(int)\n",
    "steamer_pitchers[\"Season\"] = steamer_pitchers[\"Season\"].astype(int)"
   ]
  },
  {
   "cell_type": "code",
   "execution_count": 48,
   "metadata": {
    "collapsed": false
   },
   "outputs": [],
   "source": [
    "#Take a subset of the steamer dataframes to only include players in the actual statistics dataframes\n",
    "new_df_pitch = find_names(pitchersDF, steamer_pitchers, season)\n",
    "new_df_hit = find_names(hittersDF, steamer_hitters, season)\n",
    "\n",
    "steamer_pitchers = new_df_pitch[0].append(new_df_pitch[3])\n",
    "steamer_hitters = new_df_hit[0].append(new_df_hit[3])"
   ]
  },
  {
   "cell_type": "markdown",
   "metadata": {},
   "source": [
    "### Guru\n",
    "The Baseball Guru is another provider of major league baseball statistics, rankings, and forecasts. We will now scrape their projections from 2010-2016."
   ]
  },
  {
   "cell_type": "code",
   "execution_count": 49,
   "metadata": {
    "collapsed": false
   },
   "outputs": [],
   "source": [
    "# ============================= CREATE DATAFRAMES OF GURU PITCHER & HITTER PROJECTIONS ================================\n",
    "\n",
    "# Set up our hitter and pitcher Pandas dataframes for Guru method\n",
    "guru_hitters = pd.DataFrame()\n",
    "guru_pitchers = pd.DataFrame()\n",
    "\n",
    "# for each year of projections read in the csv file and append it to the apprpriate df\n",
    "ID=[2010, 2011, 2012, 2013, 2014, 2015, 2016]\n",
    "for i in ID:\n",
    "    df = pd.read_csv('guru/guru_hitters_{}.csv'.format(i))\n",
    "    guru_hitters = guru_hitters.append(df, ignore_index = True)\n",
    "    \n",
    "    if i != 2015: # Special exception because Guru doesn't have projections for pitchers in 2015\n",
    "        df2 = pd.read_csv('guru/guru_pitchers_{}.csv'.format(i))\n",
    "        guru_pitchers = guru_pitchers.append(df2, ignore_index = True)\n",
    "    else:\n",
    "        pass\n",
    "\n",
    "# only keep statistics we are interested in \n",
    "guru_hitters = guru_hitters[['Name', 'AB', 'HR', 'R', 'RBI', 'SB', 'AVG', 'season']]\n",
    "guru_pitchers = guru_pitchers[['Name', 'W', 'ERA', 'IP', 'K','SV', 'WHIP', 'season']]\n",
    "guru_hitters = guru_hitters.rename(columns = {'season' : 'Season'})\n",
    "guru_pitchers = guru_pitchers.rename(columns = {'season' : 'Season'})"
   ]
  },
  {
   "cell_type": "code",
   "execution_count": 50,
   "metadata": {
    "collapsed": true
   },
   "outputs": [],
   "source": [
    "# drop null values\n",
    "guru_hitters.dropna(inplace=True)\n",
    "guru_pitchers.dropna(inplace=True)"
   ]
  },
  {
   "cell_type": "code",
   "execution_count": 51,
   "metadata": {
    "collapsed": false
   },
   "outputs": [],
   "source": [
    "# replace -'s values with 0's\n",
    "guru_pitchers['SV'] = guru_pitchers['SV'].replace(\".*[\\-].* \",\"0\", regex=True).astype(int)\n",
    "guru_hitters['HR'] = guru_hitters['HR'].replace(\".*[\\-].*\", \"0\", regex=True).astype(int)\n",
    "guru_hitters['SB'] = guru_hitters['SB'].replace(\".*[\\-]*\", \"0\", regex=True).astype(int)\n",
    "guru_pitchers['W'] = guru_pitchers['W'].replace(\".*[\\-]*\", \"0\", regex=True).astype(int)\n",
    "\n",
    "# using a function defined previously, change names to lower case for uniformity\n",
    "\n",
    "guru_pitchers['Name'] = guru_pitchers['Name'].apply(lower_names)\n",
    "guru_hitters['Name'] = guru_hitters['Name'].apply(lower_names)\n",
    "\n",
    "guru_pitchers['First'], guru_pitchers['First_initial'], guru_pitchers['Last'] = \\\n",
    "    guru_pitchers['Name'].apply(split_names_first),guru_pitchers['Name'].apply(split_names_first_initial),\\\n",
    "    guru_pitchers['Name'].apply(split_names_last)\n",
    "guru_pitchers['Abbr_Name'] = guru_pitchers['First_initial'] + ' ' + guru_pitchers['Last']\n",
    "guru_hitters['First'], guru_hitters['First_initial'], guru_hitters['Last'] = \\\n",
    "    guru_hitters['Name'].apply(split_names_first),guru_hitters['Name'].apply(split_names_first_initial),\\\n",
    "    guru_hitters['Name'].apply(split_names_last)\n",
    "guru_hitters['Abbr_Name'] = guru_hitters['First_initial'] + ' ' + guru_hitters['Last']\n",
    "del guru_hitters['First'], guru_hitters['First_initial'], guru_hitters['Last']\n",
    "del guru_pitchers['First'], guru_pitchers['First_initial'], guru_pitchers['Last']"
   ]
  },
  {
   "cell_type": "code",
   "execution_count": 52,
   "metadata": {
    "collapsed": false
   },
   "outputs": [],
   "source": [
    "# assign columns to the correct datatypes\n",
    "guru_hitters[\"AB\"] = pd.to_numeric(guru_hitters.AB)\n",
    "guru_hitters[\"AB\"] = guru_hitters[\"AB\"].astype(int)\n",
    "guru_hitters[\"RBI\"] = guru_hitters[\"RBI\"].astype(int)\n",
    "guru_hitters[\"R\"] = guru_hitters[\"R\"].astype(int)\n",
    "guru_hitters[\"HR\"] = guru_hitters[\"HR\"].astype(int)\n",
    "guru_hitters[\"SB\"] = guru_hitters[\"SB\"].astype(int)\n",
    "guru_hitters[\"Season\"] = guru_hitters[\"Season\"].astype(int)\n",
    "\n",
    "guru_pitchers[\"K\"] = guru_pitchers[\"K\"].astype(int)\n",
    "guru_pitchers[\"W\"] = guru_pitchers[\"W\"].astype(int)\n",
    "guru_pitchers[\"Season\"] = guru_pitchers[\"Season\"].astype(int)"
   ]
  },
  {
   "cell_type": "code",
   "execution_count": 53,
   "metadata": {
    "collapsed": false
   },
   "outputs": [],
   "source": [
    "#Take a subset of the fangraphs dataframe to only include players in the actual statistics dataframes\n",
    "seasons = [2010, 2011, 2012, 2013, 2014, 2016]\n",
    "\n",
    "#use the find names function defined earlier\n",
    "new_df_pitch = find_names(pitchersDF, guru_pitchers, seasons)\n",
    "new_df_hit = find_names(hittersDF, guru_hitters, seasons)\n",
    "\n",
    "guru_pitchers = new_df_pitch[0].append(new_df_pitch[3])\n",
    "guru_hitters = new_df_hit[0].append(new_df_hit[3])"
   ]
  },
  {
   "cell_type": "markdown",
   "metadata": {},
   "source": [
    "### ESPN\n",
    "ESPN is a sports television network and entertainment company that also provides analysis, projections, and rankings for collegiate and professional sports."
   ]
  },
  {
   "cell_type": "code",
   "execution_count": 54,
   "metadata": {
    "collapsed": false
   },
   "outputs": [],
   "source": [
    "# ============================= CREATE DATAFRAMES OF ESPN PITCHER & HITTER PROJECTIONS ================================\n",
    "\n",
    "# empty lists to append to for each year of information\n",
    "espn_hitters = []\n",
    "espn_pitchers = []\n",
    "\n",
    "# append to pitchers dataframe\n",
    "for ID in os.listdir('CSV_files/espn_pitchers/'):\n",
    "    if ID not in '.listing':\n",
    "        with open(os.path.join('./CSV_files/espn_pitchers/', ID)) as inFile:\n",
    "            espn_pitchers.append(pd.read_csv(inFile))\n",
    "            \n",
    "# append to hitters dataframe\n",
    "for ID in os.listdir('CSV_files/espn_hitters/'):\n",
    "    if ID not in '.listing':\n",
    "        with open(os.path.join('./CSV_files/espn_hitters/', ID)) as inFile:\n",
    "            espn_hitters.append(pd.read_csv(inFile))\n",
    "\n",
    "# concatenate master lists into dataframes            \n",
    "espn_pitchers = pd.concat(espn_pitchers)\n",
    "espn_hitters = pd.concat(espn_hitters)\n",
    "\n",
    "# keep only the stats we are interested in and rename columns to match our other dataframes\n",
    "espn_pitchers = espn_pitchers[['name', '    K', '    W', '   IP', '   SV', '  ERA', ' WHIP', 'season']]\n",
    "espn_pitchers.columns = ['Name', 'K', 'W', 'IP', 'SV', 'ERA', 'WHIP', 'Season']\n",
    "espn_hitters = espn_hitters[['Player', '   AB', 'RBI', 'R','HR', 'SB', 'AVG', 'Season']]\n",
    "espn_hitters.columns = ['Name', 'AB', 'RBI', 'R','HR', 'SB', 'AVG', 'Season']"
   ]
  },
  {
   "cell_type": "code",
   "execution_count": 55,
   "metadata": {
    "collapsed": true
   },
   "outputs": [],
   "source": [
    "# convert names to all lower case letters for uniformity\n",
    "espn_pitchers['Name'] = espn_pitchers['Name'].apply(lower_names)\n",
    "espn_hitters['Name'] = espn_hitters['Name'].apply(lower_names)\n",
    "\n",
    "espn_pitchers['First'], espn_pitchers['First_initial'], espn_pitchers['Last'] = \\\n",
    "    espn_pitchers['Name'].apply(split_names_first),espn_pitchers['Name'].apply(split_names_first_initial),\\\n",
    "    espn_pitchers['Name'].apply(split_names_last)\n",
    "espn_pitchers['Abbr_Name'] = espn_pitchers['First_initial'] + ' ' + espn_pitchers['Last']\n",
    "espn_hitters['First'], espn_hitters['First_initial'], espn_hitters['Last'] = \\\n",
    "    espn_hitters['Name'].apply(split_names_first),espn_hitters['Name'].apply(split_names_first_initial),\\\n",
    "    espn_hitters['Name'].apply(split_names_last)\n",
    "espn_hitters['Abbr_Name'] = espn_hitters['First_initial'] + ' ' + espn_hitters['Last']\n",
    "del espn_hitters['First'], espn_hitters['First_initial'], espn_hitters['Last']\n",
    "del espn_pitchers['First'], espn_pitchers['First_initial'], espn_pitchers['Last']"
   ]
  },
  {
   "cell_type": "code",
   "execution_count": 56,
   "metadata": {
    "collapsed": true
   },
   "outputs": [],
   "source": [
    "#Take a subset of the espn dataframes to only include players in the actual statistics dataframes\n",
    "new_df_pitch = find_names(pitchersDF, espn_pitchers, season)\n",
    "new_df_hit = find_names(hittersDF, espn_hitters, season)\n",
    "\n",
    "espn_pitchers = new_df_pitch[0].append(new_df_pitch[3])\n",
    "espn_hitters = new_df_hit[0].append(new_df_hit[3])"
   ]
  },
  {
   "cell_type": "code",
   "execution_count": 57,
   "metadata": {
    "collapsed": true
   },
   "outputs": [],
   "source": [
    "# drop players without statistics\n",
    "\n",
    "# we want to use IP for the 2015 season, which is the only one that included this data\n",
    "espn_pitchers = espn_pitchers.replace(np.nan, -100)\n",
    "\n",
    "#convert invalid data and drop it\n",
    "espn_pitchers = espn_pitchers.replace(r'--', np.nan)\n",
    "espn_pitchers = espn_pitchers.dropna()\n",
    "espn_pitchers = espn_pitchers.replace(-100, np.nan)\n",
    "\n",
    "# want to use AB for the 2015 season, which is the only one that included this data\n",
    "espn_hitters = espn_hitters.replace(np.nan, -100)\n",
    "\n",
    "# convert invalid data and drop it\n",
    "espn_hitters = espn_hitters.replace(r'--', np.nan)\n",
    "espn_hitters = espn_hitters.dropna()\n",
    "espn_hitters = espn_hitters.replace(-100, np.nan)"
   ]
  },
  {
   "cell_type": "code",
   "execution_count": 58,
   "metadata": {
    "collapsed": false
   },
   "outputs": [
    {
     "name": "stdout",
     "output_type": "stream",
     "text": [
      "AB             1581\n",
      "AVG               0\n",
      "Abbr_Name         0\n",
      "HR                0\n",
      "Name              0\n",
      "Pos Summary       0\n",
      "R                 0\n",
      "RBI               0\n",
      "SB                0\n",
      "Season            0\n",
      "actual_2B         0\n",
      "actual_3B         0\n",
      "actual_AB         0\n",
      "actual_AVG        0\n",
      "actual_BB         0\n",
      "actual_HR         0\n",
      "actual_OBP        0\n",
      "actual_R          0\n",
      "actual_RBI        0\n",
      "actual_SB         0\n",
      "actual_SLG        0\n",
      "actual_SO         0\n",
      "actual_age        0\n",
      "dtype: int64\n"
     ]
    }
   ],
   "source": [
    "print espn_hitters.isnull().sum()"
   ]
  },
  {
   "cell_type": "code",
   "execution_count": 59,
   "metadata": {
    "collapsed": false
   },
   "outputs": [],
   "source": [
    "# assign columns to the correct datatypes\n",
    "#espn_hitters[\"AB\"] = pd.to_numeric(espn_hitters.AB)\n",
    "#espn_hitters[\"AB\"] = espn_hitters[\"AB\"].astype(int)\n",
    "espn_hitters[\"AB\"] = espn_hitters[\"AB\"].astype(str)\n",
    "espn_hitters[\"RBI\"] = espn_hitters[\"RBI\"].astype(int)\n",
    "espn_hitters[\"R\"] = espn_hitters[\"R\"].astype(int)\n",
    "espn_hitters[\"HR\"] = espn_hitters[\"HR\"].astype(int)\n",
    "espn_hitters[\"SB\"] = espn_hitters[\"SB\"].astype(int)\n",
    "espn_hitters[\"Season\"] = espn_hitters[\"Season\"].astype(int)\n",
    "espn_hitters[\"AVG\"] = espn_hitters[\"AVG\"].astype(float)\n",
    "\n",
    "espn_pitchers[\"ERA\"] = espn_pitchers[\"ERA\"].astype(float)\n",
    "espn_pitchers[\"WHIP\"] = espn_pitchers[\"WHIP\"].astype(float)\n",
    "espn_pitchers[\"K\"] = espn_pitchers[\"K\"].astype(int)\n",
    "espn_pitchers[\"W\"] = espn_pitchers[\"W\"].astype(int)\n",
    "espn_pitchers[\"Season\"] = espn_pitchers[\"Season\"].astype(int)"
   ]
  },
  {
   "cell_type": "code",
   "execution_count": null,
   "metadata": {
    "collapsed": false
   },
   "outputs": [],
   "source": []
  },
  {
   "cell_type": "markdown",
   "metadata": {},
   "source": [
    "### CBS\n",
    "CBS Sports is the sports division of the commercial broadcast television network, CBS."
   ]
  },
  {
   "cell_type": "code",
   "execution_count": 60,
   "metadata": {
    "collapsed": false
   },
   "outputs": [],
   "source": [
    "# ============================= CREATE DATAFRAMES OF CBS PITCHER & HITTER PROJECTIONS ================================\n",
    "\n",
    "# empty lists to append to for each year of information\n",
    "cbs_hitters = []\n",
    "cbs_pitchers = []\n",
    "\n",
    "# append to pitchers dataframe\n",
    "for ID in os.listdir('CSV_files/cbs_pitchers/'):\n",
    "    if ID not in '.listing':\n",
    "        with open(os.path.join('./CSV_files/cbs_pitchers/', ID)) as inFile:\n",
    "            cbs_pitchers.append(pd.read_csv(inFile))\n",
    "\n",
    "# append to hitters dataframe\n",
    "for ID in os.listdir('CSV_files/cbs_hitters/'):\n",
    "    if ID not in '.listing':\n",
    "        with open(os.path.join('./CSV_files/cbs_hitters/', ID)) as inFile:\n",
    "            cbs_hitters.append(pd.read_csv(inFile))\n",
    "            \n",
    "# concatenate master lists into dataframes            \n",
    "cbs_pitchers = pd.concat(cbs_pitchers)\n",
    "cbs_hitters = pd.concat(cbs_hitters)\n",
    "\n",
    "# keep only the columns with stats we care about\n",
    "cbs_pitchers = cbs_pitchers[['Name', 'SO', 'W', 'IP', 'ERA', 'WHIP', 'Season']]\n",
    "cbs_pitchers.columns = ['Name', 'K', 'W', 'IP', 'ERA', 'WHIP', 'Season']\n",
    "cbs_hitters = cbs_hitters[['Name', 'AB', 'RBI', 'R','HR', 'SB', 'AVG', 'Season']]\n",
    "cbs_hitters.columns = ['Name', 'AB', 'RBI', 'R','HR', 'SB', 'AVG', 'Season']"
   ]
  },
  {
   "cell_type": "code",
   "execution_count": 61,
   "metadata": {
    "collapsed": false
   },
   "outputs": [],
   "source": [
    "# convert names to all lower case letters\n",
    "cbs_pitchers['Name'] = cbs_pitchers['Name'].apply(lower_names)\n",
    "cbs_hitters['Name'] = cbs_hitters['Name'].apply(lower_names)\n",
    "\n",
    "cbs_pitchers['First'], cbs_pitchers['First_initial'], cbs_pitchers['Last'] = \\\n",
    "    cbs_pitchers['Name'].apply(split_names_first),cbs_pitchers['Name'].apply(split_names_first_initial),\\\n",
    "    cbs_pitchers['Name'].apply(split_names_last)\n",
    "cbs_pitchers['Abbr_Name'] = cbs_pitchers['First_initial'] + ' ' + cbs_pitchers['Last']\n",
    "cbs_hitters['First'], cbs_hitters['First_initial'], cbs_hitters['Last'] = \\\n",
    "    cbs_hitters['Name'].apply(split_names_first),cbs_hitters['Name'].apply(split_names_first_initial),\\\n",
    "    cbs_hitters['Name'].apply(split_names_last)\n",
    "cbs_hitters['Abbr_Name'] = cbs_hitters['First_initial'] + ' ' + cbs_hitters['Last']\n",
    "del cbs_hitters['First'], cbs_hitters['First_initial'], cbs_hitters['Last']\n",
    "del cbs_pitchers['First'], cbs_pitchers['First_initial'], cbs_pitchers['Last']"
   ]
  },
  {
   "cell_type": "code",
   "execution_count": 62,
   "metadata": {
    "collapsed": false
   },
   "outputs": [],
   "source": [
    "# assign columns to the correct datatype\n",
    "cbs_hitters['AB'] = pd.to_numeric(cbs_hitters.AB)\n",
    "cbs_hitters[\"AB\"] = cbs_hitters[\"AB\"].astype(int)\n",
    "cbs_hitters[\"RBI\"] = cbs_hitters[\"RBI\"].astype(int)\n",
    "#cbs_hitters[\"R\"] = cbs_hitters[\"R\"].astype(int)\n",
    "cbs_hitters[\"HR\"] = cbs_hitters[\"HR\"].astype(int)\n",
    "cbs_hitters[\"SB\"] = cbs_hitters[\"SB\"].astype(int)\n",
    "cbs_hitters[\"Season\"] = cbs_hitters[\"Season\"].astype(int)\n",
    "\n",
    "cbs_pitchers[\"K\"] = cbs_pitchers[\"K\"].astype(int)\n",
    "cbs_pitchers[\"W\"] = cbs_pitchers[\"W\"].astype(int)\n",
    "cbs_pitchers[\"Season\"] = cbs_pitchers[\"Season\"].astype(int)"
   ]
  },
  {
   "cell_type": "code",
   "execution_count": 63,
   "metadata": {
    "collapsed": false
   },
   "outputs": [],
   "source": [
    "#Take a subset of the CBS dataframes to only include players in the actual statistics dataframes\n",
    "new_df_pitch = find_names(pitchersDF, cbs_pitchers, season)\n",
    "new_df_hit = find_names(hittersDF, cbs_hitters, season)\n",
    "\n",
    "cbs_pitchers = new_df_pitch[0].append(new_df_pitch[3])\n",
    "cbs_hitters = new_df_hit[0].append(new_df_hit[3])\n"
   ]
  },
  {
   "cell_type": "markdown",
   "metadata": {},
   "source": [
    "Below we will use our function defined earlier to add columns to each of our dataframes. These columns are binary columns that have a 1 for a correct prediction and a 0 for an incorrect prediction. In the next section we will discuss \"correct\" predictions and \"incorrect\" predictions in more detail."
   ]
  },
  {
   "cell_type": "code",
   "execution_count": 64,
   "metadata": {
    "collapsed": true
   },
   "outputs": [],
   "source": [
    "hitters_dict = {'RBI':7,'AVG':.005,'R':5, 'HR':5, 'SB':3}\n",
    "pitchers_dict = {'W':2,'K':15,'ERA':.2, 'WHIP':.05}\n",
    "#add the correct columns for our hitters dataframe\n",
    "add_correct_column(steamer_hitters, hitters_dict)\n",
    "add_correct_column(guru_hitters, hitters_dict)\n",
    "add_correct_column(marcel_hitters, hitters_dict)\n",
    "add_correct_column(espn_hitters, hitters_dict)\n",
    "add_correct_column(cbs_hitters, hitters_dict)\n",
    "add_correct_column(fangraphs_hitters, hitters_dict)\n",
    "\n",
    "#add the correct columns for our pitchers dataframe\n",
    "add_correct_column(steamer_pitchers, pitchers_dict)\n",
    "add_correct_column(guru_pitchers, pitchers_dict)\n",
    "add_correct_column(marcel_pitchers, pitchers_dict)\n",
    "add_correct_column(espn_pitchers, pitchers_dict)\n",
    "add_correct_column(cbs_pitchers, pitchers_dict)\n",
    "add_correct_column(fangraphs_pitchers, pitchers_dict)"
   ]
  },
  {
   "cell_type": "markdown",
   "metadata": {},
   "source": [
    "Now, we create new dataframes that we will use in our machine learning portion to try and classify correct and incorrect predictions. So, we join the previous years actual statistics to the projection statistics and then we also have the columns of binary classifications from the chunk of code above. "
   ]
  },
  {
   "cell_type": "code",
   "execution_count": 65,
   "metadata": {
    "collapsed": false
   },
   "outputs": [],
   "source": [
    "new_df_pitch_predict = find_names2(pitchersDF, cbs_pitchers, season)\n",
    "new_df_hit_predict = find_names2(hittersDF, cbs_hitters, season)\n",
    "cbs_pitchers_predictions = new_df_pitch_predict[0].append(new_df_pitch_predict[3])\n",
    "cbs_hitters_predictions = new_df_hit_predict[0].append(new_df_hit_predict[3])\n",
    "\n",
    "new_df_pitch_predict = find_names2(pitchersDF, espn_pitchers, season)\n",
    "new_df_hit_predict = find_names2(hittersDF, espn_hitters, season)\n",
    "espn_pitchers_predictions = new_df_pitch_predict[0].append(new_df_pitch_predict[3])\n",
    "espn_hitters_predictions = new_df_hit_predict[0].append(new_df_hit_predict[3])\n",
    "\n",
    "new_df_pitch_predict = find_names2(pitchersDF, guru_pitchers, season)\n",
    "new_df_hit_predict = find_names2(hittersDF, guru_hitters, season)\n",
    "guru_pitchers_predictions = new_df_pitch_predict[0].append(new_df_pitch_predict[3])\n",
    "guru_hitters_predictions = new_df_hit_predict[0].append(new_df_hit_predict[3])\n",
    "\n",
    "new_df_pitch_predict = find_names2(pitchersDF, steamer_pitchers, season)\n",
    "new_df_hit_predict = find_names2(hittersDF, steamer_hitters, season)\n",
    "steamer_pitchers_predictions = new_df_pitch_predict[0].append(new_df_pitch_predict[3])\n",
    "steamer_hitters_predictions = new_df_hit_predict[0].append(new_df_hit_predict[3])\n",
    "\n",
    "new_df_pitch_predict = find_names2(pitchersDF, fangraphs_pitchers, season)\n",
    "new_df_hit_predict = find_names2(hittersDF, fangraphs_hitters, season)\n",
    "fangraphs_pitchers_predictions = new_df_pitch_predict[0].append(new_df_pitch_predict[3])\n",
    "fangraphs_hitters_predictions = new_df_hit_predict[0].append(new_df_hit_predict[3])\n",
    "\n",
    "new_df_pitch_predict = find_names2(pitchersDF, marcel_pitchers, season)\n",
    "new_df_hit_predict = find_names2(hittersDF, marcel_hitters, season)\n",
    "marcel_pitchers_predictions = new_df_pitch_predict[0].append(new_df_pitch_predict[3])\n",
    "marcel_hitters_predictions = new_df_hit_predict[0].append(new_df_hit_predict[3])\n"
   ]
  },
  {
   "cell_type": "markdown",
   "metadata": {},
   "source": [
    "We are going to now create a master dataframe that will posses all the data we will potentially need when it comes time to run our machine learning algorithms."
   ]
  },
  {
   "cell_type": "code",
   "execution_count": 66,
   "metadata": {
    "collapsed": true
   },
   "outputs": [],
   "source": [
    "# ================================= CREATE MASTER DATAFRAME OF ALL PLAYER PROJECTIONS ================================\n",
    "\n",
    "\n",
    "# create empty lists to append to\n",
    "hitter_predictions = []\n",
    "pitcher_predictions = []\n",
    "\n",
    "# create lists of methods to loop through, one for hitters & one for pitchers\n",
    "hitters_method_list = [cbs_hitters_predictions, espn_hitters_predictions, fangraphs_hitters_predictions, \\\n",
    "                       guru_hitters_predictions, marcel_hitters_predictions, steamer_hitters_predictions]\n",
    "pitchers_method_list = [cbs_pitchers_predictions, espn_pitchers_predictions, fangraphs_pitchers_predictions,\\\n",
    "                        guru_pitchers_predictions, marcel_pitchers_predictions, steamer_pitchers_predictions]\n",
    "\n",
    "# create a method column in each dataframe\n",
    "for i in xrange(len(hitters_method_list)):\n",
    "    hitters_method_list[i][\"method\"] = float(i) \n",
    "for i in xrange(len(pitchers_method_list)):\n",
    "    pitchers_method_list[i][\"method\"] = float(i)\n",
    "\n",
    "# loop through hitters projection dataframes\n",
    "for methodDF in hitters_method_list:\n",
    "    hitter_predictions.append(methodDF)\n",
    "# concatenate master hitter projections list into pandas DataFrame\n",
    "hitter_predictions = pd.concat(hitter_predictions)\n",
    "\n",
    "# loop through pitchers projection dataframes\n",
    "for methodDF in pitchers_method_list:\n",
    "    pitcher_predictions.append(methodDF)\n",
    "# concatenate master pitcher projections list into pandas DataFrame\n",
    "pitcher_predictions = pd.concat(pitcher_predictions)"
   ]
  },
  {
   "cell_type": "code",
   "execution_count": 67,
   "metadata": {
    "collapsed": false,
    "scrolled": true
   },
   "outputs": [
    {
     "data": {
      "text/plain": [
       "Index([u'Abbr_Name', u'Age', u'ERA', u'IP', u'K', u'Name',\n",
       "       u'Prediction_Season', u'SV', u'Season', u'W', u'WHIP', u'correct_ERA',\n",
       "       u'correct_K', u'correct_W', u'correct_WHIP', u'method', u'previous_BB',\n",
       "       u'previous_BF', u'previous_ERA', u'previous_FIP', u'previous_H',\n",
       "       u'previous_IP', u'previous_K', u'previous_SV', u'previous_W',\n",
       "       u'previous_WHIP'],\n",
       "      dtype='object')"
      ]
     },
     "execution_count": 67,
     "metadata": {},
     "output_type": "execute_result"
    }
   ],
   "source": [
    "pitcher_predictions.columns"
   ]
  },
  {
   "cell_type": "code",
   "execution_count": 68,
   "metadata": {
    "collapsed": false
   },
   "outputs": [],
   "source": [
    "# hitters\n",
    "\n",
    "hitter_predictions = hitter_predictions.dropna()\n",
    "\n",
    "x_hitters = hitter_predictions[hitter_predictions.columns.difference(['Abbr_Name', 'Name', 'Pos Summary', 'Season', \\\n",
    "                        'correct_AVG', 'correct_HR', 'correct_R', 'correct_RBI', 'correct_SB', 'AB', 'Prediction_Season'])]\n",
    "\n",
    "to_predict_hitters = ['correct_AVG', 'correct_HR', 'correct_R', 'correct_RBI', 'correct_SB']\n",
    "\n",
    "\n",
    "# pitchers\n",
    "\n",
    "pitcher_predictions = pitcher_predictions.dropna()\n",
    "\n",
    "x_pitchers = pitcher_predictions[pitcher_predictions.columns.difference(['Abbr_Name', 'Name', 'Season',\\\n",
    "                'Prediction_Season', 'correct_ERA', 'correct_K', 'correct_W', 'correct_WHIP', 'IP', 'SV'])]\n",
    "\n",
    "to_predict_pitchers = ['correct_ERA', 'correct_K', 'correct_W', 'correct_WHIP']"
   ]
  },
  {
   "cell_type": "markdown",
   "metadata": {
    "collapsed": true
   },
   "source": [
    "After cleaning all of our dataframes we double checked that all the appropriate data was included, no unintended missing values or wrong values, and no duplicates. We now have a clean hitters and pitchers dataframe for the 6 prediction methods for 2010-2015, and a hitters and pitchers dataframe for the actual statistics of the years 2010-2016. "
   ]
  },
  {
   "cell_type": "markdown",
   "metadata": {},
   "source": [
    "# Data Visualization "
   ]
  },
  {
   "cell_type": "markdown",
   "metadata": {},
   "source": [
    "We began by looking through all of our data and trying to observe different components for both pitchers and hitters and how their statistics would correlate.  We begin by viewing a line graph wherein we observe the correlation of how well a player does in the homerun category and bases stolen.  We observed that just because a player does better in one field does not help him improve in another area.\n",
    "\n",
    "We then viewed the statistics of the top 25 pitchers and hitters to compare how they compared with one another.\n",
    "\n",
    "We continue with several box plots to view the different statistics of actual hitter data and the projections of hitter AVG (which we use to observe outliers and determine if they are valid or need to be revisited)"
   ]
  },
  {
   "cell_type": "code",
   "execution_count": 69,
   "metadata": {
    "collapsed": false
   },
   "outputs": [],
   "source": [
    "from matplotlib import pyplot as plt\n",
    "#import seaborn as sns\n",
    "%matplotlib inline\n",
    "from operator import truediv"
   ]
  },
  {
   "cell_type": "code",
   "execution_count": 70,
   "metadata": {
    "collapsed": false
   },
   "outputs": [
    {
     "data": {
      "image/png": "[encoded data removed]",
      "text/plain": [
       "<matplotlib.figure.Figure at 0x7fe2798bad10>"
      ]
     },
     "metadata": {},
     "output_type": "display_data"
    }
   ],
   "source": [
    "# grab SB statistics for each player of interest\n",
    "# taking 2009 off because when we made these graphs we did not have 2009 stats\n",
    "pence_SB_stats = hittersDF[(hittersDF['Name'] == 'hunter pence') & (hittersDF['Season'] != 2009)]\\\n",
    "    ['actual_SB'].tolist()[::-1]\n",
    "gonzo_SB_stats = hittersDF[(hittersDF['Name'] == 'adrian gonzalez') & (hittersDF['Season'] != 2009)]\\\n",
    "    ['actual_SB'].tolist()[::-1]\n",
    "ramirez_SB_stats = hittersDF[(hittersDF['Name'] == 'hanley ramirez') & (hittersDF['Season'] != 2009)]\\\n",
    "    ['actual_SB'].tolist()[::-1]\n",
    "# grab HR statistics for each player of interest\n",
    "pence_HR_stats = hittersDF[(hittersDF['Name'] == 'hunter pence') & (hittersDF['Season'] != 2009)]\\\n",
    "    ['actual_HR'].tolist()[::-1]\n",
    "gonzo_HR_stats = hittersDF[(hittersDF['Name'] == 'adrian gonzalez') & (hittersDF['Season'] != 2009)]\\\n",
    "    ['actual_HR'].tolist()[::-1]\n",
    "ramirez_HR_stats = hittersDF[(hittersDF['Name'] == 'hanley ramirez') & (hittersDF['Season'] != 2009)]\\\n",
    "    ['actual_HR'].tolist()[::-1]\n",
    "\n",
    "# list of years\n",
    "yrs = np.array([10, 11, 12, 13, 14, 15, 16])\n",
    "\n",
    "plt.figure(figsize=(10,4))\n",
    "\n",
    "plt.subplot(1,2,1)\n",
    "plt.plot(yrs, pence_SB_stats, label='Hunter Pence')\n",
    "plt.plot(yrs, gonzo_SB_stats, label='Adrian Gonzalez')\n",
    "plt.plot(yrs, ramirez_SB_stats, label='Hanley Ramirez')\n",
    "plt.title(\"Stolen Bases by Year\")\n",
    "plt.legend(loc='best')\n",
    "plt.ylabel('Number of Stolen Bases')\n",
    "plt.xlabel('Season, 20--')\n",
    "plt.xlim(10, 16)\n",
    "\n",
    "plt.subplot(1,2,2)\n",
    "plt.plot(yrs, pence_HR_stats)\n",
    "plt.plot(yrs, gonzo_HR_stats)\n",
    "plt.plot(yrs, ramirez_HR_stats)\n",
    "plt.title(\"Home Runs by Year\")\n",
    "plt.ylabel('Number of Home Runs')\n",
    "plt.xlabel('Season, 20--')\n",
    "plt.xlim(10, 16)\n",
    "plt.show()"
   ]
  },
  {
   "cell_type": "markdown",
   "metadata": {},
   "source": [
    "The problem of predicting player statistics is not a simple one, as player performance can vary dramatically and sometimes inexplicably from season to season. The graphs above demonstrate this fact, along with the fact that a player's increase in performance in one area does not necessarily lead to an increase in performance in all other areas. Hunter Pence's stolen base performance jumped up and down across the seasons in between 2010 and 2016, and so did his home run performance. Adrian Gonzalez's stolen base performance stayed pretty consistently near zero for all years, but his home run performance jumped up and down across those same years. Hanley Ramirez, on the other hand, overall got better at hitting home runs, but significantly lowered his stolen base count across those same seasons. \n",
    "One important thing to note, however, is that a decrease in one statistic does not mean that a player is worse. For instance, maybe a player's decrease in stolen bases is a direct result of his hitting more home runs, and simply not being left on the bases as often to realize those base-stealing opportunities. This makes the prediction problem a difficult one that cannot necessarily be answered by just looking at player statistics across years and identifying increases in various areas. This, in turn, makes the fantasy baseball draft selection problem a complicated one as well."
   ]
  },
  {
   "cell_type": "code",
   "execution_count": 71,
   "metadata": {
    "collapsed": true
   },
   "outputs": [],
   "source": [
    "top25HRs = hittersDF[hittersDF['Season'] == 2016].nlargest(25, 'actual_HR')\n",
    "top25SBs = hittersDF[hittersDF['Season'] == 2016].nlargest(25, 'actual_SB')"
   ]
  },
  {
   "cell_type": "code",
   "execution_count": 72,
   "metadata": {
    "collapsed": false,
    "scrolled": false
   },
   "outputs": [
    {
     "name": "stderr",
     "output_type": "stream",
     "text": [
      "/usr/local/anaconda2/lib/python2.7/site-packages/matplotlib/axes/_axes.py:519: UserWarning: No labelled objects found. Use label='...' kwarg on individual plots.\n",
      "  warnings.warn(\"No labelled objects found. \"\n"
     ]
    },
    {
     "data": {
      "image/png": "[encoded data removed]",
      "text/plain": [
       "<matplotlib.figure.Figure at 0x7fe271b58250>"
      ]
     },
     "metadata": {},
     "output_type": "display_data"
    }
   ],
   "source": [
    "# include only stats of interest (indexing)\n",
    "HR_means = top25HRs.mean().tolist()[-8:-3]\n",
    "SB_means = top25SBs.mean().tolist()[-8:-3]\n",
    "# taking off 2009 because when we made the visualizations we did not have 2009 data\n",
    "total_means = hittersDF[hittersDF['Season'] != 2009].mean().tolist()[-8:-3]\n",
    "#print hittersDF[hittersDF['Season'] != 2009].mean()\n",
    "#print total_means\n",
    "stats = ['R', 'HR', 'RBI', 'SB', 'BA']\n",
    "nums = [1,2,3,4,5]\n",
    "nums_shift = [1.2, 2.2, 3.2, 4.2, 5.2]\n",
    "nums_shift2 = [1.4, 2.4, 3.4, 4.4, 5.4]\n",
    "\n",
    "plt.figure(figsize=(16,4))\n",
    "\n",
    "plt.subplot(1,3,1)\n",
    "plt.bar(nums[:3], HR_means[:3], align='center', width=.2, label = 'Average of top 25 HR hitters')\n",
    "plt.bar(nums_shift[:3], SB_means[:3], align = 'center', width=.2, label = 'Average of top 25 SB hitters', color='red')\n",
    "plt.bar(nums_shift2[:3], total_means[:3], align='center', width=.2, label = 'Average of all hitters', color = 'green')\n",
    "plt.xticks(nums[:3], stats[:3])\n",
    "plt.legend(loc='best')\n",
    "plt.ylim(0,150)\n",
    "plt.ylabel(\"Average statistic value\")\n",
    "\n",
    "plt.subplot(1,3,2)\n",
    "plt.bar(nums[3:4], HR_means[3:4], align='center', width=.2)\n",
    "plt.bar(nums_shift[3:4], SB_means[3:4], align = 'center', width=.2,  color='red')\n",
    "plt.bar(nums_shift2[3:4], total_means[3:4], align='center', width=.2, color = 'green')\n",
    "plt.xticks(nums[3:4], stats[3:4])\n",
    "plt.legend(loc='best')\n",
    "plt.title('Comparison of Top 25 HR vs. SB Hitters Statistics in 2016')\n",
    "plt.ylim(0,35)\n",
    "\n",
    "plt.subplot(1,3,3)\n",
    "plt.bar(nums[4:], HR_means[4:], align='center', width=.2, color = 'blue')\n",
    "plt.bar(nums_shift[4:], SB_means[4:], align = 'center', width=.2, color = 'red')\n",
    "plt.bar(nums_shift2[4:], total_means[4:], align='center', width=.2, color = 'green')\n",
    "plt.xticks(nums[4:], stats[4:])\n",
    "plt.legend(loc='best')\n",
    "plt.ylim(0,.30)\n",
    "\n",
    "plt.show()"
   ]
  },
  {
   "cell_type": "markdown",
   "metadata": {},
   "source": [
    "These graphs tell a similar story to that mentioned above. Making the fantasy baseball draft selection is not so simple as choosing the next player with the highest statistic, because he might not be as good in other areas as he is in any given particular one. Note that the y-axis values here are different, because the statistics scale very differently. The blue portions of the above charts represent average statistics for the top 25 hitters in the home run category; the red portions of the above charts represent average statistics for the top 25 hitters in the stolen bases category. While the mean batting averages of these two groups do not differ by much, their stolen bases vary by quite a bit. This shows a layer of complexity in the drafting problem: making a draft selection to maximize a certain statistic often comes at the cost of losing out on another statistic. More importantly, selecting a player whose stats are inflated in one area does not guarantee that their stats will be inflated in other areas."
   ]
  },
  {
   "cell_type": "code",
   "execution_count": 73,
   "metadata": {
    "collapsed": false
   },
   "outputs": [],
   "source": [
    "top25ERAs = pitchersDF[pitchersDF['Season'] == 2016].nsmallest(25, 'actual_ERA')\n",
    "top25Ws = pitchersDF[pitchersDF['Season'] == 2016].nlargest(25, 'actual_W')"
   ]
  },
  {
   "cell_type": "code",
   "execution_count": 74,
   "metadata": {
    "collapsed": false
   },
   "outputs": [
    {
     "data": {
      "image/png": "[encoded data removed]",
      "text/plain": [
       "<matplotlib.figure.Figure at 0x7fe2717f4350>"
      ]
     },
     "metadata": {},
     "output_type": "display_data"
    }
   ],
   "source": [
    "# only include stats of interest (indexing)\n",
    "ERA_means = top25ERAs.mean().tolist()[2:-6]\n",
    "W_means = top25Ws.mean().tolist()[2:-6]\n",
    "total_means_pitch = pitchersDF.mean().tolist()[2:-6]\n",
    "\n",
    "stats_pitch = ['K', 'W', 'SV', 'ERA', 'WHIP']\n",
    "nums_pitch = [1,2,3,4,5]\n",
    "nums_shift_pitch = [1.2, 2.2, 3.2, 4.2, 5.2]\n",
    "nums_shift2_pitch = [1.4, 2.4, 3.4, 4.4, 5.4]\n",
    "\n",
    "plt.figure(figsize=(15,4))\n",
    "\n",
    "plt.subplot(1,3,1)\n",
    "plt.bar(nums_pitch[0:1], ERA_means[0:1], align='center', width=.2, label = 'Average of top 25 ERA pitchers')\n",
    "plt.bar(nums_shift_pitch[0:1], W_means[0:1], align = 'center', width=.2, label = 'Average of top 25 W pitchers', color='red')\n",
    "plt.bar(nums_shift2_pitch[0:1], total_means_pitch[0:1], align='center', width=.2, label = 'Average of all pitchers', color = 'green')\n",
    "plt.xticks(nums_pitch[0:1], stats_pitch[0:1])\n",
    "plt.legend(loc='best')\n",
    "plt.ylim(0,285)\n",
    "plt.ylabel(\"Average statistic value\")\n",
    "\n",
    "plt.subplot(1,3,2)\n",
    "plt.bar(nums_pitch[1:3], ERA_means[1:3], align='center', width=.2)\n",
    "plt.bar(nums_shift_pitch[1:3], W_means[1:3], align = 'center', width=.2, color='red')\n",
    "plt.bar(nums_shift2_pitch[1:3], total_means_pitch[1:3], align='center', width=.2, color = 'green')\n",
    "plt.xticks(nums_pitch[1:3], stats_pitch[1:3])\n",
    "plt.title('Comparison of Top 25 ERA vs. W Pitchers Statistics 2016')\n",
    "plt.legend(loc='best')\n",
    "plt.ylim(0,20)\n",
    "\n",
    "plt.subplot(1,3,3)\n",
    "plt.bar(nums_pitch[3:], ERA_means[3:], align='center', width=.2)\n",
    "plt.bar(nums_shift_pitch[3:], W_means[3:], align = 'center', width=.2, color='red')\n",
    "plt.bar(nums_shift2_pitch[3:], total_means_pitch[3:], align='center', width=.2, color = 'green')\n",
    "plt.xticks(nums_pitch[3:], stats_pitch[3:])\n",
    "plt.legend(loc='best')\n",
    "plt.ylim(0,4.5)\n",
    "\n",
    "plt.show()"
   ]
  },
  {
   "cell_type": "markdown",
   "metadata": {},
   "source": [
    "We have the same result among pitchers for the 2016 season. Note again that the y-axis values are very different among the three graphs because the statistics scale very differently. Here, it is especially obvious that if we choose the pitcher with the most saves, that pitcher will likely not have very many wins simply because of the nature of relief versus starting pitching, and choosing that player will result in a below-average number of wins. Likewise, selecting a pitcher with the lowest ERA will result in an average number of strikeouts, whereas choosing a pitcher with a slightly higher ERA but more wins has a better chance of maximizing strikeouts."
   ]
  },
  {
   "cell_type": "code",
   "execution_count": 75,
   "metadata": {
    "collapsed": false
   },
   "outputs": [
    {
     "data": {
      "image/png": "[encoded data removed]",
      "text/plain": [
       "<matplotlib.figure.Figure at 0x7fe2798ba1d0>"
      ]
     },
     "metadata": {},
     "output_type": "display_data"
    },
    {
     "data": {
      "image/png": "[encoded data removed]",
      "text/plain": [
       "<matplotlib.figure.Figure at 0x7fe27157db50>"
      ]
     },
     "metadata": {},
     "output_type": "display_data"
    }
   ],
   "source": [
    "# boxplots for 2016\n",
    "\n",
    "# NOTE: Stats are split up into different graphs to deal with y-axis scaling\n",
    "plt.figure(figsize=(15,4))\n",
    "\n",
    "plt.subplot(1,3,1)\n",
    "hittersDF[hittersDF['Season'] == 2016].boxplot(column = ['actual_R', 'actual_HR', 'actual_RBI'])\n",
    "plt.ylabel('Number of Runs, HomeRuns, and RBIs, respectively')\n",
    "plt.subplot(1,3,2)\n",
    "hittersDF[hittersDF['Season'] == 2016].boxplot(column = ['actual_SB'])\n",
    "plt.ylabel('Number of Bases')\n",
    "plt.title('Actual Hitter Statistics for 2016')\n",
    "plt.subplot(1,3,3)\n",
    "hittersDF[hittersDF['Season'] == 2016].boxplot(column = ['actual_AVG'])\n",
    "plt.ylabel('Batting Average')\n",
    "plt.show()\n",
    "\n",
    "plt.figure(figsize=(15,4))\n",
    "\n",
    "plt.subplot(1,3,1)\n",
    "pitchersDF[pitchersDF['Season'] == 2016].boxplot(column = ['actual_ERA', 'actual_WHIP'])\n",
    "plt.ylabel('ERA and WHIP, respectively')\n",
    "plt.subplot(1,3,2)\n",
    "pitchersDF[pitchersDF['Season'] == 2016].boxplot(column = ['actual_SV', 'actual_W'])\n",
    "plt.ylabel('Number of Saves and Wins, respectively')\n",
    "plt.title('Actual Pitcher Statistics for 2016')\n",
    "plt.subplot(1,3,3)\n",
    "pitchersDF[pitchersDF['Season'] == 2016].boxplot(column = 'actual_K')\n",
    "plt.ylabel('Number of Strikeouts')\n",
    "plt.show()"
   ]
  },
  {
   "cell_type": "markdown",
   "metadata": {},
   "source": [
    "These boxplots demonstrate the distributions of the various hitting and pitching statistics from the 2016 season. Certain statistics are much more prone to outliers than others. Batting average, once we account for the number of at bats, is an example of a statistic that is not very prone to outliers. Stolen bases, on the other hand, have most of the league fitting in between 0 and 10 bases, while there are several outliers upwards of 20, 30, or even 40. It also demonstrates that when outliers do occur, no matter the statistics, it is much more likely that they will be above the expected value. That is, most outliers occur on the upper end of the spectrum for each statistic. It should be noted that other season's distributions were similar. We will now take a closer look at hitter batting average projections and pitcher strikeout projections, and their distributions for each predictor."
   ]
  },
  {
   "cell_type": "code",
   "execution_count": 76,
   "metadata": {
    "collapsed": false,
    "scrolled": false
   },
   "outputs": [
    {
     "data": {
      "image/png": "[encoded data removed]",
      "text/plain": [
       "<matplotlib.figure.Figure at 0x7fe2716e5450>"
      ]
     },
     "metadata": {},
     "output_type": "display_data"
    }
   ],
   "source": [
    "# 2014 projections for strikeouts\n",
    "\n",
    "plt.figure(figsize=(15,9))\n",
    "\n",
    "plt.subplot(3,3,1)\n",
    "guru_hitters[guru_hitters['Season']==2014].boxplot(column='AVG')\n",
    "plt.ylim(.15,.40)\n",
    "plt.ylabel('Batting Average (AVG)')\n",
    "plt.title(\"Guru AVG Projections\")\n",
    "\n",
    "plt.subplot(3,3,2)\n",
    "cbs_hitters[cbs_hitters['Season']==2014].boxplot(column='AVG')\n",
    "plt.ylim(.15,.40)\n",
    "plt.title(\"CBS AVG Projections\")\n",
    "\n",
    "# FIX THIS ------------------------------------------------------------------------\n",
    "plt.subplot(3,3,3)\n",
    "espn_hitters[espn_hitters['Season']==2014].boxplot(column='AVG')\n",
    "plt.ylim(.15,.40)\n",
    "plt.title(\"ESPN AVG Projections\")\n",
    "\n",
    "\n",
    "plt.subplot(3,3,4)\n",
    "steamer_hitters[steamer_hitters['Season']==2014].boxplot(column='AVG')\n",
    "plt.ylim(.15,.40)\n",
    "plt.ylabel('Batting Average (AVG)')\n",
    "plt.title(\"Steamer AVG Projections\")\n",
    "\n",
    "plt.subplot(3,3,5)\n",
    "fangraphs_hitters[fangraphs_hitters['Season']==2014].boxplot(column='AVG')\n",
    "plt.ylim(.15,.40)\n",
    "plt.title(\"FanGraphs AVG Projections\")\n",
    "\n",
    "plt.subplot(3,3,6)\n",
    "marcel_hitters[marcel_hitters['Season']==2014].boxplot(column='AVG')\n",
    "plt.ylim(.15,.40)\n",
    "plt.title(\"Marcel AVG Projections\")\n",
    "\n",
    "plt.subplot(3,3,7)\n",
    "hittersDF[hittersDF['Season']==2014].boxplot(column='actual_AVG')\n",
    "plt.ylim(.15,.40)\n",
    "plt.title(\"Actual AVG Values\")\n",
    "plt.ylabel('Batting Average (AVG)')\n",
    "plt.tight_layout(pad=0.4, w_pad=0.5, h_pad=1.0)\n",
    "plt.show()"
   ]
  },
  {
   "cell_type": "markdown",
   "metadata": {},
   "source": [
    "While their variances seem fairly similar, we can see a bit of a difference in the way that these different models predict for batting average (AVG). The boxplots above show the different projections for hitters' AVG for the year 2014. FanGraphs doesn't predict as many outliers, while Guru seems to predict the most outliers. FanGraphs also predicted the highest on average, while Guru predicted the lowest on average (this was probably brought down due to the several outliers they predicted to have low batting averages). Overall, however, we see that these prediction methods are very similar in terms of their means and variances. We expect these means and variances to be very close to league means and variances for actual observed batting averages if these projection methods are any good. Indeed, we see from the last box plot that the mean is close to these predictor's means. The variance is much larger in the true observed values - these are due to players and circumstances that are perhaps more unexpected, and thus much more difficult to predict."
   ]
  },
  {
   "cell_type": "markdown",
   "metadata": {},
   "source": [
    "Here we set up a function that plots a bar graph of the prediction and the actual aggregate of a given statistic for each season."
   ]
  },
  {
   "cell_type": "code",
   "execution_count": 77,
   "metadata": {
    "collapsed": false
   },
   "outputs": [],
   "source": [
    "def stat_plot(df, season, statistic,method = 'compare'):\n",
    "    \"\"\"this function will plot the predicted and the actual sum of a given statistic for each season \n",
    "    parameters:\n",
    "    df (pandas dataframe): the prediction method's dataframe that we want to graph\n",
    "    season (list): List of seasons that we want to plot for\n",
    "    statistic (string): the statistic we want to plot\n",
    "    method: determine whether to graph projected and actual side by side (method==compare) or graph projected/actual\n",
    "    returns: nothing, but it does make a bar graph of the aggregated stats for the actual and projected \"\"\"\n",
    "    x_list = [] #list for projected stats\n",
    "    x2_list = [] #list for actual stats\n",
    "    for i in season:\n",
    "        df_subset = df[df['Season']==i]\n",
    "        x_list.append(df_subset[statistic].sum())\n",
    "        x2_list.append(df_subset['actual_'+statistic].sum())\n",
    "        \n",
    "    x3_list = map(truediv, x_list, x2_list) #list of proportions of projected/actual per year\n",
    "    #set up the dimensions of the graph\n",
    "    index = np.arange(len(season))\n",
    "    bar_width = 0.35\n",
    "    if method == 'compare':\n",
    "        #makes bars for the projected stats\n",
    "        rects1 = plt.bar(index, x_list, bar_width,\n",
    "                         #color='b',\n",
    "                         label='Projected')\n",
    "        #Makes bars for the actual stats\n",
    "        rects2 = plt.bar(index + bar_width, x2_list, bar_width,\n",
    "                         #color='g',\n",
    "                         label='Actual')\n",
    "        plt.xlabel('Season')\n",
    "        plt.ylabel(statistic)\n",
    "        #plt.title(statistic + ' per season')\n",
    "        plt.xticks(index + bar_width/2, season)\n",
    "    plt.legend(loc = 'best')"
   ]
  },
  {
   "cell_type": "markdown",
   "metadata": {},
   "source": [
    "We now graph 6 subplots. On each subplot will be a bar graph of the prediction of the aggregate runs and the actual aggregate runs for each season and each prediction method"
   ]
  },
  {
   "cell_type": "code",
   "execution_count": 78,
   "metadata": {
    "collapsed": false
   },
   "outputs": [
    {
     "data": {
      "image/png": "[encoded data removed]",
      "text/plain": [
       "<matplotlib.figure.Figure at 0x7fe271c3cc10>"
      ]
     },
     "metadata": {},
     "output_type": "display_data"
    },
    {
     "data": {
      "image/png": "[encoded data removed]",
      "text/plain": [
       "<matplotlib.figure.Figure at 0x7fe271a72310>"
      ]
     },
     "metadata": {},
     "output_type": "display_data"
    }
   ],
   "source": [
    "plt.figure(figsize=(18,10))\n",
    "#Sets up the subplots for our 6 graphs using the stat_plot method\n",
    "plt.subplot(231)\n",
    "stat_plot(guru_hitters,[2010,2011, 2012, 2013, 2014, 2016],'R' )\n",
    "plt.ylim(0,25000)\n",
    "plt.title(\"GURU Runs/season\")\n",
    "\n",
    "plt.subplot(232)\n",
    "stat_plot(fangraphs_hitters,[2010,2011, 2012, 2013, 2014, 2015], \"R\" )\n",
    "plt.ylim(0,25000)\n",
    "plt.title(\"Fangraphs Runs/season\")\n",
    "\n",
    "\n",
    "plt.subplot(233)\n",
    "stat_plot(steamer_hitters, [2010,2011, 2012, 2013, 2014, 2015],\"R\")\n",
    "plt.ylim(0,25000)\n",
    "plt.title(\"Steamer Runs/season\")\n",
    "\n",
    "\n",
    "plt.subplot(234)\n",
    "stat_plot(espn_hitters, [2011, 2012, 2013, 2014, 2015],\"R\")\n",
    "plt.ylim(0,25000)\n",
    "plt.title(\"ESPN Runs/season\")\n",
    "\n",
    "\n",
    "plt.subplot(235)\n",
    "stat_plot(cbs_hitters, [2010,2011, 2012, 2013, 2014],\"R\")\n",
    "plt.ylim(0,25000)\n",
    "plt.title(\"CBS Runs/season\")\n",
    "\n",
    "plt.subplot(236)\n",
    "stat_plot(marcel_hitters, [2010,2011, 2012, 2013, 2014, 2015],\"R\")\n",
    "plt.ylim(0,25000)\n",
    "plt.title(\"Marcel Runs/season\")\n",
    "\n",
    "plt.tight_layout(pad=0.4, w_pad=0.5, h_pad=1.0)\n",
    "plt.show()\n",
    "\n",
    "#Now we will do a similar graph as above only we will compare projections of strikeouts to actual\n",
    "plt.figure(figsize=(18,10))\n",
    "\n",
    "#Sets up the subplots for our 6 graphs using the stat_plot method\n",
    "plt.subplot(231)\n",
    "stat_plot(guru_pitchers,[2010,2011, 2012, 2013, 2014, 2016],'K' )\n",
    "plt.ylim(0,40000)\n",
    "plt.title(\"GURU K's/season\")\n",
    "\n",
    "plt.subplot(232)\n",
    "stat_plot(fangraphs_pitchers,[2010,2011, 2012, 2013, 2014, 2015], \"K\" )\n",
    "plt.ylim(0,40000)\n",
    "plt.title(\"Fangraphs K's/season\")\n",
    "\n",
    "plt.subplot(233)\n",
    "stat_plot(steamer_pitchers, [2010,2011, 2012, 2013, 2014, 2015],\"K\")\n",
    "plt.ylim(0,40000)\n",
    "plt.title(\"Steamer K's/season\")\n",
    "\n",
    "plt.subplot(234)\n",
    "stat_plot(espn_pitchers, [2011, 2012, 2013, 2014, 2015],\"K\")\n",
    "plt.ylim(0,40000)\n",
    "plt.title(\"ESPN K's/season\")\n",
    "\n",
    "plt.subplot(235)\n",
    "stat_plot(cbs_pitchers, [2011, 2012, 2013, 2014, 2015],\"K\") \n",
    "plt.ylim(0,40000)\n",
    "plt.title(\"CBS K's/season\")\n",
    "\n",
    "plt.subplot(236)\n",
    "stat_plot(marcel_pitchers, [2010,2011, 2012, 2013, 2014, 2015],\"K\")\n",
    "plt.ylim(0,40000)\n",
    "plt.title(\"Marcel K's/season\")\n",
    "\n",
    "plt.tight_layout(pad=0.4, w_pad=0.5, h_pad=1.0)\n",
    "plt.show()"
   ]
  },
  {
   "cell_type": "markdown",
   "metadata": {},
   "source": [
    "The first thing to notice from these graphs is that the aggregate sums of the actual statistics are at different levels for every projection method. This is a result of each projection model projecting for a different amount of players. So, we see methods like CBS does not contain as many projections as say ESPN.\n",
    "\n",
    "Another insight is that these graphs show whether predictions have a tendency to overpredict or underpredict runs. We see that Guru tends to underpredict and Fangraphs/CBS tends to overpredict. We also see that Marcel and Steamer predictions tend to be closer to the actual than the other prediction methods in predicting runs. These graphs provide a good starting place and baseline, but we recognize there are some drawbacks to these graphs and that there are areas we want to dive deeper.\n",
    "\n",
    "- First off, these graphs are in the aggregate. So, we don't know on a per player basis how close the prediction methods are to the actual. \n",
    "\n",
    "- Also, these graphs are not good for comparing methods to other methods. Each prediction method has a different number of players they predicted for and there is no way to tell or quantify based on these graphs if for example Steamer 2011 was closer to the actual in aggregate than Marcel 2011. \n",
    "\n",
    "So, we will do some more visual analysis to dive deeper into these points. "
   ]
  },
  {
   "cell_type": "markdown",
   "metadata": {},
   "source": [
    "### Determing a \"Correct\" prediction"
   ]
  },
  {
   "cell_type": "markdown",
   "metadata": {},
   "source": [
    "In order to measure how accurate a prediction method is we need to determine what a \"correct\" prediction entails. For example say the prediction of a batters Average is .272 and the actual is .274. Is this wrong? Well, it is not exactly correct so in a sense it is wrong, but for practicality purposes this is an extremely useful prediction and is therefore 'correct.' We will discuss this idea of a 'correct' prediction later, but for now we will classify every statistic into an epsilon ball of correctness. So, take our previous example, we will say a prediction of average is correct if the prediction is within .005 of the actual. \n",
    "\n",
    "While there is not an exact science as to how we chose every epsilon ball, we did rely on our previous experience in fantasy baseball and knowledge of players statstics to obtain a good general idea as to what would be a useful prediction. Since the ultimate goal is to build a tool that will help us make correct predictions for fantasy baseball we have made this code easy to follow and adjust so the reader may adjust his epsilon ball to be more exact if desired. However, we feel that the epsilon balls will not provide a serious issue for the goals of this project as we will explain and visually show later."
   ]
  },
  {
   "cell_type": "markdown",
   "metadata": {},
   "source": [
    "Here we make a function that determines the proportion of correct predictions, under predictions etc. "
   ]
  },
  {
   "cell_type": "code",
   "execution_count": 79,
   "metadata": {
    "collapsed": false
   },
   "outputs": [],
   "source": [
    "def correct_lists(df,stat_dict):\n",
    "    \"\"\"This function creates various lists of correct predictions, under predictions, and over predictions\n",
    "    for a given set of dictionaries and a given epsilon ball. Also, because we are using an epsilon ball we will have a \n",
    "    number of predictions that are classified as 'correct' but we will still be over or under the actual value. We will\n",
    "    use these lists in future analysis, so we will also record these values. \n",
    "    Parameters:\n",
    "    df (dataframe): pass in one of our prediction dataframes that has both the predictions and the real stats\n",
    "    stat_dict (dictionary): pass in a dictionary with the keys as the statistics and the values as the epsilon ball around\n",
    "                            the statistic that we will consider a 'correct' prediction.\n",
    "    returns:\n",
    "    stat_list (list): list of ratios of #correct/(total # of predictions) for each statistic\n",
    "    now for each 'correct' prediction they can still be over, under, or = to the actual value so we record lists for each\n",
    "    number_under (list): gives a list of ratios of the #underpredicted of the correct predictions/total number of correct\n",
    "                        predictions\n",
    "    number_exact (list): gives a list of ratios of the #exactly correct predictions/total number of correct\n",
    "                        predictions\n",
    "    number_over (list): gives a list of ratios of the #over correct predictions/total number of correct\n",
    "                        predictions\"\"\"\n",
    "    #set up our lists\n",
    "    stat_list = [] \n",
    "    number_under =[]\n",
    "    number_exact =[]\n",
    "    number_over = []\n",
    "    total_pred = df.shape[0]\n",
    "    #run through each stat in the dictionary to find the values for each list\n",
    "    for i in stat_dict:\n",
    "        #define the epsilon ball from the values of the dictionary\n",
    "        difference = stat_dict.get(i)\n",
    "        \n",
    "        #Set up a new df which is all the correct predictions from the passed in df\n",
    "        correct = df[(df['actual_'+i]<df[i]+difference)&(df['actual_'+i]>df[i]-difference)]\n",
    "        number_correct = correct.shape[0]\n",
    "        \n",
    "        #now we take the size of the subsets of the df that correspond to under, over, exact\n",
    "        under = correct[correct['actual_'+i]>correct[i]].shape[0]\n",
    "        over = correct[correct['actual_'+i]<correct[i]].shape[0]\n",
    "        exact = correct[correct['actual_'+i]==correct[i]].shape[0]\n",
    "        \n",
    "        number_under.append(float(under)/number_correct)\n",
    "        number_over.append(float(over)/number_correct)\n",
    "        number_exact.append(float(exact)/number_correct)\n",
    "        stat_list.append(float(number_correct)/total_pred)\n",
    "    return stat_list, number_under, number_over, number_exact\n",
    "\n",
    "\n",
    "\n"
   ]
  },
  {
   "cell_type": "markdown",
   "metadata": {},
   "source": [
    "Now, we set up a function to plot the ratios of correct predictions for each dataframe"
   ]
  },
  {
   "cell_type": "code",
   "execution_count": 80,
   "metadata": {
    "collapsed": false
   },
   "outputs": [],
   "source": [
    "def plot_correct(method, position='hitters'):\n",
    "    \"\"\"This function makes a bar graph. The function is past in a list of values from each projection method\n",
    "    and then plots the graphs.\n",
    "    parameters:\n",
    "    method (list of lists): This contains a list of every projection methods correct ratio lists for the given statistics\n",
    "    position (string): This is to determine whether the projection methods are hitters or pitchers \"\"\"\n",
    "    plt.figure(figsize=(18,10))\n",
    "    \n",
    "    #Set up the dimensions for each bar\n",
    "    index = np.arange(0, len(method[0]) * 2, 2)\n",
    "    #index = np.arange(0, 6 * 2, 2)\n",
    "    bar_width = 0.25\n",
    "    \n",
    "    #Set up the labels for the x axis\n",
    "    if position == 'hitters':\n",
    "        statistic = ['RBI','AVG','R','HR','SB']\n",
    "    else:\n",
    "        statistic = ['W', 'K', 'ERA', 'WHIP', 'SV']\n",
    "\n",
    "    #set up our different bars \n",
    "    rects1 = plt.bar(index, method[0], bar_width,label='Steamer')\n",
    "    rects2 = plt.bar(index + bar_width, method[1], bar_width,label='Fangraphs')\n",
    "    rects3 = plt.bar(index + 2*bar_width, method[2], bar_width,label='CBS')\n",
    "    rects4 = plt.bar(index + 3*bar_width, method[3], bar_width,label='Marcel')\n",
    "    rects5 = plt.bar(index + 4*bar_width, method[4], bar_width,label='ESPN')\n",
    "    rects6 = plt.bar(index + 5*bar_width, method[5], bar_width,label='GURU')\n",
    "\n",
    "    plt.xlabel('Statistic')\n",
    "    plt.ylabel('Percent correct')\n",
    "    plt.title('Correct Predictions Comparisons')\n",
    "    plt.xticks(index + 2.5*bar_width, statistic)\n",
    "    plt.legend()\n",
    "    plt.show()\n"
   ]
  },
  {
   "cell_type": "code",
   "execution_count": 81,
   "metadata": {
    "collapsed": true
   },
   "outputs": [],
   "source": [
    "#Here we obtain the lists of correct predictions for each hitting statistic and projection df \n",
    "steamer = correct_lists(steamer_hitters,{'RBI':7,'AVG':.005,'R':5, 'HR':5, 'SB':3})[0]\n",
    "fangraphs = correct_lists(fangraphs_hitters,{'RBI':7,'AVG':.005,'R':5, 'HR':5, 'SB':3})[0]\n",
    "cbs = correct_lists(cbs_hitters,{'RBI':7,'AVG':.005,'R':5, 'HR':5, 'SB':3})[0]\n",
    "marcel = correct_lists(marcel_hitters,{'RBI':7,'AVG':.005,'R':5, 'HR':5, 'SB':3})[0]\n",
    "espn = correct_lists(espn_hitters,{'RBI':10,'AVG':.005,'R':5, 'HR':5, 'SB':3})[0]\n",
    "guru = correct_lists(guru_hitters,{'RBI':7,'AVG':.005,'R':5, 'HR':5, 'SB':3})[0]"
   ]
  },
  {
   "cell_type": "markdown",
   "metadata": {},
   "source": [
    "### Comparing Hitter Projections"
   ]
  },
  {
   "cell_type": "markdown",
   "metadata": {},
   "source": [
    "Below we plot a graph that will compare the percent of correct predictions for each hitting statistic and each projection method"
   ]
  },
  {
   "cell_type": "code",
   "execution_count": 82,
   "metadata": {
    "collapsed": false
   },
   "outputs": [
    {
     "data": {
      "image/png": "[encoded data removed]",
      "text/plain": [
       "<matplotlib.figure.Figure at 0x7fe27175f7d0>"
      ]
     },
     "metadata": {},
     "output_type": "display_data"
    }
   ],
   "source": [
    "plot_correct([steamer, fangraphs, cbs, marcel, espn, guru])"
   ]
  },
  {
   "cell_type": "markdown",
   "metadata": {},
   "source": [
    "### Comparing Pitcher projections"
   ]
  },
  {
   "cell_type": "code",
   "execution_count": 83,
   "metadata": {
    "collapsed": false
   },
   "outputs": [
    {
     "data": {
      "image/png": "[encoded data removed]",
      "text/plain": [
       "<matplotlib.figure.Figure at 0x7fe26ddcb610>"
      ]
     },
     "metadata": {},
     "output_type": "display_data"
    }
   ],
   "source": [
    "steamer = correct_lists(steamer_pitchers,{'W':2,'K':15,'ERA':.2, 'WHIP':.05})[0]\n",
    "\n",
    "fangraphs = correct_lists(fangraphs_pitchers,{'W':2,'K':15,'ERA':.2, 'WHIP':.05})[0]\n",
    "cbs= correct_lists(cbs_pitchers,{'W':2,'K':15,'ERA':.2, 'WHIP':.05})[0]\n",
    "marcel = correct_lists(marcel_pitchers,{'W':2,'K':15,'ERA':.2, 'WHIP':.05})[0]\n",
    "\n",
    "\n",
    "espn = correct_lists(espn_pitchers,{'W':2,'K':15,'ERA':.3, 'WHIP':.05})[0]\n",
    "guru = correct_lists(guru_pitchers,{'W':2,'K':15,'ERA':.2, 'WHIP':.05})[0]\n",
    "plot_correct([steamer,fangraphs, cbs, marcel, espn, guru], position = 'pitchers')\n",
    "\n"
   ]
  },
  {
   "cell_type": "markdown",
   "metadata": {},
   "source": [
    "Here are the important take-aways from this graph:\n",
    "- Given the epsilon balls, nobody does an overly amazing job at predicting with the best being around 50%. So, it will be important to find a model that can classify if a given projection is correct or not rather than just flipping a coin that ESPN projection for Adrian Gonzalez's RBI's next year are correct. \n",
    "- All the methods seem to be pretty well clumped together no one method stands out. This will play into determining what the best projection methods are as we can compare them to a mean or a grouping of the other methods. \n",
    "- Some methods appear to be better than the rest in certain categories, which is important to note as we try to determine which projection method is the best we will want to compare on a stat by stat basis. \n",
    "- Runs and Home runs are much harder to predict than Average and RBI. \n",
    "    - This is probably due to the fact that RBI had a relatively large epsilon ball and since AVG is hits/number of at bats, which is usually something around 150/550 then it takes a lot more hits to dramatically change AVG. However, for home-runs players can range from 5-50. So, a couple of 'lucky' at bats can lead to a dramatically different actual value from the projected. Runs is difficult to predict because it is extremely dependent on the rest of your team and thus it is dependent on all the projections of your teammates. \n",
    "\n"
   ]
  },
  {
   "cell_type": "markdown",
   "metadata": {},
   "source": [
    "### Plotting ratio of under correct, exactly correct, over correct"
   ]
  },
  {
   "cell_type": "markdown",
   "metadata": {},
   "source": [
    "As a result of the use of an epsilon ball. There are lots of predictions that are labeled 'correc' yet the prediction is below the actual level or above the actual level, but within the epsilon ball. Below is a function that graphs the ratio of predictions that are under, exact, and over, but still within the epsilon ball."
   ]
  },
  {
   "cell_type": "code",
   "execution_count": 84,
   "metadata": {
    "collapsed": false
   },
   "outputs": [
    {
     "data": {
      "image/png": "[encoded data removed]",
      "text/plain": [
       "<matplotlib.figure.Figure at 0x7fe26de1a150>"
      ]
     },
     "metadata": {},
     "output_type": "display_data"
    },
    {
     "data": {
      "image/png": "[encoded data removed]",
      "text/plain": [
       "<matplotlib.figure.Figure at 0x7fe26de1ac10>"
      ]
     },
     "metadata": {},
     "output_type": "display_data"
    }
   ],
   "source": [
    "def plot_ratio(df, stat_dict, position = 'hitters'):\n",
    "    projection, under, over, exact = correct_lists(df,stat_dict)\n",
    "    statistics = stat_dict.keys()\n",
    "    if position == 'pitchers':\n",
    "        index = np.arange(0, 4 * 2, 2)\n",
    "    else:\n",
    "        index = np.arange(0, 5 * 2, 2)\n",
    "    bar_width = 0.35\n",
    "    rects1 = plt.bar(index, under, bar_width,label='Under Predictions')\n",
    "    rects2 = plt.bar(index + bar_width, exact, bar_width,label='Exact Predictions')\n",
    "    rects3 = plt.bar(index + 2*bar_width, over, bar_width,label='Over Predictions')\n",
    "    plt.xlabel('Statistic')\n",
    "    plt.ylabel('Percent')\n",
    "    plt.title('Correct Predictions Comparisons')\n",
    "    plt.xticks(index + bar_width, statistics)\n",
    "    plt.legend()\n",
    "\n",
    "#Plot each projection methods ratio of under, over, and exact correct predictions for pitchers \n",
    "plt.figure(figsize=(18,10))\n",
    "plt.subplot(231)\n",
    "plot_ratio(steamer_pitchers, {'W':2,'K':15,'ERA':.2, 'WHIP':.05}, 'pitchers')\n",
    "plt.title('Steamer pitchers correct prediction breakdown')\n",
    "\n",
    "plt.subplot(232)\n",
    "plot_ratio(fangraphs_pitchers, {'W':2,'K':15,'ERA':.2, 'WHIP':.05}, 'pitchers')\n",
    "plt.title('Fangraphs pitchers correct prediction breakdown')\n",
    "\n",
    "plt.subplot(233)\n",
    "plot_ratio(cbs_pitchers, {'W':2,'K':15,'ERA':.2, 'WHIP':.05}, 'pitchers')\n",
    "plt.title('CBS pitchers correct prediction breakdown')\n",
    "\n",
    "plt.subplot(234)\n",
    "plot_ratio(marcel_pitchers, {'W':2,'K':15,'ERA':.2, 'WHIP':.05}, 'pitchers')\n",
    "plt.title('Marcel pitchers correct prediction breakdown')\n",
    "\n",
    "plt.subplot(235)\n",
    "plot_ratio(espn_pitchers, {'W':2,'K':15,'ERA':.2, 'WHIP':.05}, 'pitchers')\n",
    "plt.title('ESPN pitchers correct prediction breakdown')\n",
    "\n",
    "plt.subplot(236)\n",
    "plot_ratio(guru_pitchers, {'W':2,'K':15,'ERA':.2, 'WHIP':.05}, 'pitchers')\n",
    "plt.title('Guru pitchers correct prediction breakdown')\n",
    "\n",
    "plt.tight_layout(pad=0.4, w_pad=0.5, h_pad=1.0)\n",
    "plt.legend(loc = 'best')\n",
    "plt.show()\n",
    "\n",
    "#Plot each projection methods ratio of under, over, and exact correct predictions for batters\n",
    "plt.figure(figsize=(18,10))\n",
    "plt.subplot(231)\n",
    "plot_ratio(steamer_hitters, {'RBI':7,'AVG':.005,'R':5, 'HR':5, 'SB':3})\n",
    "plt.title('Steamer batters correct prediction breakdown')\n",
    "\n",
    "plt.subplot(232)\n",
    "plot_ratio(fangraphs_hitters, {'RBI':7,'AVG':.005,'R':5, 'HR':5, 'SB':3})\n",
    "plt.title('Fangraphs batters correct prediction breakdown')\n",
    "\n",
    "plt.subplot(233)\n",
    "plot_ratio(cbs_hitters, {'RBI':7,'AVG':.005,'R':5, 'HR':5, 'SB':3})\n",
    "plt.title('CBS batters correct prediction breakdown')\n",
    "\n",
    "plt.subplot(234)\n",
    "plot_ratio(marcel_hitters, {'RBI':7,'AVG':.005,'R':5, 'HR':5, 'SB':3})\n",
    "plt.title('Marcel batters correct prediction breakdown')\n",
    "\n",
    "plt.subplot(235)\n",
    "plot_ratio(espn_hitters, {'RBI':7,'AVG':.005,'R':5, 'HR':5, 'SB':3})\n",
    "plt.title('ESPN batters correct prediction breakdown')\n",
    "\n",
    "plt.subplot(236)\n",
    "plot_ratio(guru_hitters, {'RBI':7,'AVG':.005,'R':5, 'HR':5, 'SB':3})\n",
    "plt.title('Guru batters correct prediction breakdown')\n",
    "\n",
    "plt.tight_layout(pad=0.4, w_pad=0.5, h_pad=1.0)\n",
    "plt.legend(loc = 'best')\n",
    "plt.show()"
   ]
  },
  {
   "cell_type": "markdown",
   "metadata": {},
   "source": [
    "This is a very important set of graphs. These graphs show that the correct predictions are about uniform around the actual value. This means that about half of the correct predictions are below the actual value and half are above. So, the use of the epsilon ball will most likely have a minimal effect on the final tool of our project. This is because our ultimate tool is to draft the best fantasy baseball team. So, our projections classified as 'correct' might turn out to be a little below or above the actual value, but over the course of a 30 player team the epsilon ball should average out. The chances of drafting 30 players with 'correc' predictions that are all inside the epsilon ball, but on the lower side is very unlikely. So, this justifies our use of an epsilon ball to classify a 'correct' prediction."
   ]
  },
  {
   "cell_type": "markdown",
   "metadata": {},
   "source": [
    "# Conclusion"
   ]
  },
  {
   "cell_type": "markdown",
   "metadata": {},
   "source": [
    "This visualization has taught us a few things. First of all, the drafting problem cannot be solved by greedily choosing the next player with the highest value for a given statistic. This may result in a trade-off that is less than optimal. Secondly, we took a look at the distributions of statistical projections and actual values realized during the season. We noted that these should be comparable, and if they weren't comparable, even across seasons, that the projections would be no good. We also took a look at where we expect outliers to appear. Lastly, we looked at which prediction methods appeared best on the surface in aggregate. This will guide our intuition about the results we generate later on in this project."
   ]
  },
  {
   "cell_type": "markdown",
   "metadata": {
    "collapsed": true
   },
   "source": [
    "# Machine Learning"
   ]
  },
  {
   "cell_type": "markdown",
   "metadata": {},
   "source": [
    "### Introduction"
   ]
  },
  {
   "cell_type": "markdown",
   "metadata": {},
   "source": [
    "The most important part of drafting a good fantasy team is to have accurate projections. Our data visualization section showed that for a given statistic, the best accuracy rate of a projection method was only around 50%. This is not very helpful because we don't know which players for which a given method accurately projects the statistics and which players statistics are inaccurately predicted. So, our goal for this section is to use various classification techniques to determine if a given projection will be correct. Then, given projections for this upcoming year from 6 different models, we hope want to find a correct prediction (or at least the most correct) for each statistic and each player. \n",
    "\n",
    "For example: inputs will be Jose Abreu's statistics for last year and each of the 6 sets of his projected statistics. We will run our best classification model (which we will find in this section through trying different classification models on test/train splits and using CV for the best parameters). Ffter running our best classification model we hope to have results along these lines:\n",
    "\n",
    "| HR |RBI|SB|AVG|R|\n",
    "|:-----:|:-----:|:-------:|:-------:|:---:|\n",
    "| 32 (ESPN) | 123 (Marcel)|9 (Steamer)|.291 (Steamer)| 105 (ESPN)|\n",
    "\n",
    "\n",
    "where the parenthetical represents the projection method that our model stated will be a correct prediction. If our model states that more than one projection method will be correct we will use the average of these projections. \n",
    "\n",
    "This will be an extremely helpful tool because it will have projections for every player and those projections will have a high level of accuracy. \n",
    "\n",
    "In order to create this tool, we first need to find a classifcation model that will accurately classify whether a given projection will be correct or not. That will be the purpose of this section."
   ]
  },
  {
   "cell_type": "markdown",
   "metadata": {},
   "source": [
    "#### Determining Useful Models"
   ]
  },
  {
   "cell_type": "markdown",
   "metadata": {},
   "source": [
    "First, we will mention some models and algorithms that do not apply to our data and explain why we do not use them here.\n",
    "\n",
    "Our data contains years (seasons), but they are not time series data. We are not measuring changes over multiple time periods; we are looking at each row of data independent of previous years. So, all the time series and state space methods such as AR, MA, ARMA, ARIMA, and the Kalman filters are not applicable for this classification problem.  \n",
    "\n",
    "This is a binary classification problem, so while linear regression and ridge regression are possible, they are sub-optimal compared to a logistic regression. So, we will use a logistic regression in favor of the other two.\n",
    "\n",
    "The logistic regression will be our first model and will establish a baseline for later comparison. After logistic regression, we will discuss and run other classification models such as trees/random forests, gradient boosting/XGBoosting, discriminant analysis, and support vector machine."
   ]
  },
  {
   "cell_type": "markdown",
   "metadata": {},
   "source": [
    "#### Model Selection"
   ]
  },
  {
   "cell_type": "markdown",
   "metadata": {},
   "source": [
    "We incorporate model selection principles throughout the following section by appropriately selecting parameters to plug in for our GridSearchCV implementations.  We are unaware of any particular priors or distributions that our data follows but will attempt to find good parameters for each case of machine learning implementation. This will take the place of Bayesian model selection as we evaluate each classification model.\n",
    "\n",
    "For each of the different machine learning methods being performed below, we will utilize the GridSearchCV function to find the best parameters to use for optimal predictions.  After that point, we will be running each machine learning method 10 times for each of the applicable statistics (stored in our to_predict_hitters/pitchers), and each time we will use a different train-test split so as to prevent overfitting. Lastly, we will take the mean of our predictions in order to find which method was best at predicting each statistic overall."
   ]
  },
  {
   "cell_type": "code",
   "execution_count": 85,
   "metadata": {
    "collapsed": false
   },
   "outputs": [
    {
     "ename": "ImportError",
     "evalue": "No module named xgboost",
     "output_type": "error",
     "traceback": [
      "\u001b[1;31m---------------------------------------------------------------------------\u001b[0m",
      "\u001b[1;31mImportError\u001b[0m                               Traceback (most recent call last)",
      "\u001b[1;32m<ipython-input-85-5795aa7581ba>\u001b[0m in \u001b[0;36m<module>\u001b[1;34m()\u001b[0m\n\u001b[0;32m      8\u001b[0m \u001b[1;32mfrom\u001b[0m \u001b[0msklearn\u001b[0m \u001b[1;32mimport\u001b[0m \u001b[0msvm\u001b[0m\u001b[1;33m\u001b[0m\u001b[0m\n\u001b[0;32m      9\u001b[0m \u001b[1;32mfrom\u001b[0m \u001b[0msklearn\u001b[0m \u001b[1;32mimport\u001b[0m \u001b[0mpreprocessing\u001b[0m\u001b[1;33m\u001b[0m\u001b[0m\n\u001b[1;32m---> 10\u001b[1;33m \u001b[1;32mfrom\u001b[0m \u001b[0mxgboost\u001b[0m \u001b[1;32mimport\u001b[0m \u001b[0mXGBClassifier\u001b[0m \u001b[1;32mas\u001b[0m \u001b[0mxgb\u001b[0m\u001b[1;33m\u001b[0m\u001b[0m\n\u001b[0m",
      "\u001b[1;31mImportError\u001b[0m: No module named xgboost"
     ]
    }
   ],
   "source": [
    "from sklearn.model_selection import train_test_split\n",
    "from sklearn import linear_model\n",
    "from sklearn import metrics\n",
    "from sklearn.model_selection import GridSearchCV\n",
    "from sklearn.ensemble import RandomForestClassifier\n",
    "from sklearn.naive_bayes import GaussianNB\n",
    "from sklearn.discriminant_analysis import QuadraticDiscriminantAnalysis\n",
    "from sklearn import svm\n",
    "from sklearn import preprocessing\n",
    "from xgboost import XGBClassifier as xgb"
   ]
  },
  {
   "cell_type": "markdown",
   "metadata": {},
   "source": [
    "### Logistic Regression"
   ]
  },
  {
   "cell_type": "markdown",
   "metadata": {
    "collapsed": true
   },
   "source": [
    "Logistic regression is maybe the most obvious algorithm to try on this type of classification problem, where our outputs are binary and inputs are continuous (or at least can be treated as such). Because of the binary nature of our data, we chose to use logistic regression rather than 'regular' regression. This is a fairly simple formulation, and after running a grid search to choose the best cross validation scores, most of the parameters were best set to their defaults in sci-kit learn. The exceptions to this were the inverse regulation strength and the optimization solver.\n",
    "\n",
    "Our results using logistic regression were pretty good for classifying hitter batting average (AVG) predictions (86% accuracy). For homeruns (HR), however, it was only around 63% accuracy, so we at least need to keep searching for a better model on that front. As for classifying pitcher statistic predictions, logistic regression was pretty good for ERA (86%), and not as good for predicting strikeouts (K) at 65%. It is interesting to note that the best parameters for ERA and W were different than they were for K and WHIP."
   ]
  },
  {
   "cell_type": "code",
   "execution_count": 86,
   "metadata": {
    "collapsed": false
   },
   "outputs": [
    {
     "name": "stderr",
     "output_type": "stream",
     "text": [
      "/usr/local/anaconda2/lib/python2.7/site-packages/sklearn/linear_model/sag.py:286: ConvergenceWarning: The max_iter was reached which means the coef_ did not converge\n",
      "  \"the coef_ did not converge\", ConvergenceWarning)\n"
     ]
    },
    {
     "ename": "KeyboardInterrupt",
     "evalue": "",
     "output_type": "error",
     "traceback": [
      "\u001b[1;31m---------------------------------------------------------------------------\u001b[0m",
      "\u001b[1;31mKeyboardInterrupt\u001b[0m                         Traceback (most recent call last)",
      "\u001b[1;32m<ipython-input-86-8bf339371543>\u001b[0m in \u001b[0;36m<module>\u001b[1;34m()\u001b[0m\n\u001b[0;32m     12\u001b[0m \u001b[1;33m\u001b[0m\u001b[0m\n\u001b[0;32m     13\u001b[0m     \u001b[0mclf\u001b[0m \u001b[1;33m=\u001b[0m \u001b[0mGridSearchCV\u001b[0m\u001b[1;33m(\u001b[0m\u001b[0mlog_reg\u001b[0m\u001b[1;33m,\u001b[0m \u001b[0mparameters\u001b[0m\u001b[1;33m)\u001b[0m\u001b[1;33m\u001b[0m\u001b[0m\n\u001b[1;32m---> 14\u001b[1;33m     \u001b[0mclf\u001b[0m\u001b[1;33m.\u001b[0m\u001b[0mfit\u001b[0m\u001b[1;33m(\u001b[0m\u001b[0mx_train\u001b[0m\u001b[1;33m,\u001b[0m \u001b[0my_train\u001b[0m\u001b[1;33m)\u001b[0m\u001b[1;33m\u001b[0m\u001b[0m\n\u001b[0m\u001b[0;32m     15\u001b[0m     \u001b[0mbest_params\u001b[0m\u001b[1;33m.\u001b[0m\u001b[0mappend\u001b[0m\u001b[1;33m(\u001b[0m\u001b[1;33m{\u001b[0m\u001b[0mcol\u001b[0m\u001b[1;33m:\u001b[0m\u001b[0mclf\u001b[0m\u001b[1;33m.\u001b[0m\u001b[0mbest_params_\u001b[0m\u001b[1;33m}\u001b[0m\u001b[1;33m)\u001b[0m\u001b[1;33m\u001b[0m\u001b[0m\n",
      "\u001b[1;32m/usr/local/anaconda2/lib/python2.7/site-packages/sklearn/model_selection/_search.pyc\u001b[0m in \u001b[0;36mfit\u001b[1;34m(self, X, y, groups)\u001b[0m\n\u001b[0;32m    943\u001b[0m             \u001b[0mtrain\u001b[0m\u001b[1;33m/\u001b[0m\u001b[0mtest\u001b[0m \u001b[0mset\u001b[0m\u001b[1;33m.\u001b[0m\u001b[1;33m\u001b[0m\u001b[0m\n\u001b[0;32m    944\u001b[0m         \"\"\"\n\u001b[1;32m--> 945\u001b[1;33m         \u001b[1;32mreturn\u001b[0m \u001b[0mself\u001b[0m\u001b[1;33m.\u001b[0m\u001b[0m_fit\u001b[0m\u001b[1;33m(\u001b[0m\u001b[0mX\u001b[0m\u001b[1;33m,\u001b[0m \u001b[0my\u001b[0m\u001b[1;33m,\u001b[0m \u001b[0mgroups\u001b[0m\u001b[1;33m,\u001b[0m \u001b[0mParameterGrid\u001b[0m\u001b[1;33m(\u001b[0m\u001b[0mself\u001b[0m\u001b[1;33m.\u001b[0m\u001b[0mparam_grid\u001b[0m\u001b[1;33m)\u001b[0m\u001b[1;33m)\u001b[0m\u001b[1;33m\u001b[0m\u001b[0m\n\u001b[0m\u001b[0;32m    946\u001b[0m \u001b[1;33m\u001b[0m\u001b[0m\n\u001b[0;32m    947\u001b[0m \u001b[1;33m\u001b[0m\u001b[0m\n",
      "\u001b[1;32m/usr/local/anaconda2/lib/python2.7/site-packages/sklearn/model_selection/_search.pyc\u001b[0m in \u001b[0;36m_fit\u001b[1;34m(self, X, y, groups, parameter_iterable)\u001b[0m\n\u001b[0;32m    562\u001b[0m                                   \u001b[0mreturn_times\u001b[0m\u001b[1;33m=\u001b[0m\u001b[0mTrue\u001b[0m\u001b[1;33m,\u001b[0m \u001b[0mreturn_parameters\u001b[0m\u001b[1;33m=\u001b[0m\u001b[0mTrue\u001b[0m\u001b[1;33m,\u001b[0m\u001b[1;33m\u001b[0m\u001b[0m\n\u001b[0;32m    563\u001b[0m                                   error_score=self.error_score)\n\u001b[1;32m--> 564\u001b[1;33m           \u001b[1;32mfor\u001b[0m \u001b[0mparameters\u001b[0m \u001b[1;32min\u001b[0m \u001b[0mparameter_iterable\u001b[0m\u001b[1;33m\u001b[0m\u001b[0m\n\u001b[0m\u001b[0;32m    565\u001b[0m           for train, test in cv_iter)\n\u001b[0;32m    566\u001b[0m \u001b[1;33m\u001b[0m\u001b[0m\n",
      "\u001b[1;32m/usr/local/anaconda2/lib/python2.7/site-packages/sklearn/externals/joblib/parallel.pyc\u001b[0m in \u001b[0;36m__call__\u001b[1;34m(self, iterable)\u001b[0m\n\u001b[0;32m    756\u001b[0m             \u001b[1;31m# was dispatched. In particular this covers the edge\u001b[0m\u001b[1;33m\u001b[0m\u001b[1;33m\u001b[0m\u001b[0m\n\u001b[0;32m    757\u001b[0m             \u001b[1;31m# case of Parallel used with an exhausted iterator.\u001b[0m\u001b[1;33m\u001b[0m\u001b[1;33m\u001b[0m\u001b[0m\n\u001b[1;32m--> 758\u001b[1;33m             \u001b[1;32mwhile\u001b[0m \u001b[0mself\u001b[0m\u001b[1;33m.\u001b[0m\u001b[0mdispatch_one_batch\u001b[0m\u001b[1;33m(\u001b[0m\u001b[0miterator\u001b[0m\u001b[1;33m)\u001b[0m\u001b[1;33m:\u001b[0m\u001b[1;33m\u001b[0m\u001b[0m\n\u001b[0m\u001b[0;32m    759\u001b[0m                 \u001b[0mself\u001b[0m\u001b[1;33m.\u001b[0m\u001b[0m_iterating\u001b[0m \u001b[1;33m=\u001b[0m \u001b[0mTrue\u001b[0m\u001b[1;33m\u001b[0m\u001b[0m\n\u001b[0;32m    760\u001b[0m             \u001b[1;32melse\u001b[0m\u001b[1;33m:\u001b[0m\u001b[1;33m\u001b[0m\u001b[0m\n",
      "\u001b[1;32m/usr/local/anaconda2/lib/python2.7/site-packages/sklearn/externals/joblib/parallel.pyc\u001b[0m in \u001b[0;36mdispatch_one_batch\u001b[1;34m(self, iterator)\u001b[0m\n\u001b[0;32m    606\u001b[0m                 \u001b[1;32mreturn\u001b[0m \u001b[0mFalse\u001b[0m\u001b[1;33m\u001b[0m\u001b[0m\n\u001b[0;32m    607\u001b[0m             \u001b[1;32melse\u001b[0m\u001b[1;33m:\u001b[0m\u001b[1;33m\u001b[0m\u001b[0m\n\u001b[1;32m--> 608\u001b[1;33m                 \u001b[0mself\u001b[0m\u001b[1;33m.\u001b[0m\u001b[0m_dispatch\u001b[0m\u001b[1;33m(\u001b[0m\u001b[0mtasks\u001b[0m\u001b[1;33m)\u001b[0m\u001b[1;33m\u001b[0m\u001b[0m\n\u001b[0m\u001b[0;32m    609\u001b[0m                 \u001b[1;32mreturn\u001b[0m \u001b[0mTrue\u001b[0m\u001b[1;33m\u001b[0m\u001b[0m\n\u001b[0;32m    610\u001b[0m \u001b[1;33m\u001b[0m\u001b[0m\n",
      "\u001b[1;32m/usr/local/anaconda2/lib/python2.7/site-packages/sklearn/externals/joblib/parallel.pyc\u001b[0m in \u001b[0;36m_dispatch\u001b[1;34m(self, batch)\u001b[0m\n\u001b[0;32m    569\u001b[0m         \u001b[0mdispatch_timestamp\u001b[0m \u001b[1;33m=\u001b[0m \u001b[0mtime\u001b[0m\u001b[1;33m.\u001b[0m\u001b[0mtime\u001b[0m\u001b[1;33m(\u001b[0m\u001b[1;33m)\u001b[0m\u001b[1;33m\u001b[0m\u001b[0m\n\u001b[0;32m    570\u001b[0m         \u001b[0mcb\u001b[0m \u001b[1;33m=\u001b[0m \u001b[0mBatchCompletionCallBack\u001b[0m\u001b[1;33m(\u001b[0m\u001b[0mdispatch_timestamp\u001b[0m\u001b[1;33m,\u001b[0m \u001b[0mlen\u001b[0m\u001b[1;33m(\u001b[0m\u001b[0mbatch\u001b[0m\u001b[1;33m)\u001b[0m\u001b[1;33m,\u001b[0m \u001b[0mself\u001b[0m\u001b[1;33m)\u001b[0m\u001b[1;33m\u001b[0m\u001b[0m\n\u001b[1;32m--> 571\u001b[1;33m         \u001b[0mjob\u001b[0m \u001b[1;33m=\u001b[0m \u001b[0mself\u001b[0m\u001b[1;33m.\u001b[0m\u001b[0m_backend\u001b[0m\u001b[1;33m.\u001b[0m\u001b[0mapply_async\u001b[0m\u001b[1;33m(\u001b[0m\u001b[0mbatch\u001b[0m\u001b[1;33m,\u001b[0m \u001b[0mcallback\u001b[0m\u001b[1;33m=\u001b[0m\u001b[0mcb\u001b[0m\u001b[1;33m)\u001b[0m\u001b[1;33m\u001b[0m\u001b[0m\n\u001b[0m\u001b[0;32m    572\u001b[0m         \u001b[0mself\u001b[0m\u001b[1;33m.\u001b[0m\u001b[0m_jobs\u001b[0m\u001b[1;33m.\u001b[0m\u001b[0mappend\u001b[0m\u001b[1;33m(\u001b[0m\u001b[0mjob\u001b[0m\u001b[1;33m)\u001b[0m\u001b[1;33m\u001b[0m\u001b[0m\n\u001b[0;32m    573\u001b[0m \u001b[1;33m\u001b[0m\u001b[0m\n",
      "\u001b[1;32m/usr/local/anaconda2/lib/python2.7/site-packages/sklearn/externals/joblib/_parallel_backends.pyc\u001b[0m in \u001b[0;36mapply_async\u001b[1;34m(self, func, callback)\u001b[0m\n\u001b[0;32m    107\u001b[0m     \u001b[1;32mdef\u001b[0m \u001b[0mapply_async\u001b[0m\u001b[1;33m(\u001b[0m\u001b[0mself\u001b[0m\u001b[1;33m,\u001b[0m \u001b[0mfunc\u001b[0m\u001b[1;33m,\u001b[0m \u001b[0mcallback\u001b[0m\u001b[1;33m=\u001b[0m\u001b[0mNone\u001b[0m\u001b[1;33m)\u001b[0m\u001b[1;33m:\u001b[0m\u001b[1;33m\u001b[0m\u001b[0m\n\u001b[0;32m    108\u001b[0m         \u001b[1;34m\"\"\"Schedule a func to be run\"\"\"\u001b[0m\u001b[1;33m\u001b[0m\u001b[0m\n\u001b[1;32m--> 109\u001b[1;33m         \u001b[0mresult\u001b[0m \u001b[1;33m=\u001b[0m \u001b[0mImmediateResult\u001b[0m\u001b[1;33m(\u001b[0m\u001b[0mfunc\u001b[0m\u001b[1;33m)\u001b[0m\u001b[1;33m\u001b[0m\u001b[0m\n\u001b[0m\u001b[0;32m    110\u001b[0m         \u001b[1;32mif\u001b[0m \u001b[0mcallback\u001b[0m\u001b[1;33m:\u001b[0m\u001b[1;33m\u001b[0m\u001b[0m\n\u001b[0;32m    111\u001b[0m             \u001b[0mcallback\u001b[0m\u001b[1;33m(\u001b[0m\u001b[0mresult\u001b[0m\u001b[1;33m)\u001b[0m\u001b[1;33m\u001b[0m\u001b[0m\n",
      "\u001b[1;32m/usr/local/anaconda2/lib/python2.7/site-packages/sklearn/externals/joblib/_parallel_backends.pyc\u001b[0m in \u001b[0;36m__init__\u001b[1;34m(self, batch)\u001b[0m\n\u001b[0;32m    324\u001b[0m         \u001b[1;31m# Don't delay the application, to avoid keeping the input\u001b[0m\u001b[1;33m\u001b[0m\u001b[1;33m\u001b[0m\u001b[0m\n\u001b[0;32m    325\u001b[0m         \u001b[1;31m# arguments in memory\u001b[0m\u001b[1;33m\u001b[0m\u001b[1;33m\u001b[0m\u001b[0m\n\u001b[1;32m--> 326\u001b[1;33m         \u001b[0mself\u001b[0m\u001b[1;33m.\u001b[0m\u001b[0mresults\u001b[0m \u001b[1;33m=\u001b[0m \u001b[0mbatch\u001b[0m\u001b[1;33m(\u001b[0m\u001b[1;33m)\u001b[0m\u001b[1;33m\u001b[0m\u001b[0m\n\u001b[0m\u001b[0;32m    327\u001b[0m \u001b[1;33m\u001b[0m\u001b[0m\n\u001b[0;32m    328\u001b[0m     \u001b[1;32mdef\u001b[0m \u001b[0mget\u001b[0m\u001b[1;33m(\u001b[0m\u001b[0mself\u001b[0m\u001b[1;33m)\u001b[0m\u001b[1;33m:\u001b[0m\u001b[1;33m\u001b[0m\u001b[0m\n",
      "\u001b[1;32m/usr/local/anaconda2/lib/python2.7/site-packages/sklearn/externals/joblib/parallel.pyc\u001b[0m in \u001b[0;36m__call__\u001b[1;34m(self)\u001b[0m\n\u001b[0;32m    129\u001b[0m \u001b[1;33m\u001b[0m\u001b[0m\n\u001b[0;32m    130\u001b[0m     \u001b[1;32mdef\u001b[0m \u001b[0m__call__\u001b[0m\u001b[1;33m(\u001b[0m\u001b[0mself\u001b[0m\u001b[1;33m)\u001b[0m\u001b[1;33m:\u001b[0m\u001b[1;33m\u001b[0m\u001b[0m\n\u001b[1;32m--> 131\u001b[1;33m         \u001b[1;32mreturn\u001b[0m \u001b[1;33m[\u001b[0m\u001b[0mfunc\u001b[0m\u001b[1;33m(\u001b[0m\u001b[1;33m*\u001b[0m\u001b[0margs\u001b[0m\u001b[1;33m,\u001b[0m \u001b[1;33m**\u001b[0m\u001b[0mkwargs\u001b[0m\u001b[1;33m)\u001b[0m \u001b[1;32mfor\u001b[0m \u001b[0mfunc\u001b[0m\u001b[1;33m,\u001b[0m \u001b[0margs\u001b[0m\u001b[1;33m,\u001b[0m \u001b[0mkwargs\u001b[0m \u001b[1;32min\u001b[0m \u001b[0mself\u001b[0m\u001b[1;33m.\u001b[0m\u001b[0mitems\u001b[0m\u001b[1;33m]\u001b[0m\u001b[1;33m\u001b[0m\u001b[0m\n\u001b[0m\u001b[0;32m    132\u001b[0m \u001b[1;33m\u001b[0m\u001b[0m\n\u001b[0;32m    133\u001b[0m     \u001b[1;32mdef\u001b[0m \u001b[0m__len__\u001b[0m\u001b[1;33m(\u001b[0m\u001b[0mself\u001b[0m\u001b[1;33m)\u001b[0m\u001b[1;33m:\u001b[0m\u001b[1;33m\u001b[0m\u001b[0m\n",
      "\u001b[1;32m/usr/local/anaconda2/lib/python2.7/site-packages/sklearn/model_selection/_validation.pyc\u001b[0m in \u001b[0;36m_fit_and_score\u001b[1;34m(estimator, X, y, scorer, train, test, verbose, parameters, fit_params, return_train_score, return_parameters, return_n_test_samples, return_times, error_score)\u001b[0m\n\u001b[0;32m    236\u001b[0m             \u001b[0mestimator\u001b[0m\u001b[1;33m.\u001b[0m\u001b[0mfit\u001b[0m\u001b[1;33m(\u001b[0m\u001b[0mX_train\u001b[0m\u001b[1;33m,\u001b[0m \u001b[1;33m**\u001b[0m\u001b[0mfit_params\u001b[0m\u001b[1;33m)\u001b[0m\u001b[1;33m\u001b[0m\u001b[0m\n\u001b[0;32m    237\u001b[0m         \u001b[1;32melse\u001b[0m\u001b[1;33m:\u001b[0m\u001b[1;33m\u001b[0m\u001b[0m\n\u001b[1;32m--> 238\u001b[1;33m             \u001b[0mestimator\u001b[0m\u001b[1;33m.\u001b[0m\u001b[0mfit\u001b[0m\u001b[1;33m(\u001b[0m\u001b[0mX_train\u001b[0m\u001b[1;33m,\u001b[0m \u001b[0my_train\u001b[0m\u001b[1;33m,\u001b[0m \u001b[1;33m**\u001b[0m\u001b[0mfit_params\u001b[0m\u001b[1;33m)\u001b[0m\u001b[1;33m\u001b[0m\u001b[0m\n\u001b[0m\u001b[0;32m    239\u001b[0m \u001b[1;33m\u001b[0m\u001b[0m\n\u001b[0;32m    240\u001b[0m     \u001b[1;32mexcept\u001b[0m \u001b[0mException\u001b[0m \u001b[1;32mas\u001b[0m \u001b[0me\u001b[0m\u001b[1;33m:\u001b[0m\u001b[1;33m\u001b[0m\u001b[0m\n",
      "\u001b[1;32m/usr/local/anaconda2/lib/python2.7/site-packages/sklearn/linear_model/logistic.pyc\u001b[0m in \u001b[0;36mfit\u001b[1;34m(self, X, y, sample_weight)\u001b[0m\n\u001b[0;32m   1184\u001b[0m                 \u001b[0mself\u001b[0m\u001b[1;33m.\u001b[0m\u001b[0mclass_weight\u001b[0m\u001b[1;33m,\u001b[0m \u001b[0mself\u001b[0m\u001b[1;33m.\u001b[0m\u001b[0mpenalty\u001b[0m\u001b[1;33m,\u001b[0m \u001b[0mself\u001b[0m\u001b[1;33m.\u001b[0m\u001b[0mdual\u001b[0m\u001b[1;33m,\u001b[0m \u001b[0mself\u001b[0m\u001b[1;33m.\u001b[0m\u001b[0mverbose\u001b[0m\u001b[1;33m,\u001b[0m\u001b[1;33m\u001b[0m\u001b[0m\n\u001b[0;32m   1185\u001b[0m                 \u001b[0mself\u001b[0m\u001b[1;33m.\u001b[0m\u001b[0mmax_iter\u001b[0m\u001b[1;33m,\u001b[0m \u001b[0mself\u001b[0m\u001b[1;33m.\u001b[0m\u001b[0mtol\u001b[0m\u001b[1;33m,\u001b[0m \u001b[0mself\u001b[0m\u001b[1;33m.\u001b[0m\u001b[0mrandom_state\u001b[0m\u001b[1;33m,\u001b[0m\u001b[1;33m\u001b[0m\u001b[0m\n\u001b[1;32m-> 1186\u001b[1;33m                 sample_weight=sample_weight)\n\u001b[0m\u001b[0;32m   1187\u001b[0m             \u001b[0mself\u001b[0m\u001b[1;33m.\u001b[0m\u001b[0mn_iter_\u001b[0m \u001b[1;33m=\u001b[0m \u001b[0mnp\u001b[0m\u001b[1;33m.\u001b[0m\u001b[0marray\u001b[0m\u001b[1;33m(\u001b[0m\u001b[1;33m[\u001b[0m\u001b[0mn_iter_\u001b[0m\u001b[1;33m]\u001b[0m\u001b[1;33m)\u001b[0m\u001b[1;33m\u001b[0m\u001b[0m\n\u001b[0;32m   1188\u001b[0m             \u001b[1;32mreturn\u001b[0m \u001b[0mself\u001b[0m\u001b[1;33m\u001b[0m\u001b[0m\n",
      "\u001b[1;32m/usr/local/anaconda2/lib/python2.7/site-packages/sklearn/svm/base.pyc\u001b[0m in \u001b[0;36m_fit_liblinear\u001b[1;34m(X, y, C, fit_intercept, intercept_scaling, class_weight, penalty, dual, verbose, max_iter, tol, random_state, multi_class, loss, epsilon, sample_weight)\u001b[0m\n\u001b[0;32m    910\u001b[0m         \u001b[0mX\u001b[0m\u001b[1;33m,\u001b[0m \u001b[0my_ind\u001b[0m\u001b[1;33m,\u001b[0m \u001b[0msp\u001b[0m\u001b[1;33m.\u001b[0m\u001b[0misspmatrix\u001b[0m\u001b[1;33m(\u001b[0m\u001b[0mX\u001b[0m\u001b[1;33m)\u001b[0m\u001b[1;33m,\u001b[0m \u001b[0msolver_type\u001b[0m\u001b[1;33m,\u001b[0m \u001b[0mtol\u001b[0m\u001b[1;33m,\u001b[0m \u001b[0mbias\u001b[0m\u001b[1;33m,\u001b[0m \u001b[0mC\u001b[0m\u001b[1;33m,\u001b[0m\u001b[1;33m\u001b[0m\u001b[0m\n\u001b[0;32m    911\u001b[0m         \u001b[0mclass_weight_\u001b[0m\u001b[1;33m,\u001b[0m \u001b[0mmax_iter\u001b[0m\u001b[1;33m,\u001b[0m \u001b[0mrnd\u001b[0m\u001b[1;33m.\u001b[0m\u001b[0mrandint\u001b[0m\u001b[1;33m(\u001b[0m\u001b[0mnp\u001b[0m\u001b[1;33m.\u001b[0m\u001b[0miinfo\u001b[0m\u001b[1;33m(\u001b[0m\u001b[1;34m'i'\u001b[0m\u001b[1;33m)\u001b[0m\u001b[1;33m.\u001b[0m\u001b[0mmax\u001b[0m\u001b[1;33m)\u001b[0m\u001b[1;33m,\u001b[0m\u001b[1;33m\u001b[0m\u001b[0m\n\u001b[1;32m--> 912\u001b[1;33m         epsilon, sample_weight)\n\u001b[0m\u001b[0;32m    913\u001b[0m     \u001b[1;31m# Regarding rnd.randint(..) in the above signature:\u001b[0m\u001b[1;33m\u001b[0m\u001b[1;33m\u001b[0m\u001b[0m\n\u001b[0;32m    914\u001b[0m     \u001b[1;31m# seed for srand in range [0..INT_MAX); due to limitations in Numpy\u001b[0m\u001b[1;33m\u001b[0m\u001b[1;33m\u001b[0m\u001b[0m\n",
      "\u001b[1;31mKeyboardInterrupt\u001b[0m: "
     ]
    }
   ],
   "source": [
    "# finding optimal parameters for logistic regression\n",
    "\n",
    "best_params = []\n",
    "\n",
    "for col in to_predict_hitters:\n",
    "    y = hitter_predictions[col].tolist()\n",
    "    x_train, x_test, y_train, y_test = train_test_split(x_hitters, y)\n",
    "    \n",
    "    log_reg = linear_model.LogisticRegression()\n",
    "    \n",
    "    parameters = {'C':[0.5, 1.0, 1.5], 'class_weight':[None, 'balanced'], \\\n",
    "                  'solver':['newton-cg', 'liblinear', 'lbfgs', 'sag'],\\\n",
    "                  'max_iter':[100, 150]}\n",
    "    \n",
    "    clf = GridSearchCV(log_reg, parameters)\n",
    "    clf.fit(x_train, y_train)\n",
    "    best_params.append({col:clf.best_params_})"
   ]
  },
  {
   "cell_type": "code",
   "execution_count": null,
   "metadata": {
    "collapsed": true
   },
   "outputs": [],
   "source": [
    "for i in best_params:\n",
    "    print i\n",
    "    print '\\n'"
   ]
  },
  {
   "cell_type": "code",
   "execution_count": null,
   "metadata": {
    "collapsed": true
   },
   "outputs": [],
   "source": [
    "# logreg implementation using the mode of optimal parameters for hitters\n",
    "\n",
    "accuracy_list_logreg_hitters = []\n",
    "accuracy_list_logreg_hitters_AVG = []\n",
    "accuracy_list_logreg_hitters_HR = []\n",
    "accuracy_list_logreg_hitters_R = []\n",
    "accuracy_list_logreg_hitters_RBI = []\n",
    "accuracy_list_logreg_hitters_SB = []\n",
    "\n",
    "for i in xrange(10):\n",
    "    for col in to_predict_hitters:\n",
    "        y = hitter_predictions[col].tolist()\n",
    "        x_train, x_test, y_train, y_test = train_test_split(x_hitters, y)\n",
    "\n",
    "        logreg = linear_model.LogisticRegression(C = 0.5, solver = 'newton-cg')\n",
    "        logreg.fit(x_train, y_train)\n",
    "        acc = metrics.accuracy_score(logreg.predict(x_test), y_test)\n",
    "        accuracy_list_logreg_hitters.append(acc)\n",
    "        \n",
    "        if col == 'correct_AVG':\n",
    "            accuracy_list_logreg_hitters_AVG.append(acc)\n",
    "        elif col == 'correct_HR':\n",
    "            accuracy_list_logreg_hitters_HR.append(acc)\n",
    "        elif col == 'correct_R':\n",
    "            accuracy_list_logreg_hitters_R.append(acc)\n",
    "        elif col == 'correct_RBI':\n",
    "            accuracy_list_logreg_hitters_RBI.append(acc)\n",
    "        elif col == 'correct_SB':\n",
    "            accuracy_list_logreg_hitters_SB.append(acc)\n",
    "\n",
    "print \"%-15s\" % 'overall average', np.mean(accuracy_list_logreg_hitters)\n",
    "print \"%-15s\" % 'correct_AVG', np.mean(accuracy_list_logreg_hitters_AVG)\n",
    "print \"%-15s\" % 'correct_HR', np.mean(accuracy_list_logreg_hitters_HR)\n",
    "print \"%-15s\" % 'correct_R', np.mean(accuracy_list_logreg_hitters_R)\n",
    "print \"%-15s\" % 'correct_RBI', np.mean(accuracy_list_logreg_hitters_RBI)\n",
    "print \"%-15s\" % 'correct_SB', np.mean(accuracy_list_logreg_hitters_SB)"
   ]
  },
  {
   "cell_type": "code",
   "execution_count": null,
   "metadata": {
    "collapsed": true
   },
   "outputs": [],
   "source": [
    "# logistic regression pitchers\n",
    "# finding best logistic regression parameters for our pitchers\n",
    "\n",
    "best_params = []\n",
    "\n",
    "for col in to_predict_pitchers:\n",
    "    y = pitcher_predictions[col].tolist()\n",
    "    x_train, x_test, y_train, y_test = train_test_split(x_pitchers, y)\n",
    "    \n",
    "    log_reg = linear_model.LogisticRegression()\n",
    "    parameters = {'C':[0.5, 1.0, 1.5], 'class_weight':[None, 'balanced'], 'random_state':[None, 5], \\\n",
    "                  'solver':['liblinear', 'newton-cg', 'lbfgs', 'sag']}\n",
    "    clf = GridSearchCV(log_reg, parameters)\n",
    "    clf.fit(x_train, y_train)\n",
    "    best_params.append({col:clf.best_params_})"
   ]
  },
  {
   "cell_type": "code",
   "execution_count": null,
   "metadata": {
    "collapsed": true
   },
   "outputs": [],
   "source": [
    "for i in best_params:\n",
    "    print i\n",
    "    print '\\n'"
   ]
  },
  {
   "cell_type": "code",
   "execution_count": null,
   "metadata": {
    "collapsed": true
   },
   "outputs": [],
   "source": [
    "# implementing logreg using mode of optimal parameters for our pitchers\n",
    "\n",
    "accuracy_list_logreg_pitchers = []\n",
    "accuracy_list_logreg_pitchers_ERA = []\n",
    "accuracy_list_logreg_pitchers_K = []\n",
    "accuracy_list_logreg_pitchers_W = []\n",
    "accuracy_list_logreg_pitchers_WHIP = []\n",
    "\n",
    "to_predict_pitchers_ERA_W = ['correct_ERA','correct_W']\n",
    "to_predict_pitchers_K_WHIP = ['correct_K', 'correct_WHIP']\n",
    "\n",
    "for i in xrange(10):\n",
    "    for col in to_predict_pitchers_ERA_W:\n",
    "        y = pitcher_predictions[col].tolist()\n",
    "        x_train, x_test, y_train, y_test = train_test_split(x_pitchers, y)\n",
    "\n",
    "        logreg = linear_model.LogisticRegression(C = 0.5, solver = 'liblinear')\n",
    "        logreg.fit(x_train, y_train)\n",
    "        acc = metrics.accuracy_score(logreg.predict(x_test), y_test)\n",
    "        accuracy_list_logreg_pitchers.append(acc)\n",
    "        \n",
    "        if col == 'correct_ERA':\n",
    "            accuracy_list_logreg_pitchers_ERA.append(acc)\n",
    "        elif col == 'correct_K':\n",
    "            accuracy_list_logreg_pitchers_K.append(acc)\n",
    "        elif col == 'correct_W':\n",
    "            accuracy_list_logreg_pitchers_W.append(acc)\n",
    "        elif col == 'correct_WHIP':\n",
    "            accuracy_list_logreg_pitchers_WHIP.append(acc)\n",
    "            \n",
    "    for col in to_predict_pitchers_K_WHIP:\n",
    "        y = pitcher_predictions[col].tolist()\n",
    "        x_train, x_test, y_train, y_test = train_test_split(x_pitchers, y)\n",
    "\n",
    "        logreg = linear_model.LogisticRegression(C = 1.5, solver = 'lbfgs')\n",
    "        logreg.fit(x_train, y_train)\n",
    "        acc = metrics.accuracy_score(logreg.predict(x_test), y_test)\n",
    "        accuracy_list_logreg_pitchers.append(acc)\n",
    "        \n",
    "        if col == 'correct_ERA':\n",
    "            accuracy_list_logreg_pitchers_ERA.append(acc)\n",
    "        elif col == 'correct_K':\n",
    "            accuracy_list_logreg_pitchers_K.append(acc)\n",
    "        elif col == 'correct_W':\n",
    "            accuracy_list_logreg_pitchers_W.append(acc)\n",
    "        elif col == 'correct_WHIP':\n",
    "            accuracy_list_logreg_pitchers_WHIP.append(acc)\n",
    "\n",
    "\n",
    "print \"%-15s\" % 'overall average', np.mean(accuracy_list_logreg_pitchers)\n",
    "print \"%-15s\" % 'correct_ERA', np.mean(accuracy_list_logreg_pitchers_ERA)\n",
    "print \"%-15s\" % 'correct_K', np.mean(accuracy_list_logreg_pitchers_K)\n",
    "print \"%-15s\" % 'correct_W', np.mean(accuracy_list_logreg_pitchers_W)\n",
    "print \"%-15s\" % 'correct_WHIP', np.mean(accuracy_list_logreg_pitchers_WHIP)"
   ]
  },
  {
   "cell_type": "markdown",
   "metadata": {},
   "source": [
    "### Random Forests"
   ]
  },
  {
   "cell_type": "markdown",
   "metadata": {},
   "source": [
    "We expect random forests to give a better prediction than logistic regression because we do not necessarily know that our data is linear. Random forests do not expect linearly separable data, while logistic regression does. Random forests will also allow for non-linear interactions between input variables. Logistic regression is also not as well-suited to handling categorical features. Here, the model is a categorical feature, so we expect random forests to perform better in that regard.\n",
    "\n",
    "Observe that we decided not to use trees because random forests tend to be a better overall predictor. Our data sets were not of a sufficiently large size in order to require the use of a single tree instead of a random forest.  The same argument for trees applies to decision trees as to why we chose to use random forests instead.  Observe that running the GridSearchCV with so many different inputs does require a significant amount of time.  Unfortunately, even with optimized parameters our overall accuracy only improved by ~1%; note that differences may be more or less for individual statistics.\n",
    "\n",
    "Random forests provide us with an implementation of many different trees, ultimately providing us with a stronger predictor than would a single tree.  We knew random forests to be a very popular method for machine learning and due to the classification nature of our projecct believed it to be a reasonable and strong method for predicting.\n",
    "\n",
    "Also, note that we provided more details in the random forests implementation such as importance of coefficients and ROC plots. For the sake of brevity, we did not include these statistics and graphs for all of our classification methods."
   ]
  },
  {
   "cell_type": "code",
   "execution_count": 96,
   "metadata": {
    "collapsed": true
   },
   "outputs": [],
   "source": [
    "### running random forests for hitters\n",
    "\n",
    "best_params = []\n",
    "\n",
    "for col in to_predict_hitters:\n",
    "    \n",
    "    # looping through each of the desired prediction columns for hitters and splitting into test/train\n",
    "    y = hitter_predictions[col].tolist()\n",
    "    x_train, x_test, y_train, y_test = train_test_split(x_hitters, y)\n",
    "    \n",
    "    # instantiate randomForest object and then pass in different potential arguments\n",
    "    randomForest = RandomForestClassifier()\n",
    "    parameters = {'n_estimators':[10, 15, 20], 'criterion':['gini', 'entropy'], \\\n",
    "                  'min_samples_leaf':[1, 5], 'max_features':['auto', 'sqrt'],\\\n",
    "                  'max_leaf_nodes':[None, 5], 'bootstrap':[True], 'n_jobs':[1, -1]}\n",
    "    \n",
    "    # run the GridSearch to find optimal arguments\n",
    "    clf = GridSearchCV(randomForest, parameters)\n",
    "    clf.fit(x_train, y_train)\n",
    "    best_params.append({col:clf.best_params_})"
   ]
  },
  {
   "cell_type": "code",
   "execution_count": 97,
   "metadata": {
    "collapsed": false,
    "scrolled": true
   },
   "outputs": [
    {
     "name": "stdout",
     "output_type": "stream",
     "text": [
      "{'correct_AVG': {'n_jobs': 1, 'max_leaf_nodes': None, 'bootstrap': True, 'min_samples_leaf': 5, 'n_estimators': 15, 'criterion': 'gini', 'max_features': 'sqrt'}}\n",
      "\n",
      "\n",
      "{'correct_HR': {'n_jobs': -1, 'max_leaf_nodes': None, 'bootstrap': True, 'min_samples_leaf': 1, 'n_estimators': 20, 'criterion': 'entropy', 'max_features': 'auto'}}\n",
      "\n",
      "\n",
      "{'correct_R': {'n_jobs': 1, 'max_leaf_nodes': None, 'bootstrap': True, 'min_samples_leaf': 1, 'n_estimators': 20, 'criterion': 'entropy', 'max_features': 'auto'}}\n",
      "\n",
      "\n",
      "{'correct_RBI': {'n_jobs': 1, 'max_leaf_nodes': None, 'bootstrap': True, 'min_samples_leaf': 1, 'n_estimators': 20, 'criterion': 'gini', 'max_features': 'auto'}}\n",
      "\n",
      "\n",
      "{'correct_SB': {'n_jobs': 1, 'max_leaf_nodes': None, 'bootstrap': True, 'min_samples_leaf': 1, 'n_estimators': 20, 'criterion': 'entropy', 'max_features': 'sqrt'}}\n",
      "\n",
      "\n"
     ]
    }
   ],
   "source": [
    "for i in best_params:\n",
    "    print i\n",
    "    print '\\n'"
   ]
  },
  {
   "cell_type": "markdown",
   "metadata": {},
   "source": [
    "Because each of the different \"correct\\_\" statistics we are attempting to predict has slightly different arguments, we will attempt to find the optimal result by plugging in the appropriate arguments for each individual \"correct\\_\" column.  We will also run a prediction just using the same arguments for each column to see if there is a significant difference as compared to using the arguments shared in common by the most columns."
   ]
  },
  {
   "cell_type": "code",
   "execution_count": 98,
   "metadata": {
    "collapsed": false,
    "scrolled": true
   },
   "outputs": [
    {
     "name": "stdout",
     "output_type": "stream",
     "text": [
      "overall average 0.829375289218\n",
      "correct_AVG     0.867746413697\n",
      "correct_HR      0.823692734845\n",
      "correct_R       0.829477093938\n",
      "correct_RBI     0.796992133272\n",
      "correct_SB      0.828968070338\n"
     ]
    }
   ],
   "source": [
    "# default hitters implementation for Forests\n",
    "\n",
    "accuracy_list_Forests_hitters = []\n",
    "accuracy_list_Forests_hitters_AVG = []\n",
    "accuracy_list_Forests_hitters_HR = []\n",
    "accuracy_list_Forests_hitters_R = []\n",
    "accuracy_list_Forests_hitters_RBI = []\n",
    "accuracy_list_Forests_hitters_SB = []\n",
    "\n",
    "for i in xrange(10):\n",
    "    for col in to_predict_hitters:\n",
    "        y = hitter_predictions[col].tolist()\n",
    "        x_train, x_test, y_train, y_test = train_test_split(x_hitters, y)\n",
    "\n",
    "        randomForest = RandomForestClassifier()\n",
    "        randomForest.fit(x_train, y_train)\n",
    "        acc = metrics.accuracy_score(y_test, randomForest.predict(x_test))\n",
    "        accuracy_list_Forests_hitters.append(acc)\n",
    "        \n",
    "        if col == 'correct_AVG':\n",
    "            accuracy_list_Forests_hitters_AVG.append(acc)\n",
    "        elif col == 'correct_HR':\n",
    "            accuracy_list_Forests_hitters_HR.append(acc)\n",
    "        elif col == 'correct_R':\n",
    "            accuracy_list_Forests_hitters_R.append(acc)\n",
    "        elif col == 'correct_RBI':\n",
    "            accuracy_list_Forests_hitters_RBI.append(acc)\n",
    "        elif col == 'correct_SB':\n",
    "            accuracy_list_Forests_hitters_SB.append(acc)\n",
    "        #print \"%-15s\" % col, acc\n",
    "    #print '\\n'\n",
    "    \n",
    "print \"%-15s\" % 'overall average', np.mean(accuracy_list_Forests_hitters)\n",
    "print \"%-15s\" % 'correct_AVG', np.mean(accuracy_list_Forests_hitters_AVG)\n",
    "print \"%-15s\" % 'correct_HR', np.mean(accuracy_list_Forests_hitters_HR)\n",
    "print \"%-15s\" % 'correct_R', np.mean(accuracy_list_Forests_hitters_R)\n",
    "print \"%-15s\" % 'correct_RBI', np.mean(accuracy_list_Forests_hitters_RBI)\n",
    "print \"%-15s\" % 'correct_SB', np.mean(accuracy_list_Forests_hitters_SB)"
   ]
  },
  {
   "cell_type": "code",
   "execution_count": 99,
   "metadata": {
    "collapsed": false,
    "scrolled": true
   },
   "outputs": [
    {
     "name": "stdout",
     "output_type": "stream",
     "text": [
      "overall average 0.838565478945\n",
      "correct_AVG     0.867746413697\n",
      "correct_HR      0.843914854234\n",
      "correct_R       0.833456732994\n",
      "correct_RBI     0.808005552985\n",
      "correct_SB      0.839703840814\n"
     ]
    }
   ],
   "source": [
    "# Forest implementation using the mode of the optimal parameters\n",
    "\n",
    "accuracy_list_Forests_hitters = []\n",
    "accuracy_list_Forests_hitters_AVG = []\n",
    "accuracy_list_Forests_hitters_HR = []\n",
    "accuracy_list_Forests_hitters_R = []\n",
    "accuracy_list_Forests_hitters_RBI = []\n",
    "accuracy_list_Forests_hitters_SB = []\n",
    "\n",
    "for i in xrange(10):\n",
    "    for col in to_predict_hitters:\n",
    "        y = hitter_predictions[col].tolist()\n",
    "        x_train, x_test, y_train, y_test = train_test_split(x_hitters, y)\n",
    "\n",
    "        randomForest = RandomForestClassifier(n_jobs=-1, min_samples_leaf=1, n_estimators=20,\\\n",
    "                                             criterion='entropy', max_features='sqrt')\n",
    "        randomForest.fit(x_train, y_train)\n",
    "        acc = metrics.accuracy_score(y_test, randomForest.predict(x_test))\n",
    "        accuracy_list_Forests_hitters.append(acc)\n",
    "        \n",
    "        if col == 'correct_AVG':\n",
    "            accuracy_list_Forests_hitters_AVG.append(acc)\n",
    "        elif col == 'correct_HR':\n",
    "            accuracy_list_Forests_hitters_HR.append(acc)\n",
    "        elif col == 'correct_R':\n",
    "            accuracy_list_Forests_hitters_R.append(acc)\n",
    "        elif col == 'correct_RBI':\n",
    "            accuracy_list_Forests_hitters_RBI.append(acc)\n",
    "        elif col == 'correct_SB':\n",
    "            accuracy_list_Forests_hitters_SB.append(acc)\n",
    "        #print \"%-15s\" % col, acc\n",
    "    #print '\\n'\n",
    "\n",
    "print \"%-15s\" % 'overall average', np.mean(accuracy_list_Forests_hitters)\n",
    "print \"%-15s\" % 'correct_AVG', np.mean(accuracy_list_Forests_hitters_AVG)\n",
    "print \"%-15s\" % 'correct_HR', np.mean(accuracy_list_Forests_hitters_HR)\n",
    "print \"%-15s\" % 'correct_R', np.mean(accuracy_list_Forests_hitters_R)\n",
    "print \"%-15s\" % 'correct_RBI', np.mean(accuracy_list_Forests_hitters_RBI)\n",
    "print \"%-15s\" % 'correct_SB', np.mean(accuracy_list_Forests_hitters_SB)"
   ]
  },
  {
   "cell_type": "code",
   "execution_count": 100,
   "metadata": {
    "collapsed": false,
    "scrolled": true
   },
   "outputs": [
    {
     "name": "stdout",
     "output_type": "stream",
     "text": [
      "overall average 0.839685330865\n",
      "correct_AVG     0.872975474317\n",
      "correct_HR      0.844794076816\n",
      "correct_R       0.836140675613\n",
      "correct_RBI     0.806015733457\n",
      "correct_SB      0.838500694123\n"
     ]
    }
   ],
   "source": [
    "accuracy_list_Forests_hitters = []\n",
    "accuracy_list_Forests_hitters_AVG = []\n",
    "accuracy_list_Forests_hitters_HR = []\n",
    "accuracy_list_Forests_hitters_R = []\n",
    "accuracy_list_Forests_hitters_RBI = []\n",
    "accuracy_list_Forests_hitters_SB = []\n",
    "\n",
    "for i in xrange(10):\n",
    "    y = hitter_predictions['correct_AVG'].tolist()\n",
    "    x_train, x_test, y_train, y_test = train_test_split(x_hitters, y)\n",
    "\n",
    "    randomForest = RandomForestClassifier(n_jobs=-1, min_samples_leaf=1, n_estimators=20,\\\n",
    "                                         criterion='entropy', max_features='auto')\n",
    "    randomForest.fit(x_train, y_train)\n",
    "    acc = metrics.accuracy_score(y_test, randomForest.predict(x_test))\n",
    "    accuracy_list_Forests_hitters.append(acc)\n",
    "    accuracy_list_Forests_hitters_AVG.append(acc)\n",
    "\n",
    "for i in xrange(10):\n",
    "    y = hitter_predictions['correct_HR'].tolist()\n",
    "    x_train, x_test, y_train, y_test = train_test_split(x_hitters, y)\n",
    "\n",
    "    randomForest = RandomForestClassifier(n_jobs=-1, min_samples_leaf=1, n_estimators=20,\\\n",
    "                                         criterion='entropy', max_features='sqrt')\n",
    "    randomForest.fit(x_train, y_train)\n",
    "    acc = metrics.accuracy_score(y_test, randomForest.predict(x_test))\n",
    "    accuracy_list_Forests_hitters.append(acc)\n",
    "    accuracy_list_Forests_hitters_HR.append(acc)\n",
    "\n",
    "for i in xrange(10):\n",
    "    y = hitter_predictions['correct_R'].tolist()\n",
    "    x_train, x_test, y_train, y_test = train_test_split(x_hitters, y)\n",
    "\n",
    "    randomForest = RandomForestClassifier(n_jobs=-1, min_samples_leaf=1, n_estimators=20,\\\n",
    "                                         criterion='entropy', max_features='sqrt')\n",
    "    randomForest.fit(x_train, y_train)\n",
    "    acc = metrics.accuracy_score(y_test, randomForest.predict(x_test))\n",
    "    accuracy_list_Forests_hitters.append(acc)\n",
    "    accuracy_list_Forests_hitters_R.append(acc)\n",
    "    \n",
    "for i in xrange(10):\n",
    "    y = hitter_predictions['correct_RBI'].tolist()\n",
    "    x_train, x_test, y_train, y_test = train_test_split(x_hitters, y)\n",
    "\n",
    "    randomForest = RandomForestClassifier(n_jobs=1, min_samples_leaf=1, n_estimators=20,\\\n",
    "                                         criterion='gini', max_features='auto')\n",
    "    randomForest.fit(x_train, y_train)\n",
    "    acc = metrics.accuracy_score(y_test, randomForest.predict(x_test))\n",
    "    accuracy_list_Forests_hitters.append(acc)\n",
    "    accuracy_list_Forests_hitters_RBI.append(acc)\n",
    "    \n",
    "for i in xrange(10):\n",
    "    y = hitter_predictions['correct_SB'].tolist()\n",
    "    x_train, x_test, y_train, y_test = train_test_split(x_hitters, y)\n",
    "\n",
    "    randomForest = RandomForestClassifier(n_jobs=-1, min_samples_leaf=1, n_estimators=20,\\\n",
    "                                         criterion='gini', max_features='sqrt')\n",
    "    randomForest.fit(x_train, y_train)\n",
    "    acc = metrics.accuracy_score(y_test, randomForest.predict(x_test))\n",
    "    accuracy_list_Forests_hitters.append(acc)\n",
    "    accuracy_list_Forests_hitters_SB.append(acc)\n",
    "\n",
    "print \"%-15s\" % 'overall average', np.mean(accuracy_list_Forests_hitters)\n",
    "print \"%-15s\" % 'correct_AVG', np.mean(accuracy_list_Forests_hitters_AVG)\n",
    "print \"%-15s\" % 'correct_HR', np.mean(accuracy_list_Forests_hitters_HR)\n",
    "print \"%-15s\" % 'correct_R', np.mean(accuracy_list_Forests_hitters_R)\n",
    "print \"%-15s\" % 'correct_RBI', np.mean(accuracy_list_Forests_hitters_RBI)\n",
    "print \"%-15s\" % 'correct_SB', np.mean(accuracy_list_Forests_hitters_SB)"
   ]
  },
  {
   "cell_type": "markdown",
   "metadata": {},
   "source": [
    "Observe that even with giving all of the optimal parameters for each statistic individually the accuracy rate doesn't improve by any significant amount, so for the other methods we will continue to run a grid search to obtain the optimal parameters, but we will chose the mode of those optimal parameters when we find the accuracy rate in order to streamline the code.\n",
    "\n",
    "We can observe that random forests does a pretty good job at predicting each of our different categories with the best result occuring for 'correct\\_AVG' with an 87.3% and the worst was 'correct\\_RBI' with an 80.6%."
   ]
  },
  {
   "cell_type": "code",
   "execution_count": 101,
   "metadata": {
    "collapsed": false
   },
   "outputs": [
    {
     "name": "stderr",
     "output_type": "stream",
     "text": [
      "/Users/Jake/anaconda/lib/python2.7/site-packages/IPython/html.py:14: ShimWarning: The `IPython.html` package has been deprecated. You should import from `notebook` instead. `IPython.html.widgets` has moved to `ipywidgets`.\n",
      "  \"`IPython.html.widgets` has moved to `ipywidgets`.\", ShimWarning)\n"
     ]
    },
    {
     "data": {
      "text/plain": [
       "<matplotlib.axes._subplots.AxesSubplot at 0x114b52790>"
      ]
     },
     "execution_count": 101,
     "metadata": {},
     "output_type": "execute_result"
    },
    {
     "data": {
      "image/png": "[encoded data removed]",
      "text/plain": [
       "<matplotlib.figure.Figure at 0x114b52650>"
      ]
     },
     "metadata": {},
     "output_type": "display_data"
    }
   ],
   "source": [
    "import seaborn as sns\n",
    "cm = metrics.confusion_matrix(y_test, randomForest.predict(x_test))\n",
    "sns.heatmap(cm, annot=True)"
   ]
  },
  {
   "cell_type": "markdown",
   "metadata": {},
   "source": [
    "As can be seen from our confusion matrix, our graph tended to have many true positives and false negatives, which would lead us to believe that our predictions from random forests were strong and appear to be good estimators."
   ]
  },
  {
   "cell_type": "code",
   "execution_count": 102,
   "metadata": {
    "collapsed": false
   },
   "outputs": [
    {
     "data": {
      "text/plain": [
       "0.82975171218121724"
      ]
     },
     "execution_count": 102,
     "metadata": {},
     "output_type": "execute_result"
    }
   ],
   "source": [
    "metrics.roc_auc_score(y_test, randomForest.predict(x_test))"
   ]
  },
  {
   "cell_type": "markdown",
   "metadata": {},
   "source": [
    "Again, similar to our confusion matrix, we see our roc_auc score was very high at 83%."
   ]
  },
  {
   "cell_type": "code",
   "execution_count": 103,
   "metadata": {
    "collapsed": false
   },
   "outputs": [
    {
     "data": {
      "text/plain": [
       "array([ 0.05305551,  0.03878969,  0.05614772,  0.04920589,  0.14946719,\n",
       "        0.02964347,  0.03447501,  0.03848242,  0.043736  ,  0.04091807,\n",
       "        0.03678008,  0.03790361,  0.04044086,  0.0452171 ,  0.0417137 ,\n",
       "        0.14883004,  0.03773008,  0.04418139,  0.03328217])"
      ]
     },
     "execution_count": 103,
     "metadata": {},
     "output_type": "execute_result"
    }
   ],
   "source": [
    "randomForest.feature_importances_"
   ]
  },
  {
   "cell_type": "code",
   "execution_count": 104,
   "metadata": {
    "collapsed": false
   },
   "outputs": [
    {
     "data": {
      "text/plain": [
       "Index([u'AVG', u'HR', u'R', u'RBI', u'SB', u'method', u'previous_2B',\n",
       "       u'previous_3B', u'previous_AB', u'previous_AVG', u'previous_BB',\n",
       "       u'previous_HR', u'previous_OBP', u'previous_R', u'previous_RBI',\n",
       "       u'previous_SB', u'previous_SLG', u'previous_SO', u'previous_age'],\n",
       "      dtype='object')"
      ]
     },
     "execution_count": 104,
     "metadata": {},
     "output_type": "execute_result"
    }
   ],
   "source": [
    "x_train.columns"
   ]
  },
  {
   "cell_type": "markdown",
   "metadata": {},
   "source": [
    "Here we attempted to determine which features were most relevant in our predictions.  This x_train was being used to attempt a correct prediction for number of SB (stolen bases) and this model would appear to correctly place the largest emphasis on the 'previous_SB' statistic (higher than any other feature importance by nearly 10%)."
   ]
  },
  {
   "cell_type": "code",
   "execution_count": 158,
   "metadata": {
    "collapsed": false
   },
   "outputs": [],
   "source": [
    "# we took out this scatter plot and the next one but are planning to incorporate this additional analysis at\n",
    "#     a later time\n",
    "#plt.scatter(x_train.iloc[:,15], x_train.iloc[:,4], c=y_train, cmap=plt.cm.BuGn)"
   ]
  },
  {
   "cell_type": "code",
   "execution_count": 106,
   "metadata": {
    "collapsed": false
   },
   "outputs": [],
   "source": [
    "# running random forests for pitchers\n",
    "\n",
    "best_params = []\n",
    "\n",
    "for col in to_predict_pitchers:\n",
    "    y = pitcher_predictions[col].tolist()\n",
    "    x_train, x_test, y_train, y_test = train_test_split(x_pitchers, y)\n",
    "    \n",
    "    randomForest = RandomForestClassifier()\n",
    "    parameters = {'n_estimators':[10, 15, 20], 'criterion':['gini', 'entropy'], \\\n",
    "                  'min_samples_leaf':[1, 5], 'max_features':['auto', 'sqrt'],\\\n",
    "                  'max_leaf_nodes':[None, 5], 'bootstrap':[True], 'n_jobs':[1, -1]}\n",
    "    clf = GridSearchCV(randomForest, parameters)\n",
    "    clf.fit(x_train, y_train)\n",
    "    best_params.append({col:clf.best_params_})"
   ]
  },
  {
   "cell_type": "code",
   "execution_count": 107,
   "metadata": {
    "collapsed": false
   },
   "outputs": [
    {
     "name": "stdout",
     "output_type": "stream",
     "text": [
      "{'correct_ERA': {'n_jobs': 1, 'max_leaf_nodes': None, 'bootstrap': True, 'min_samples_leaf': 5, 'n_estimators': 10, 'criterion': 'gini', 'max_features': 'auto'}}\n",
      "\n",
      "\n",
      "{'correct_K': {'n_jobs': 1, 'max_leaf_nodes': 5, 'bootstrap': True, 'min_samples_leaf': 5, 'n_estimators': 20, 'criterion': 'entropy', 'max_features': 'sqrt'}}\n",
      "\n",
      "\n",
      "{'correct_W': {'n_jobs': 1, 'max_leaf_nodes': None, 'bootstrap': True, 'min_samples_leaf': 5, 'n_estimators': 15, 'criterion': 'entropy', 'max_features': 'auto'}}\n",
      "\n",
      "\n",
      "{'correct_WHIP': {'n_jobs': 1, 'max_leaf_nodes': None, 'bootstrap': True, 'min_samples_leaf': 5, 'n_estimators': 15, 'criterion': 'entropy', 'max_features': 'auto'}}\n",
      "\n",
      "\n"
     ]
    }
   ],
   "source": [
    "for i in best_params:\n",
    "    print i\n",
    "    print '\\n'"
   ]
  },
  {
   "cell_type": "code",
   "execution_count": 108,
   "metadata": {
    "collapsed": false,
    "scrolled": true
   },
   "outputs": [
    {
     "name": "stdout",
     "output_type": "stream",
     "text": [
      "overall average 0.758237179487\n",
      "correct_ERA     0.853333333333\n",
      "correct_K       0.662564102564\n",
      "correct_W       0.731666666667\n",
      "correct_WHIP    0.785384615385\n"
     ]
    }
   ],
   "source": [
    "# pitchers random forest using the mode of the optimal parameters\n",
    "\n",
    "accuracy_list_Forests_pitchers = []\n",
    "accuracy_list_Forests_pitchers_ERA = []\n",
    "accuracy_list_Forests_pitchers_K = []\n",
    "accuracy_list_Forests_pitchers_W = []\n",
    "accuracy_list_Forests_pitchers_WHIP = []\n",
    "\n",
    "for i in xrange(10):\n",
    "    for col in to_predict_pitchers:\n",
    "        y = pitcher_predictions[col].tolist()\n",
    "        x_train, x_test, y_train, y_test = train_test_split(x_pitchers, y)\n",
    "\n",
    "        randomForest = RandomForestClassifier(n_jobs=-1, min_samples_leaf=5, n_estimators=20, criterion='gini',\\\n",
    "                                             max_features='sqrt')\n",
    "        randomForest.fit(x_train, y_train)\n",
    "        acc = metrics.accuracy_score(y_test, randomForest.predict(x_test))\n",
    "        accuracy_list_Forests_pitchers.append(acc)\n",
    "        \n",
    "        if col == 'correct_ERA':\n",
    "            accuracy_list_Forests_pitchers_ERA.append(acc)\n",
    "        elif col == 'correct_K':\n",
    "            accuracy_list_Forests_pitchers_K.append(acc)\n",
    "        elif col == 'correct_W':\n",
    "            accuracy_list_Forests_pitchers_W.append(acc)\n",
    "        elif col == 'correct_WHIP':\n",
    "            accuracy_list_Forests_pitchers_WHIP.append(acc)\n",
    "\n",
    "print \"%-15s\" % 'overall average', np.mean(accuracy_list_Forests_pitchers)\n",
    "print \"%-15s\" % 'correct_ERA', np.mean(accuracy_list_Forests_pitchers_ERA)\n",
    "print \"%-15s\" % 'correct_K', np.mean(accuracy_list_Forests_pitchers_K)\n",
    "print \"%-15s\" % 'correct_W', np.mean(accuracy_list_Forests_pitchers_W)\n",
    "print \"%-15s\" % 'correct_WHIP', np.mean(accuracy_list_Forests_pitchers_WHIP)"
   ]
  },
  {
   "cell_type": "code",
   "execution_count": 109,
   "metadata": {
    "collapsed": false,
    "scrolled": true
   },
   "outputs": [
    {
     "name": "stdout",
     "output_type": "stream",
     "text": [
      "overall average 0.762980769231\n",
      "correct_ERA     0.866153846154\n",
      "correct_K       0.658974358974\n",
      "correct_W       0.738717948718\n",
      "correct_WHIP    0.788076923077\n"
     ]
    }
   ],
   "source": [
    "# pitchers random forest using optimal parameters on a per-prediction basis\n",
    "\n",
    "accuracy_list_Forests_pitchers = []\n",
    "accuracy_list_Forests_pitchers_ERA = []\n",
    "accuracy_list_Forests_pitchers_K = []\n",
    "accuracy_list_Forests_pitchers_W = []\n",
    "accuracy_list_Forests_pitchers_WHIP = []\n",
    "\n",
    "for i in xrange(10):\n",
    "    y = pitcher_predictions['correct_ERA'].tolist()\n",
    "    x_train, x_test, y_train, y_test = train_test_split(x_pitchers, y)\n",
    "\n",
    "    randomForest = RandomForestClassifier(n_jobs=-1, min_samples_leaf=1, n_estimators=20, criterion='entropy',\\\n",
    "                                         max_features='auto')\n",
    "    randomForest.fit(x_train, y_train)\n",
    "    acc = metrics.accuracy_score(y_test, randomForest.predict(x_test))\n",
    "    accuracy_list_Forests_pitchers.append(acc)\n",
    "    accuracy_list_Forests_pitchers_ERA.append(acc)\n",
    "    \n",
    "for i in xrange(10):\n",
    "    y = pitcher_predictions['correct_K'].tolist()\n",
    "    x_train, x_test, y_train, y_test = train_test_split(x_pitchers, y)\n",
    "\n",
    "    randomForest = RandomForestClassifier(n_jobs=-1, min_samples_leaf=5, n_estimators=15, criterion='gini',\\\n",
    "                                         max_leaf_nodes=5 ,max_features='auto')\n",
    "    randomForest.fit(x_train, y_train)\n",
    "    acc = metrics.accuracy_score(y_test, randomForest.predict(x_test))\n",
    "    accuracy_list_Forests_pitchers.append(acc)\n",
    "    accuracy_list_Forests_pitchers_K.append(acc)\n",
    "\n",
    "for i in xrange(10):\n",
    "    y = pitcher_predictions['correct_W'].tolist()\n",
    "    x_train, x_test, y_train, y_test = train_test_split(x_pitchers, y)\n",
    "\n",
    "    randomForest = RandomForestClassifier(n_jobs=1, min_samples_leaf=1, n_estimators=20, criterion='entropy',\\\n",
    "                                         max_features='sqrt')\n",
    "    randomForest.fit(x_train, y_train)\n",
    "    acc = metrics.accuracy_score(y_test, randomForest.predict(x_test))\n",
    "    accuracy_list_Forests_pitchers.append(acc)\n",
    "    accuracy_list_Forests_pitchers_W.append(acc)\n",
    "\n",
    "for i in xrange(10):\n",
    "    y = pitcher_predictions['correct_WHIP'].tolist()\n",
    "    x_train, x_test, y_train, y_test = train_test_split(x_pitchers, y)\n",
    "\n",
    "    randomForest = RandomForestClassifier(n_jobs=1, min_samples_leaf=5, n_estimators=20, criterion='gini',\\\n",
    "                                         max_features='sqrt')\n",
    "    randomForest.fit(x_train, y_train)\n",
    "    acc = metrics.accuracy_score(y_test, randomForest.predict(x_test))\n",
    "    accuracy_list_Forests_pitchers.append(acc)\n",
    "    accuracy_list_Forests_pitchers_WHIP.append(acc)\n",
    "\n",
    "print \"%-15s\" % 'overall average', np.mean(accuracy_list_Forests_pitchers)\n",
    "print \"%-15s\" % 'correct_ERA', np.mean(accuracy_list_Forests_pitchers_ERA)\n",
    "print \"%-15s\" % 'correct_K', np.mean(accuracy_list_Forests_pitchers_K)\n",
    "print \"%-15s\" % 'correct_W', np.mean(accuracy_list_Forests_pitchers_W)\n",
    "print \"%-15s\" % 'correct_WHIP', np.mean(accuracy_list_Forests_pitchers_WHIP)"
   ]
  },
  {
   "cell_type": "markdown",
   "metadata": {},
   "source": [
    "Random forests was not quite as accurate for predicting pitcher projections as it was for hitters.  However, despite not being as accurate, the predictions were still pretty good.  The best prediction was for 'correct\\_ERA' with an 86.6% and the worst was a measly 65.9% for 'correct\\_K'."
   ]
  },
  {
   "cell_type": "code",
   "execution_count": 110,
   "metadata": {
    "collapsed": false
   },
   "outputs": [
    {
     "data": {
      "text/plain": [
       "<matplotlib.axes._subplots.AxesSubplot at 0x11453a210>"
      ]
     },
     "execution_count": 110,
     "metadata": {},
     "output_type": "execute_result"
    },
    {
     "data": {
      "image/png": "[encoded data removed]",
      "text/plain": [
       "<matplotlib.figure.Figure at 0x1133bf050>"
      ]
     },
     "metadata": {},
     "output_type": "display_data"
    }
   ],
   "source": [
    "cm = metrics.confusion_matrix(y_test, randomForest.predict(x_test))\n",
    "sns.heatmap(cm, annot=True)"
   ]
  },
  {
   "cell_type": "markdown",
   "metadata": {},
   "source": [
    "While our results for true positive were definitely the most significant statistic in our confusion_matrix, the number of true negatives was also a significant portion of the results (rather than false positives which we would have hoped for)"
   ]
  },
  {
   "cell_type": "code",
   "execution_count": 111,
   "metadata": {
    "collapsed": false
   },
   "outputs": [
    {
     "data": {
      "text/plain": [
       "0.51676717607040012"
      ]
     },
     "execution_count": 111,
     "metadata": {},
     "output_type": "execute_result"
    }
   ],
   "source": [
    "metrics.roc_auc_score(y_test, randomForest.predict(x_test))"
   ]
  },
  {
   "cell_type": "markdown",
   "metadata": {},
   "source": [
    "As can be expected due to our confusion_matrix results, the roc_auc statistic is not very promising with a 55%, due in large part to the second largest amount of results being seen in the true negatives portion rather than in false negatives."
   ]
  },
  {
   "cell_type": "code",
   "execution_count": 112,
   "metadata": {
    "collapsed": false
   },
   "outputs": [
    {
     "data": {
      "text/plain": [
       "array([ 0.0584707 ,  0.07839219,  0.07150429,  0.02156739,  0.07263201,\n",
       "        0.02034963,  0.07142563,  0.07566427,  0.08056985,  0.08740995,\n",
       "        0.07737448,  0.07343936,  0.06345709,  0.01480863,  0.05171742,\n",
       "        0.08121713])"
      ]
     },
     "execution_count": 112,
     "metadata": {},
     "output_type": "execute_result"
    }
   ],
   "source": [
    "randomForest.feature_importances_"
   ]
  },
  {
   "cell_type": "code",
   "execution_count": 113,
   "metadata": {
    "collapsed": false
   },
   "outputs": [
    {
     "data": {
      "text/plain": [
       "Index([u'Age', u'ERA', u'K', u'W', u'WHIP', u'method', u'previous_BB',\n",
       "       u'previous_BF', u'previous_ERA', u'previous_FIP', u'previous_H',\n",
       "       u'previous_IP', u'previous_K', u'previous_SV', u'previous_W',\n",
       "       u'previous_WHIP'],\n",
       "      dtype='object')"
      ]
     },
     "execution_count": 113,
     "metadata": {},
     "output_type": "execute_result"
    }
   ],
   "source": [
    "x_train.columns"
   ]
  },
  {
   "cell_type": "markdown",
   "metadata": {},
   "source": [
    "Apparently, the previous_WHIP feature is helpful in predicting WHIP, but other features such as ERA and K are slightly more significant for our predictions."
   ]
  },
  {
   "cell_type": "code",
   "execution_count": 159,
   "metadata": {
    "collapsed": false
   },
   "outputs": [],
   "source": [
    "#plt.scatter(x_train.iloc[:,-1], x_train.iloc[:,2], c=y_train, cmap=plt.cm.BuGn)"
   ]
  },
  {
   "cell_type": "markdown",
   "metadata": {},
   "source": [
    "### Gradient Boost/XGBoost"
   ]
  },
  {
   "cell_type": "markdown",
   "metadata": {
    "collapsed": true
   },
   "source": [
    "The random forests model is an improvement over logistic regression, but here we implement another method that will hopefully increase our accuracy rates. In this section, we will use an XGBoost classifer. Boosting can perform better than forests, because boosting finds the weakness (the loss of the previous tree) and then uses that information to create a better tree for the next tree in the forest. This creates a tree that is more correlated with the true classification than the previous tree. We decided to use XGBoost rather than gradient boost because gradient boosting does not have a regularization term and thus has a higher chance of over fitting."
   ]
  },
  {
   "cell_type": "code",
   "execution_count": null,
   "metadata": {
    "collapsed": true
   },
   "outputs": [],
   "source": [
    "### running a grid search cross validation on XGBoost for hitters to obtain the best parameters\n",
    "\n",
    "best_params = []\n",
    "\n",
    "for col in to_predict_hitters:\n",
    "    \n",
    "    y = hitter_predictions[col].tolist()\n",
    "    x_train, x_test, y_train, y_test = train_test_split(x_hitters, y)\n",
    "    \n",
    "    xgb_classifier = xgb()\n",
    "    parameters = {'max_depth': [3,5,9], 'learning_rate': [.1,.4], \"n_estimators\": [250,350], \\\n",
    "                'reg_lambda': [1,4]}\n",
    "    clf = GridSearchCV(xgb_classifier, parameters)\n",
    "    clf.fit(x_train, y_train)\n",
    "    best_params.append({col:clf.best_params_})"
   ]
  },
  {
   "cell_type": "code",
   "execution_count": 162,
   "metadata": {
    "collapsed": false
   },
   "outputs": [
    {
     "name": "stdout",
     "output_type": "stream",
     "text": [
      "overall average 0.844359093012\n",
      "correct_AVG     0.876862563628\n",
      "correct_HR      0.848218417399\n",
      "correct_R       0.840027764924\n",
      "correct_RBI     0.807727903748\n",
      "correct_SB      0.848958815363\n"
     ]
    }
   ],
   "source": [
    "# XGBoost implementation using the mode of the optimal parameters\n",
    "\n",
    "accuracy_list_xgboost_hitters = []\n",
    "accuracy_list_xgboost_hitters_AVG = []\n",
    "accuracy_list_xgboost_hitters_HR = []\n",
    "accuracy_list_xgboost_hitters_R = []\n",
    "accuracy_list_xgboost_hitters_RBI = []\n",
    "accuracy_list_xgboost_hitters_SB = []\n",
    "\n",
    "for i in xrange(10):\n",
    "    for col in to_predict_hitters:\n",
    "        y = hitter_predictions[col].tolist()\n",
    "        x_train, x_test, y_train, y_test = train_test_split(x_hitters, y)\n",
    "\n",
    "        xgb_classifier = xgb(n_estimators = 250, reg_lambda = 1, learning_rate = .1, max_depth = 9)\n",
    "        xgb_classifier.fit(x_train, y_train)\n",
    "        acc = metrics.accuracy_score(y_test, xgb_classifier.predict(x_test))\n",
    "        accuracy_list_xgboost_hitters.append(acc)\n",
    "        \n",
    "        if col == 'correct_AVG':\n",
    "            accuracy_list_xgboost_hitters_AVG.append(acc)\n",
    "        elif col == 'correct_HR':\n",
    "            accuracy_list_xgboost_hitters_HR.append(acc)\n",
    "        elif col == 'correct_R':\n",
    "            accuracy_list_xgboost_hitters_R.append(acc)\n",
    "        elif col == 'correct_RBI':\n",
    "            accuracy_list_xgboost_hitters_RBI.append(acc)\n",
    "        elif col == 'correct_SB':\n",
    "            accuracy_list_xgboost_hitters_SB.append(acc)\n",
    "\n",
    "print \"%-15s\" % 'overall average', np.mean(accuracy_list_xgboost_hitters)\n",
    "print \"%-15s\" % 'correct_AVG', np.mean(accuracy_list_xgboost_hitters_AVG)\n",
    "print \"%-15s\" % 'correct_HR', np.mean(accuracy_list_xgboost_hitters_HR)\n",
    "print \"%-15s\" % 'correct_R', np.mean(accuracy_list_xgboost_hitters_R)\n",
    "print \"%-15s\" % 'correct_RBI', np.mean(accuracy_list_xgboost_hitters_RBI)\n",
    "print \"%-15s\" % 'correct_SB', np.mean(accuracy_list_xgboost_hitters_SB)"
   ]
  },
  {
   "cell_type": "code",
   "execution_count": null,
   "metadata": {
    "collapsed": true
   },
   "outputs": [],
   "source": [
    "### running a grid search cross validation on XGBoost for pitchers to obtain the best parameters\n",
    "\n",
    "best_params = {}\n",
    "\n",
    "for col in to_predict_pitchers:\n",
    "    y = pitcher_predictions[col].tolist()\n",
    "    x_train, x_test, y_train, y_test = train_test_split(x_pitchers, y)\n",
    "    \n",
    "    xgb_classifier = xgb()\n",
    "    parameters = {'max_depth': [3,5,9], 'learning_rate': [.05,.1], \"n_estimators\": [250,350], \\\n",
    "                'reg_lambda': [1,3,6]}\n",
    "    clf = GridSearchCV(xgb_classifier, parameters)\n",
    "    clf.fit(x_train, y_train)\n",
    "    best_params[col] = clf.best_params_"
   ]
  },
  {
   "cell_type": "code",
   "execution_count": 163,
   "metadata": {
    "collapsed": false
   },
   "outputs": [
    {
     "name": "stdout",
     "output_type": "stream",
     "text": [
      "overall average 0.7625\n",
      "correct_ERA     0.859615384615\n",
      "correct_K       0.670384615385\n",
      "correct_W       0.736282051282\n",
      "correct_WHIP    0.783717948718\n"
     ]
    }
   ],
   "source": [
    "# XGBoost using mode of optimal parameters for our pitchers\n",
    "\n",
    "accuracy_list_xgboost_pitchers = []\n",
    "accuracy_list_xgboost_pitchers_ERA = []\n",
    "accuracy_list_xgboost_pitchers_K = []\n",
    "accuracy_list_xgboost_pitchers_W = []\n",
    "accuracy_list_xgboost_pitchers_WHIP = []\n",
    "\n",
    "for i in xrange(10):\n",
    "    for col in to_predict_pitchers:\n",
    "        y = pitcher_predictions[col].tolist()\n",
    "        x_train, x_test, y_train, y_test = train_test_split(x_pitchers, y)\n",
    "\n",
    "        xgb_classifier = xgb(n_estimators = 250, reg_lambda = 6, learning_rate = .05, max_depth = 3)\n",
    "        xgb_classifier.fit(x_train, y_train)\n",
    "        acc = metrics.accuracy_score(y_test, xgb_classifier.predict(x_test))\n",
    "        accuracy_list_xgboost_pitchers.append(acc)\n",
    "        \n",
    "        if col == 'correct_ERA':\n",
    "            accuracy_list_xgboost_pitchers_ERA.append(acc)\n",
    "        elif col == 'correct_K':\n",
    "            accuracy_list_xgboost_pitchers_K.append(acc)\n",
    "        elif col == 'correct_W':\n",
    "            accuracy_list_xgboost_pitchers_W.append(acc)\n",
    "        elif col == 'correct_WHIP':\n",
    "            accuracy_list_xgboost_pitchers_WHIP.append(acc)\n",
    "            \n",
    "\n",
    "print \"%-15s\" % 'overall average', np.mean(accuracy_list_xgboost_pitchers)\n",
    "print \"%-15s\" % 'correct_ERA', np.mean(accuracy_list_xgboost_pitchers_ERA)\n",
    "print \"%-15s\" % 'correct_K', np.mean(accuracy_list_xgboost_pitchers_K)\n",
    "print \"%-15s\" % 'correct_W', np.mean(accuracy_list_xgboost_pitchers_W)\n",
    "print \"%-15s\" % 'correct_WHIP', np.mean(accuracy_list_xgboost_pitchers_WHIP)"
   ]
  },
  {
   "cell_type": "code",
   "execution_count": null,
   "metadata": {
    "collapsed": true
   },
   "outputs": [],
   "source": []
  },
  {
   "cell_type": "markdown",
   "metadata": {},
   "source": [
    "### QDA"
   ]
  },
  {
   "cell_type": "markdown",
   "metadata": {},
   "source": [
    "Our expectation was for quadratic discriminant analysis (QDA) to better predict our variables because QDA has quadratic boundaries and is better suited for a wider range of problems than linear discriminant analysis.\n",
    "\n",
    "We observed that QDA was not as accurate for our predictions as was random forests.  We realized that QDA is one of the most common discriminant analysis methods used for classification and believed QDA would be a good fit for our classifications.  We ended up seeing approximately a 74% correct accuracy rate for hitter projections and 70.2% for pitcher projections.\n",
    "\n",
    "Observe that QDA is similar to LDA and both are implementations of GDA; we decided to use QDA as it is a generalization of LDA. We believe the variance of our tables to not be the same, and as such thought QDA would be a more appropriate classifier for our data."
   ]
  },
  {
   "cell_type": "code",
   "execution_count": 116,
   "metadata": {
    "collapsed": false
   },
   "outputs": [],
   "source": [
    "# finding optimal parameters for QDA\n",
    "\n",
    "best_params = []\n",
    "\n",
    "for col in to_predict_hitters:\n",
    "    y = hitter_predictions[col].tolist()\n",
    "    x_train, x_test, y_train, y_test = train_test_split(x_hitters, y)\n",
    "    \n",
    "    qda = QuadraticDiscriminantAnalysis()\n",
    "    parameters = {'priors':[None], 'reg_param':[0.0], 'store_covariances':[False],\\\n",
    "                  'tol':[0.0000001, 0.00001, 0.0001, 0.001, 0.01, 0.1]}\n",
    "    clf = GridSearchCV(qda, parameters)\n",
    "    clf.fit(x_train, y_train)\n",
    "    best_params.append({col:clf.best_params_})"
   ]
  },
  {
   "cell_type": "code",
   "execution_count": 117,
   "metadata": {
    "collapsed": false
   },
   "outputs": [
    {
     "name": "stdout",
     "output_type": "stream",
     "text": [
      "{'correct_AVG': {'priors': None, 'reg_param': 0.0, 'tol': 1e-07, 'store_covariances': False}}\n",
      "{'correct_HR': {'priors': None, 'reg_param': 0.0, 'tol': 1e-07, 'store_covariances': False}}\n",
      "{'correct_R': {'priors': None, 'reg_param': 0.0, 'tol': 1e-07, 'store_covariances': False}}\n",
      "{'correct_RBI': {'priors': None, 'reg_param': 0.0, 'tol': 1e-07, 'store_covariances': False}}\n",
      "{'correct_SB': {'priors': None, 'reg_param': 0.0, 'tol': 1e-07, 'store_covariances': False}}\n"
     ]
    }
   ],
   "source": [
    "for i in best_params:\n",
    "    print i"
   ]
  },
  {
   "cell_type": "code",
   "execution_count": 118,
   "metadata": {
    "collapsed": false,
    "scrolled": true
   },
   "outputs": [
    {
     "name": "stdout",
     "output_type": "stream",
     "text": [
      "overall average 0.74113836187\n",
      "correct_AVG     0.858815363258\n",
      "correct_HR      0.627718648774\n",
      "correct_R       0.808838500694\n",
      "correct_RBI     0.743081906525\n",
      "correct_SB      0.667237390097\n"
     ]
    }
   ],
   "source": [
    "# qda implementation using the mode of optimal parameters for hitters\n",
    "\n",
    "accuracy_list_qda_hitters = []\n",
    "accuracy_list_qda_hitters_AVG = []\n",
    "accuracy_list_qda_hitters_HR = []\n",
    "accuracy_list_qda_hitters_R = []\n",
    "accuracy_list_qda_hitters_RBI = []\n",
    "accuracy_list_qda_hitters_SB = []\n",
    "\n",
    "for i in xrange(10):\n",
    "    for col in to_predict_hitters:\n",
    "        y = hitter_predictions[col].tolist()\n",
    "        x_train, x_test, y_train, y_test = train_test_split(x_hitters, y)\n",
    "\n",
    "        qda = QuadraticDiscriminantAnalysis(tol=1e-7)\n",
    "        qda.fit(x_train, y_train)\n",
    "        acc = metrics.accuracy_score(qda.predict(x_test), y_test)\n",
    "        accuracy_list_qda_hitters.append(acc)\n",
    "        \n",
    "        if col == 'correct_AVG':\n",
    "            accuracy_list_qda_hitters_AVG.append(acc)\n",
    "        elif col == 'correct_HR':\n",
    "            accuracy_list_qda_hitters_HR.append(acc)\n",
    "        elif col == 'correct_R':\n",
    "            accuracy_list_qda_hitters_R.append(acc)\n",
    "        elif col == 'correct_RBI':\n",
    "            accuracy_list_qda_hitters_RBI.append(acc)\n",
    "        elif col == 'correct_SB':\n",
    "            accuracy_list_qda_hitters_SB.append(acc)\n",
    "\n",
    "print \"%-15s\" % 'overall average', np.mean(accuracy_list_qda_hitters)\n",
    "print \"%-15s\" % 'correct_AVG', np.mean(accuracy_list_qda_hitters_AVG)\n",
    "print \"%-15s\" % 'correct_HR', np.mean(accuracy_list_qda_hitters_HR)\n",
    "print \"%-15s\" % 'correct_R', np.mean(accuracy_list_qda_hitters_R)\n",
    "print \"%-15s\" % 'correct_RBI', np.mean(accuracy_list_qda_hitters_RBI)\n",
    "print \"%-15s\" % 'correct_SB', np.mean(accuracy_list_qda_hitters_SB)"
   ]
  },
  {
   "cell_type": "code",
   "execution_count": 119,
   "metadata": {
    "collapsed": false
   },
   "outputs": [],
   "source": [
    "# finding best qda parameters for our pitchers\n",
    "\n",
    "best_params = []\n",
    "\n",
    "for col in to_predict_pitchers:\n",
    "    y = pitcher_predictions[col].tolist()\n",
    "    x_train, x_test, y_train, y_test = train_test_split(x_pitchers, y)\n",
    "    \n",
    "    qda = QuadraticDiscriminantAnalysis()\n",
    "    parameters = {'priors':[None], 'reg_param':[0.0], 'store_covariances':[False],\\\n",
    "                  'tol':[0, 0.0000001, 0.00001, 0.0001, 0.001, 0.01, 0.1]}\n",
    "    clf = GridSearchCV(qda, parameters)\n",
    "    clf.fit(x_train, y_train)\n",
    "    best_params.append({col:clf.best_params_})"
   ]
  },
  {
   "cell_type": "code",
   "execution_count": 120,
   "metadata": {
    "collapsed": false
   },
   "outputs": [
    {
     "name": "stdout",
     "output_type": "stream",
     "text": [
      "{'correct_ERA': {'priors': None, 'reg_param': 0.0, 'tol': 0, 'store_covariances': False}}\n",
      "{'correct_K': {'priors': None, 'reg_param': 0.0, 'tol': 0, 'store_covariances': False}}\n",
      "{'correct_W': {'priors': None, 'reg_param': 0.0, 'tol': 0, 'store_covariances': False}}\n",
      "{'correct_WHIP': {'priors': None, 'reg_param': 0.0, 'tol': 0, 'store_covariances': False}}\n"
     ]
    }
   ],
   "source": [
    "for i in best_params:\n",
    "    print i"
   ]
  },
  {
   "cell_type": "code",
   "execution_count": 121,
   "metadata": {
    "collapsed": false,
    "scrolled": true
   },
   "outputs": [
    {
     "name": "stdout",
     "output_type": "stream",
     "text": [
      "overall average 0.70125\n",
      "correct_ERA     0.792179487179\n",
      "correct_K       0.642692307692\n",
      "correct_W       0.653717948718\n",
      "correct_WHIP    0.71641025641\n"
     ]
    }
   ],
   "source": [
    "# implementing qda using mode of optimal parameters for our pitchers\n",
    "\n",
    "accuracy_list_qda_pitchers = []\n",
    "accuracy_list_qda_pitchers_ERA = []\n",
    "accuracy_list_qda_pitchers_K = []\n",
    "accuracy_list_qda_pitchers_W = []\n",
    "accuracy_list_qda_pitchers_WHIP = []\n",
    "\n",
    "for i in xrange(10):\n",
    "    for col in to_predict_pitchers:\n",
    "        y = pitcher_predictions[col].tolist()\n",
    "        x_train, x_test, y_train, y_test = train_test_split(x_pitchers, y)\n",
    "\n",
    "        qda = QuadraticDiscriminantAnalysis(tol=1e-7)\n",
    "        qda.fit(x_train, y_train)\n",
    "        acc = metrics.accuracy_score(qda.predict(x_test), y_test)\n",
    "        accuracy_list_qda_pitchers.append(acc)\n",
    "        \n",
    "        if col == 'correct_ERA':\n",
    "            accuracy_list_qda_pitchers_ERA.append(acc)\n",
    "        elif col == 'correct_K':\n",
    "            accuracy_list_qda_pitchers_K.append(acc)\n",
    "        elif col == 'correct_W':\n",
    "            accuracy_list_qda_pitchers_W.append(acc)\n",
    "        elif col == 'correct_WHIP':\n",
    "            accuracy_list_qda_pitchers_WHIP.append(acc)\n",
    "\n",
    "print \"%-15s\" % 'overall average', np.mean(accuracy_list_qda_pitchers)\n",
    "print \"%-15s\" % 'correct_ERA', np.mean(accuracy_list_qda_pitchers_ERA)\n",
    "print \"%-15s\" % 'correct_K', np.mean(accuracy_list_qda_pitchers_K)\n",
    "print \"%-15s\" % 'correct_W', np.mean(accuracy_list_qda_pitchers_W)\n",
    "print \"%-15s\" % 'correct_WHIP', np.mean(accuracy_list_qda_pitchers_WHIP)"
   ]
  },
  {
   "cell_type": "markdown",
   "metadata": {},
   "source": [
    "### SVM"
   ]
  },
  {
   "cell_type": "markdown",
   "metadata": {
    "collapsed": true
   },
   "source": [
    "Support vector classification allows us to utilize the kernel trick to transform our data so it is separable (though that may be in another dimension). We liked the idea of using SVM because it performs complex transformations of the data on its own, so we don't have to discover those relationships on our own to take advantage of them.\n",
    "\n",
    "talk about results----------------\n",
    "\n",
    "poly was worse for hitters, 50% for pitchers"
   ]
  },
  {
   "cell_type": "code",
   "execution_count": null,
   "metadata": {
    "collapsed": true
   },
   "outputs": [],
   "source": [
    "# create lists of parameters to search through\n",
    "c = [10**i for i in np.arange(-3,3)]\n",
    "gamma = c\n",
    "poly_coeff0 = [10**i for i in np.arange(0,3)]"
   ]
  },
  {
   "cell_type": "code",
   "execution_count": null,
   "metadata": {
    "collapsed": true
   },
   "outputs": [],
   "source": [
    "# finding optimal parameters for svm\n",
    "\n",
    "best_params = []\n",
    "\n",
    "# preprocess the x values\n",
    "x_hitters = preprocessing.scale(x_hitters)\n",
    "\n",
    "for col in to_predict_hitters:\n",
    "    y = hitter_predictions[col].tolist()\n",
    "    x_train, x_test, y_train, y_test = train_test_split(x_hitters, y)\n",
    "    \n",
    "    svr = svm.SVC()\n",
    "    \n",
    "    parameters = {'kernel':['rbf'], 'gamma': gamma,'coef0': poly_coeff0}\n",
    "    clf = GridSearchCV(svr, parameters)\n",
    "    clf.fit(x_train, y_train)\n",
    "    best_params.append({col:clf.best_params_})"
   ]
  },
  {
   "cell_type": "code",
   "execution_count": null,
   "metadata": {
    "collapsed": true
   },
   "outputs": [],
   "source": [
    "for i in best_params:\n",
    "    print i"
   ]
  },
  {
   "cell_type": "code",
   "execution_count": null,
   "metadata": {
    "collapsed": true
   },
   "outputs": [],
   "source": [
    "# svr implementation using the mode of optimal parameters for hitters\n",
    "\n",
    "accuracy_list_svr_hitters = []\n",
    "accuracy_list_svr_hitters_AVG = []\n",
    "accuracy_list_svr_hitters_HR = []\n",
    "accuracy_list_svr_hitters_R = []\n",
    "accuracy_list_svr_hitters_RBI = []\n",
    "accuracy_list_svr_hitters_SB = []\n",
    "\n",
    "for i in xrange(10):\n",
    "    for col in to_predict_hitters:\n",
    "        y = hitter_predictions[col].tolist()\n",
    "        x_train, x_test, y_train, y_test = train_test_split(x_hitters, y)\n",
    "\n",
    "        svr = svm.SVC(kernel='rbf', coef0=1., gamma=1.)\n",
    "        svr.fit(x_train, y_train)\n",
    "        acc = metrics.accuracy_score(svr.predict(x_test), y_test)\n",
    "        accuracy_list_svr_hitters.append(acc)\n",
    "        \n",
    "        if col == 'correct_AVG':\n",
    "            accuracy_list_svr_hitters_AVG.append(acc)\n",
    "        elif col == 'correct_HR':\n",
    "            accuracy_list_svr_hitters_HR.append(acc)\n",
    "        elif col == 'correct_R':\n",
    "            accuracy_list_svr_hitters_R.append(acc)\n",
    "        elif col == 'correct_RBI':\n",
    "            accuracy_list_svr_hitters_RBI.append(acc)\n",
    "        elif col == 'correct_SB':\n",
    "            accuracy_list_svr_hitters_SB.append(acc)\n",
    "\n",
    "print \"%-15s\" % 'overall average', np.mean(accuracy_list_svr_hitters)\n",
    "print \"%-15s\" % 'correct_AVG', np.mean(accuracy_list_svr_hitters_AVG)\n",
    "print \"%-15s\" % 'correct_HR', np.mean(accuracy_list_svr_hitters_HR)\n",
    "print \"%-15s\" % 'correct_R', np.mean(accuracy_list_svr_hitters_R)\n",
    "print \"%-15s\" % 'correct_RBI', np.mean(accuracy_list_svr_hitters_RBI)\n",
    "print \"%-15s\" % 'correct_SB', np.mean(accuracy_list_svr_hitters_SB)"
   ]
  },
  {
   "cell_type": "code",
   "execution_count": null,
   "metadata": {
    "collapsed": true
   },
   "outputs": [],
   "source": [
    "# svm pitchers\n",
    "# finding best svm parameters for our pitchers\n",
    "\n",
    "best_params = []\n",
    "\n",
    "for col in to_predict_pitchers:\n",
    "    y = pitcher_predictions[col].tolist()\n",
    "    x_train, x_test, y_train, y_test = train_test_split(x_pitchers, y)\n",
    "    \n",
    "    svr = svm.SVC()\n",
    "    \n",
    "    parameters = {'kernel':['rbf'], 'gamma': gamma,'coef0': poly_coeff0}\n",
    "    clf = GridSearchCV(svr, parameters)\n",
    "    clf.fit(x_train, y_train)\n",
    "    best_params.append({col:clf.best_params_})"
   ]
  },
  {
   "cell_type": "code",
   "execution_count": null,
   "metadata": {
    "collapsed": true
   },
   "outputs": [],
   "source": [
    "for i in best_params:\n",
    "    print i"
   ]
  },
  {
   "cell_type": "code",
   "execution_count": null,
   "metadata": {
    "collapsed": true
   },
   "outputs": [],
   "source": [
    "# implementing svr using mode of optimal parameters for our pitchers\n",
    "\n",
    "accuracy_list_svr_pitchers = []\n",
    "accuracy_list_svr_pitchers_ERA = []\n",
    "accuracy_list_svr_pitchers_K = []\n",
    "accuracy_list_svr_pitchers_W = []\n",
    "accuracy_list_svr_pitchers_WHIP = []\n",
    "\n",
    "for i in xrange(10):\n",
    "    for col in to_predict_pitchers:\n",
    "        y = pitcher_predictions[col].tolist()\n",
    "        x_train, x_test, y_train, y_test = train_test_split(x_pitchers, y)\n",
    "\n",
    "        svr = svm.SVC(kernel='rbf', coef0=1.0, gamma=0.01)\n",
    "        svr.fit(x_train, y_train)\n",
    "        acc = metrics.accuracy_score(svr.predict(x_test), y_test)\n",
    "        accuracy_list_svr_pitchers.append(acc)\n",
    "        \n",
    "        if col == 'correct_ERA':\n",
    "            accuracy_list_svr_pitchers_ERA.append(acc)\n",
    "        elif col == 'correct_K':\n",
    "            accuracy_list_svr_pitchers_K.append(acc)\n",
    "        elif col == 'correct_W':\n",
    "            accuracy_list_svr_pitchers_W.append(acc)\n",
    "        elif col == 'correct_WHIP':\n",
    "            accuracy_list_svr_pitchers_WHIP.append(acc)\n",
    "\n",
    "print \"%-15s\" % 'overall average', np.mean(accuracy_list_svr_pitchers)\n",
    "print \"%-15s\" % 'correct_ERA', np.mean(accuracy_list_svr_pitchers_ERA)\n",
    "print \"%-15s\" % 'correct_K', np.mean(accuracy_list_svr_pitchers_K)\n",
    "print \"%-15s\" % 'correct_W', np.mean(accuracy_list_svr_pitchers_W)\n",
    "print \"%-15s\" % 'correct_WHIP', np.mean(accuracy_list_svr_pitchers_WHIP)"
   ]
  },
  {
   "cell_type": "code",
   "execution_count": null,
   "metadata": {
    "collapsed": true
   },
   "outputs": [],
   "source": []
  },
  {
   "cell_type": "code",
   "execution_count": null,
   "metadata": {
    "collapsed": true
   },
   "outputs": [],
   "source": []
  },
  {
   "cell_type": "code",
   "execution_count": null,
   "metadata": {
    "collapsed": true
   },
   "outputs": [],
   "source": []
  },
  {
   "cell_type": "markdown",
   "metadata": {},
   "source": [
    "### Conclusion"
   ]
  },
  {
   "cell_type": "markdown",
   "metadata": {},
   "source": [
    "We have already discussed each method individually and their pros/cons in relation to other methods. Here we have a summary table that contains every statistc and the classification method that had the highest average accuracy rate for that statistic. The parenthetical is the average accuracy rate over 10 trials, where each trial is a new test train split. \n",
    "\n",
    "| HR    |RBI    | SB               |   AVG            |  R     |  ERA        |  K         |WHIP        |W    |\n",
    "|:-----:|:-----:|:-------:|:------:|:---:|:---:|:---:|:---:|:---:|\n",
    "|XGBoost ()|XGBoost ()|XGBoost ()| Random Forests ()|XGBoost ()| XGBoost () |Random Forests () | XGBoost ()|Random Forests () |\n",
    "\n",
    "This table provides a couple of important take-aways:\n",
    "- Our accuracy for classifying the hitter projections is on average 5-10% better than classifying pitcher statistics. \n",
    "- Clearly, XGBoost and Random Forests are the two most accurate classifiers, but there is not 1 clear winner. For many of these statistics the difference in accuracy between XGBoost and Random Forests was within 1%. In general XGBoost performs better, but depending on the statistic we will chose between these two methods.\n",
    "\n",
    "Lastly, Our accuracy rates are still not as high as we would like, but it is still much better than just assuming a given prediction of a statistic is correct. For example, Marcel correctly predicts RBI's 55% of the time. Which means if you use their predictions you will be using wrong predictions 45% of the time. However, based on our model we have an accuracy rating of X% for RBI's."
   ]
  },
  {
   "cell_type": "code",
   "execution_count": null,
   "metadata": {
    "collapsed": true
   },
   "outputs": [],
   "source": []
  }
 ],
 "metadata": {
  "kernelspec": {
   "display_name": "Python 2",
   "language": "python",
   "name": "python2"
  },
  "language_info": {
   "codemirror_mode": {
    "name": "ipython",
    "version": 2
   },
   "file_extension": ".py",
   "mimetype": "text/x-python",
   "name": "python",
   "nbconvert_exporter": "python",
   "pygments_lexer": "ipython2",
   "version": "2.7.12"
  }
 },
 "nbformat": 4,
 "nbformat_minor": 0
}
