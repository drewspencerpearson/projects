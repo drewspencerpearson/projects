{
 "cells": [
  {
   "cell_type": "code",
   "execution_count": null,
   "metadata": {
    "collapsed": true
   },
   "outputs": [],
   "source": []
  },
  {
   "cell_type": "markdown",
   "metadata": {},
   "source": [
    "# Scraping/Cleaning Hitter & Pitcher Statistics\n",
    "\n",
    "2010-2016\n",
    "\n",
    "Hitters: Player, R, HR, RBI, SB, AVG, Season/year, AB\n",
    "\n",
    "Pitchers: Name, K, W, sv, era, whip, season, IP"
   ]
  },
  {
   "cell_type": "code",
   "execution_count": 172,
   "metadata": {
    "collapsed": true
   },
   "outputs": [],
   "source": [
    "import pandas as pd\n",
    "import re"
   ]
  },
  {
   "cell_type": "markdown",
   "metadata": {},
   "source": [
    "We will first create a pandas DataFrame that holds the following batting statistics for players for the 2010 through 2016 seasons:\n",
    "- Player Name\n",
    "- Runs (R)\n",
    "- Homeruns (HR)\n",
    "- Runs Batted In (RBI)\n",
    "- Stolen Bases (SB)\n",
    "- Batting Average (AVG)\n",
    "- Season/Year\n",
    "- At Bats (AB)"
   ]
  },
  {
   "cell_type": "code",
   "execution_count": 187,
   "metadata": {
    "collapsed": false
   },
   "outputs": [],
   "source": [
    "# ================================== CREATE DATAFRAME OF ALL HITTER INFORMATION =====================================\n",
    "\n",
    "# empty list to append to for each year of information\n",
    "hittersDF = []\n",
    "# list of years to loop through\n",
    "year_list = [2016, 2015, 2014, 2013, 2012, 2011, 2010]\n",
    "for year in year_list:\n",
    "    # open the file PlayerData/2016Hitters (or whatever year)\n",
    "    with open('PlayerData/' + str(year)+'Hitters') as inFile:\n",
    "        # convert csv file to pandas DataFrame\n",
    "        DF2016 = pd.read_csv(inFile)\n",
    "        # create year column\n",
    "        DF2016[\"Year\"] = year\n",
    "        # append to master list\n",
    "        hittersDF.append(DF2016)\n",
    "#concatenate master list into pandas DataFrame\n",
    "hittersDF = pd.concat(hittersDF)\n",
    "\n",
    "# remove all except columns of interest for our particular project (files have more stats than we are interested in)\n",
    "hittersDF = hittersDF[[\"Name\", \"Tm\", \"R\", \"HR\", \"RBI\", \"SB\", \"BA\", \"AB\", \"Pos Summary\", \"Year\"]]"
   ]
  },
  {
   "cell_type": "markdown",
   "metadata": {
    "collapsed": false
   },
   "source": [
    "### TO DO FOR HITTING DATA"
   ]
  },
  {
   "cell_type": "code",
   "execution_count": 188,
   "metadata": {
    "collapsed": false
   },
   "outputs": [],
   "source": [
    "# need to drop pitchers from this - position == 1 (or has a 1 in it), need to use regex\n",
    "# be careful of symbols/etc. - see baseball-reference glossary for terms\n",
    "# what to do about NaNs?\n",
    "# problem that index values are repeating?\n",
    "# change datatypes\n"
   ]
  },
  {
   "cell_type": "code",
   "execution_count": 189,
   "metadata": {
    "collapsed": true
   },
   "outputs": [],
   "source": [
    "# replace names with corrected version by removing the unnecessary portions that appear in the DF above\n",
    "hittersDF['Name'] = hittersDF['Name'].str.replace(r'[*|\\\\|#|\\+].*', '')\n",
    "# change all letters in names to lower case\n",
    "def lowercase(mystring):\n",
    "    return str.lower(mystring)\n",
    "hittersDF[\"Name\"] = hittersDF[\"Name\"].apply(lowercase)"
   ]
  },
  {
   "cell_type": "code",
   "execution_count": null,
   "metadata": {
    "collapsed": false
   },
   "outputs": [],
   "source": []
  },
  {
   "cell_type": "code",
   "execution_count": null,
   "metadata": {
    "collapsed": true
   },
   "outputs": [],
   "source": []
  },
  {
   "cell_type": "code",
   "execution_count": 190,
   "metadata": {
    "collapsed": false
   },
   "outputs": [],
   "source": [
    "# some names are duplicated because there is an entry for every team (if they were traded)\n",
    "# the first entry is their total, so we wish to keep that\n",
    "# drop duplicates based on name column - default is to keep first occurence, which is the one we want (total)\n",
    "for yr in year_list:\n",
    "    hittersDF[hittersDF[\"Year\"] == yr] = hittersDF[hittersDF[\"Year\"] == yr].drop_duplicates('Name')"
   ]
  },
  {
   "cell_type": "code",
   "execution_count": 191,
   "metadata": {
    "collapsed": false
   },
   "outputs": [],
   "source": [
    "# change positions datatype from object to string\n",
    "hittersDF[\"Pos Summary\"] = hittersDF[\"Pos Summary\"].astype(str)"
   ]
  },
  {
   "cell_type": "code",
   "execution_count": 192,
   "metadata": {
    "collapsed": false
   },
   "outputs": [],
   "source": [
    "# drop players with position = '1' (pitchers)\n",
    "hittersDF = hittersDF[(hittersDF[\"Pos Summary\"] != \"1\") & (hittersDF[\"Pos Summary\"] != \"/1\")]\n",
    "hittersDF = hittersDF.dropna(subset = [\"Name\"], axis=0)"
   ]
  },
  {
   "cell_type": "code",
   "execution_count": 193,
   "metadata": {
    "collapsed": false
   },
   "outputs": [],
   "source": [
    "hittersDF = hittersDF[(hittersDF[\"AB\"] > 200)]\n",
    "hittersDF = hittersDF.drop(\"Tm\", axis=1)"
   ]
  },
  {
   "cell_type": "code",
   "execution_count": 198,
   "metadata": {
    "collapsed": false
   },
   "outputs": [
    {
     "data": {
      "text/plain": [
       "Name           0\n",
       "R              0\n",
       "HR             0\n",
       "RBI            0\n",
       "SB             0\n",
       "BA             0\n",
       "AB             0\n",
       "Pos Summary    0\n",
       "Year           0\n",
       "dtype: int64"
      ]
     },
     "execution_count": 198,
     "metadata": {},
     "output_type": "execute_result"
    }
   ],
   "source": [
    "# no null values\n",
    "hittersDF.isnull().sum()"
   ]
  },
  {
   "cell_type": "markdown",
   "metadata": {},
   "source": [
    "We now create a pandas DataFrame that holds the following pitching statistics for players (pitchers only) for the 2010 through 2016 seasons:\n",
    "- Player Name\n",
    "- Strikeouts (K)\n",
    "- Wins (W)\n",
    "- Saves (SV)\n",
    "- Earned Run Average (ERA)\n",
    "- Walks plus Hits per Inning Pitched (WHIP)\n",
    "- Season/Year\n",
    "- Innings Pitched (IP)"
   ]
  },
  {
   "cell_type": "code",
   "execution_count": 204,
   "metadata": {
    "collapsed": false
   },
   "outputs": [],
   "source": [
    "# ================================== CREATE DATAFRAME OF ALL PITCHER INFORMATION =====================================\n",
    "\n",
    "# empty list to append to for each year of information\n",
    "pitchersDF = []\n",
    "# loop through years of interest\n",
    "for year in year_list:\n",
    "    # open the file PlayerData/2016Pitchers (or whatever year)\n",
    "    with open('PlayerData/'+str(year)+'Pitchers') as inFile:\n",
    "        # convert csv file to pandas DataFrame\n",
    "        DF2016 = pd.read_csv(inFile)\n",
    "        # create year column\n",
    "        DF2016[\"Year\"] = year\n",
    "        # append to master list\n",
    "        pitchersDF.append(DF2016)\n",
    "#concatenate master list into pandas DataFrame\n",
    "pitchersDF = pd.concat(pitchersDF)\n",
    "# remove all except columns of interest for our particular project (files have more stats than we are interested in)\n",
    "pitchersDF = pitchersDF[[\"Name\", \"Tm\", \"Year\", \"SO\", \"W\", \"SV\", \"ERA\", \"WHIP\", \"IP\"]]"
   ]
  },
  {
   "cell_type": "markdown",
   "metadata": {},
   "source": [
    "### TO DO FOR PITCHING DATA"
   ]
  },
  {
   "cell_type": "code",
   "execution_count": 205,
   "metadata": {
    "collapsed": false
   },
   "outputs": [],
   "source": [
    "# what to do about NaNs?\n",
    "# problem that index values are repeating?\n",
    "# data types"
   ]
  },
  {
   "cell_type": "code",
   "execution_count": 206,
   "metadata": {
    "collapsed": false
   },
   "outputs": [],
   "source": [
    "# replace names with corrected version by removing the unnecessary portions that appear in the DF above\n",
    "pitchersDF['Name'] = pitchersDF['Name'].str.replace(r'[*|\\\\|#|\\+].*', '')"
   ]
  },
  {
   "cell_type": "code",
   "execution_count": 208,
   "metadata": {
    "collapsed": false
   },
   "outputs": [],
   "source": [
    "pitchersDF[\"Name\"] = pitchersDF[\"Name\"].apply(lowercase)"
   ]
  },
  {
   "cell_type": "code",
   "execution_count": null,
   "metadata": {
    "collapsed": false
   },
   "outputs": [],
   "source": []
  },
  {
   "cell_type": "code",
   "execution_count": 209,
   "metadata": {
    "collapsed": true
   },
   "outputs": [],
   "source": [
    "# some names are duplicated because there is an entry for every team (if they were traded)\n",
    "# the first entry is their total, so we wish to keep that\n",
    "# drop duplicates based on name column - default is to keep first occurence, which is the one we want (total)\n",
    "for yr in year_list:\n",
    "    pitchersDF[pitchersDF[\"Year\"] == yr] = pitchersDF[pitchersDF[\"Year\"] == yr].drop_duplicates('Name')\n",
    "pitchersDF = pitchersDF.dropna(subset = [\"Name\"], axis=0)"
   ]
  },
  {
   "cell_type": "code",
   "execution_count": 210,
   "metadata": {
    "collapsed": false
   },
   "outputs": [],
   "source": [
    "pitchersDF = pitchersDF.drop(\"Tm\", axis=1)"
   ]
  },
  {
   "cell_type": "code",
   "execution_count": 221,
   "metadata": {
    "collapsed": false
   },
   "outputs": [],
   "source": [
    "# drop rows where pitcher ERA is infinite because they have 0 innings pitched\n",
    "\n",
    "# Dropped rows where pitcher had no stats recorded for the year\n",
    "pitchersDF = pitchersDF[pitchersDF.ERA.notnull()]\n",
    "pitchersDF = pitchersDF[pitchersDF.WHIP.notnull()]"
   ]
  },
  {
   "cell_type": "code",
   "execution_count": 223,
   "metadata": {
    "collapsed": false
   },
   "outputs": [
    {
     "data": {
      "text/plain": [
       "Name    0\n",
       "Year    0\n",
       "SO      0\n",
       "W       0\n",
       "SV      0\n",
       "ERA     0\n",
       "WHIP    0\n",
       "IP      0\n",
       "dtype: int64"
      ]
     },
     "execution_count": 223,
     "metadata": {},
     "output_type": "execute_result"
    }
   ],
   "source": [
    "pitchersDF.isnull().sum()"
   ]
  },
  {
   "cell_type": "code",
   "execution_count": 1,
   "metadata": {
    "collapsed": false
   },
   "outputs": [
    {
     "ename": "NameError",
     "evalue": "name 'pitchersDF' is not defined",
     "output_type": "error",
     "traceback": [
      "\u001b[0;31m---------------------------------------------------------------------------\u001b[0m",
      "\u001b[0;31mNameError\u001b[0m                                 Traceback (most recent call last)",
      "\u001b[0;32m<ipython-input-1-8eaef999f8ad>\u001b[0m in \u001b[0;36m<module>\u001b[0;34m()\u001b[0m\n\u001b[0;32m----> 1\u001b[0;31m \u001b[0mpitchersDF\u001b[0m \u001b[0;34m=\u001b[0m \u001b[0mpitchersDF\u001b[0m\u001b[0;34m[\u001b[0m\u001b[0mpitchersDF\u001b[0m\u001b[0;34m[\u001b[0m\u001b[0;34m\"IP\"\u001b[0m\u001b[0;34m]\u001b[0m \u001b[0;34m>\u001b[0m \u001b[0;36m25\u001b[0m\u001b[0;34m]\u001b[0m\u001b[0;34m\u001b[0m\u001b[0m\n\u001b[0m",
      "\u001b[0;31mNameError\u001b[0m: name 'pitchersDF' is not defined"
     ]
    }
   ],
   "source": [
    "pitchersDF = pitchersDF[pitchersDF[\"IP\"] > 25]"
   ]
  },
  {
   "cell_type": "code",
   "execution_count": null,
   "metadata": {
    "collapsed": false
   },
   "outputs": [],
   "source": []
  },
  {
   "cell_type": "code",
   "execution_count": null,
   "metadata": {
    "collapsed": false
   },
   "outputs": [],
   "source": []
  },
  {
   "cell_type": "markdown",
   "metadata": {
    "collapsed": true
   },
   "source": []
  },
  {
   "cell_type": "markdown",
   "metadata": {},
   "source": [
    "# DREW"
   ]
  },
  {
   "cell_type": "markdown",
   "metadata": {},
   "source": [
    "# JAKE"
   ]
  },
  {
   "cell_type": "code",
   "execution_count": null,
   "metadata": {
    "collapsed": true
   },
   "outputs": [],
   "source": []
  }
 ],
 "metadata": {
  "kernelspec": {
   "display_name": "Python 2",
   "language": "python",
   "name": "python2"
  },
  "language_info": {
   "codemirror_mode": {
    "name": "ipython",
    "version": 2
   },
   "file_extension": ".py",
   "mimetype": "text/x-python",
   "name": "python",
   "nbconvert_exporter": "python",
   "pygments_lexer": "ipython2",
   "version": "2.7.12"
  }
 },
 "nbformat": 4,
 "nbformat_minor": 0
}
