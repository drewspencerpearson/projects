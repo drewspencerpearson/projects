{
 "cells": [
  {
   "cell_type": "markdown",
   "metadata": {},
   "source": [
    "# Random Forest Implementation\n",
    "*Allyson Tom,  Jacob Adams, Drew Pearson*"
   ]
  },
  {
   "cell_type": "code",
   "execution_count": 2,
   "metadata": {
    "collapsed": false
   },
   "outputs": [],
   "source": [
    "import pandas as pd\n",
    "import re\n",
    "import numpy as np\n",
    "import os\n",
    "from matplotlib import pyplot as plt\n",
    "from __future__ import division\n",
    "import seaborn as sns\n",
    "\n",
    "%matplotlib inline"
   ]
  },
  {
   "cell_type": "code",
   "execution_count": 2,
   "metadata": {
    "collapsed": false
   },
   "outputs": [],
   "source": [
    "hittersDF = pd.read_csv('./CSV_files/cleanCSV/hittersDF.csv')\n",
    "pitchersDF = pd.read_csv('./CSV_files/cleanCSV/pitchersDF.csv')\n",
    "espn_hitters = pd.read_csv('./CSV_files/cleanCSV/espn_hitters.csv')\n",
    "espn_pitchers = pd.read_csv('./CSV_files/cleanCSV/espn_pitchers.csv')\n",
    "fangraphs_hitters = pd.read_csv('./CSV_files/cleanCSV/fangraphs_hitters.csv')\n",
    "fangraphs_pitchers = pd.read_csv('./CSV_files/cleanCSV/fangraphs_pitchers.csv')\n",
    "guru_hitters = pd.read_csv('./CSV_files/cleanCSV/guru_hitters.csv')\n",
    "guru_pitchers = pd.read_csv('./CSV_files/cleanCSV/guru_pitchers.csv')\n",
    "marcel_hitters = pd.read_csv('./CSV_files/cleanCSV/marcel_hitters.csv')\n",
    "marcel_pitchers = pd.read_csv('./CSV_files/cleanCSV/marcel_pitchers.csv')\n",
    "cbs_hitters = pd.read_csv('./CSV_files/cleanCSV/cbs_hitters.csv')\n",
    "cbs_pitchers = pd.read_csv('./CSV_files/cleanCSV/cbs_pitchers.csv')\n",
    "steamer_hitters = pd.read_csv('./CSV_files/cleanCSV/steamer_hitters.csv')\n",
    "steamer_pitchers = pd.read_csv('./CSV_files/cleanCSV/steamer_pitchers.csv')\n",
    "hitter_predictions = pd.read_csv('./CSV_files/cleanCSV/hitter_predictions.csv')\n",
    "pitcher_predictions = pd.read_csv('./CSV_files/cleanCSV/pitcher_predictions.csv')\n",
    "x_hitters = pd.read_csv('./CSV_files/cleanCSV/x_hitters.csv')\n",
    "x_pitchers = pd.read_csv('./CSV_files/cleanCSV/x_pitchers.csv')\n",
    "\n",
    "to_predict_hitters = ['correct_AVG', 'correct_HR', 'correct_R', 'correct_RBI', 'correct_SB']\n",
    "to_predict_pitchers = ['correct_ERA', 'correct_K', 'correct_W', 'correct_WHIP']"
   ]
  },
  {
   "cell_type": "code",
   "execution_count": 3,
   "metadata": {
    "collapsed": false
   },
   "outputs": [],
   "source": [
    "from matplotlib import pyplot as plt\n",
    "%matplotlib inline\n",
    "from operator import truediv"
   ]
  },
  {
   "cell_type": "code",
   "execution_count": 19,
   "metadata": {
    "collapsed": false
   },
   "outputs": [],
   "source": [
    "from sklearn.model_selection import train_test_split\n",
    "from sklearn import linear_model\n",
    "from sklearn import metrics\n",
    "from sklearn.model_selection import GridSearchCV\n",
    "from sklearn.ensemble import RandomForestClassifier\n",
    "from sklearn.naive_bayes import GaussianNB\n",
    "from sklearn.discriminant_analysis import QuadraticDiscriminantAnalysis\n",
    "from sklearn import svm\n",
    "from sklearn import preprocessing\n",
    "from xgboost import XGBClassifier as xgb\n",
    "from sklearn.linear_model import PassiveAggressiveClassifier\n",
    "from sklearn.ensemble import VotingClassifier\n",
    "from sklearn.model_selection import cross_val_score"
   ]
  },
  {
   "cell_type": "code",
   "execution_count": 20,
   "metadata": {
    "collapsed": true
   },
   "outputs": [],
   "source": [
    "def accuracy_lists_hitters(method):\n",
    "    # create a set of lists that will store accuracies\n",
    "\n",
    "    accuracy_list = []\n",
    "    accuracy_list_AVG = []\n",
    "    accuracy_list_HR = []\n",
    "    accuracy_list_R = []\n",
    "    accuracy_list_RBI = []\n",
    "    accuracy_list_SB = []\n",
    "\n",
    "    for i in xrange(10):\n",
    "        j=0\n",
    "        for col in to_predict_hitters:\n",
    "            y = hitter_predictions[col].tolist()\n",
    "            x_train, x_test, y_train, y_test = train_test_split(x_hitters, y)\n",
    "\n",
    "            chosen_method = method(**best_params[j][col])\n",
    "            chosen_method.fit(x_train, y_train)\n",
    "            acc = metrics.accuracy_score(y_test, chosen_method.predict(x_test))\n",
    "            accuracy_list.append(acc)\n",
    "\n",
    "            if col == 'correct_AVG':\n",
    "                accuracy_list_AVG.append(acc)\n",
    "            elif col == 'correct_HR':\n",
    "                accuracy_list_HR.append(acc)\n",
    "            elif col == 'correct_R':\n",
    "                accuracy_list_R.append(acc)\n",
    "            elif col == 'correct_RBI':\n",
    "                accuracy_list_RBI.append(acc)\n",
    "            elif col == 'correct_SB':\n",
    "                accuracy_list_SB.append(acc)\n",
    "            j+=1\n",
    "            \n",
    "    print \"%-15s\" % 'overall average', np.mean(accuracy_list)\n",
    "    print \"%-15s\" % 'correct_AVG', np.mean(accuracy_list_AVG)\n",
    "    print \"%-15s\" % 'correct_HR', np.mean(accuracy_list_HR)\n",
    "    print \"%-15s\" % 'correct_R', np.mean(accuracy_list_R)\n",
    "    print \"%-15s\" % 'correct_RBI', np.mean(accuracy_list_RBI)\n",
    "    print \"%-15s\" % 'correct_SB', np.mean(accuracy_list_SB)"
   ]
  },
  {
   "cell_type": "code",
   "execution_count": 21,
   "metadata": {
    "collapsed": false
   },
   "outputs": [],
   "source": [
    "def accuracy_lists_pitchers(method):\n",
    "    # implementing using optimal parameters for our pitchers\n",
    "\n",
    "    accuracy_list_pitchers = []\n",
    "    accuracy_list_pitchers_ERA = []\n",
    "    accuracy_list_pitchers_K = []\n",
    "    accuracy_list_pitchers_W = []\n",
    "    accuracy_list_pitchers_WHIP = []\n",
    "\n",
    "    for i in xrange(10):\n",
    "        j=0\n",
    "        for col in to_predict_pitchers:\n",
    "            y = pitcher_predictions[col].tolist()\n",
    "            x_train, x_test, y_train, y_test = train_test_split(x_pitchers, y)\n",
    "\n",
    "            chosen_method = method(**best_params[j][col])\n",
    "            chosen_method.fit(x_train, y_train)\n",
    "            acc = metrics.accuracy_score(chosen_method.predict(x_test), y_test)\n",
    "            accuracy_list_pitchers.append(acc)\n",
    "\n",
    "            if col == 'correct_ERA':\n",
    "                accuracy_list_pitchers_ERA.append(acc)\n",
    "            elif col == 'correct_K':\n",
    "                accuracy_list_pitchers_K.append(acc)\n",
    "            elif col == 'correct_W':\n",
    "                accuracy_list_pitchers_W.append(acc)\n",
    "            elif col == 'correct_WHIP':\n",
    "                accuracy_list_pitchers_WHIP.append(acc)\n",
    "            j+=1  \n",
    "\n",
    "    print \"%-15s\" % 'overall average', np.mean(accuracy_list_pitchers)\n",
    "    print \"%-15s\" % 'correct_ERA', np.mean(accuracy_list_pitchers_ERA)\n",
    "    print \"%-15s\" % 'correct_K', np.mean(accuracy_list_pitchers_K)\n",
    "    print \"%-15s\" % 'correct_W', np.mean(accuracy_list_pitchers_W)\n",
    "    print \"%-15s\" % 'correct_WHIP', np.mean(accuracy_list_pitchers_WHIP)"
   ]
  },
  {
   "cell_type": "markdown",
   "metadata": {},
   "source": [
    "### Random Forests"
   ]
  },
  {
   "cell_type": "markdown",
   "metadata": {},
   "source": [
    "We expect random forests to give a better prediction than logistic regression because we do not necessarily know that our data is linear. Random forests do not expect linearly separable data, while logistic regression does. Random forests will also allow for non-linear interactions between input variables. Logistic regression is also not as well-suited to handling categorical features. Here, the model is a categorical feature, so we expect random forests to perform better in that regard.\n",
    "\n",
    "Observe that we decided not to use trees because random forests tend to be a better overall predictor. Our data sets were not of a sufficiently large size in order to require the use of a single tree instead of a random forest.  The same argument for trees applies to decision trees as to why we chose to use random forests instead.  Observe that running the GridSearchCV with so many different inputs does require a significant amount of time.  Unfortunately, even with optimized parameters our overall accuracy only improved by ~1%; note that differences may be more or less for individual statistics.\n",
    "\n",
    "Random forests provide us with an implementation of many different trees, ultimately providing us with a stronger predictor than would a single tree.  We knew random forests to be a very popular method for machine learning and due to the classification nature of our projecct believed it to be a reasonable and strong method for predicting.\n",
    "\n",
    "Also, note that we provided more details in the random forests implementation such as importance of coefficients and ROC plots. For the sake of brevity, we did not include these statistics and graphs for all of our classification methods."
   ]
  },
  {
   "cell_type": "code",
   "execution_count": 26,
   "metadata": {
    "collapsed": true
   },
   "outputs": [],
   "source": [
    "### running random forests for hitters\n",
    "\n",
    "best_params = []\n",
    "\n",
    "for col in to_predict_hitters:\n",
    "    \n",
    "    # looping through each of the desired prediction columns for hitters and splitting into test/train\n",
    "    y = hitter_predictions[col].tolist()\n",
    "    x_train, x_test, y_train, y_test = train_test_split(x_hitters, y)\n",
    "    \n",
    "    # instantiate randomForest object and then pass in different potential arguments\n",
    "    randomForest = RandomForestClassifier()\n",
    "    parameters = {'n_estimators':[10, 15, 20], 'criterion':['gini', 'entropy'], \\\n",
    "                  'min_samples_leaf':[1, 5], 'max_features':['auto', 'sqrt'],\\\n",
    "                  'max_leaf_nodes':[None, 5], 'bootstrap':[True], 'n_jobs':[1, -1]}\n",
    "    \n",
    "    # run the GridSearch to find optimal arguments\n",
    "    clf = GridSearchCV(randomForest, parameters)\n",
    "    clf.fit(x_train, y_train)\n",
    "    best_params.append({col:clf.best_params_})\n",
    "    \n",
    "rforest_hitters_params = best_params"
   ]
  },
  {
   "cell_type": "markdown",
   "metadata": {},
   "source": [
    "Because each of the different \"correct\\_\" statistics we are attempting to predict has slightly different arguments, we will attempt to find the optimal result by plugging in the appropriate arguments for each individual \"correct\\_\" column.  We will also run a prediction just using the same arguments for each column to see if there is a significant difference as compared to using the arguments shared in common by the most columns."
   ]
  },
  {
   "cell_type": "code",
   "execution_count": 27,
   "metadata": {
    "collapsed": false,
    "scrolled": true
   },
   "outputs": [
    {
     "name": "stdout",
     "output_type": "stream",
     "text": [
      "overall average 0.825386395187\n",
      "correct_AVG     0.867468764461\n",
      "correct_HR      0.814067561314\n",
      "correct_R       0.833688107358\n",
      "correct_RBI     0.790467376215\n",
      "correct_SB      0.82124016659\n"
     ]
    }
   ],
   "source": [
    "# default hitters implementation for Forests\n",
    "\n",
    "accuracy_list_Forests_hitters = []\n",
    "accuracy_list_Forests_hitters_AVG = []\n",
    "accuracy_list_Forests_hitters_HR = []\n",
    "accuracy_list_Forests_hitters_R = []\n",
    "accuracy_list_Forests_hitters_RBI = []\n",
    "accuracy_list_Forests_hitters_SB = []\n",
    "\n",
    "for i in xrange(10):\n",
    "    for col in to_predict_hitters:\n",
    "        y = hitter_predictions[col].tolist()\n",
    "        x_train, x_test, y_train, y_test = train_test_split(x_hitters, y)\n",
    "\n",
    "        randomForest = RandomForestClassifier()\n",
    "        randomForest.fit(x_train, y_train)\n",
    "        acc = metrics.accuracy_score(y_test, randomForest.predict(x_test))\n",
    "        accuracy_list_Forests_hitters.append(acc)\n",
    "        \n",
    "        if col == 'correct_AVG':\n",
    "            accuracy_list_Forests_hitters_AVG.append(acc)\n",
    "        elif col == 'correct_HR':\n",
    "            accuracy_list_Forests_hitters_HR.append(acc)\n",
    "        elif col == 'correct_R':\n",
    "            accuracy_list_Forests_hitters_R.append(acc)\n",
    "        elif col == 'correct_RBI':\n",
    "            accuracy_list_Forests_hitters_RBI.append(acc)\n",
    "        elif col == 'correct_SB':\n",
    "            accuracy_list_Forests_hitters_SB.append(acc)\n",
    "        #print \"%-15s\" % col, acc\n",
    "    #print '\\n'\n",
    "    \n",
    "print \"%-15s\" % 'overall average', np.mean(accuracy_list_Forests_hitters)\n",
    "print \"%-15s\" % 'correct_AVG', np.mean(accuracy_list_Forests_hitters_AVG)\n",
    "print \"%-15s\" % 'correct_HR', np.mean(accuracy_list_Forests_hitters_HR)\n",
    "print \"%-15s\" % 'correct_R', np.mean(accuracy_list_Forests_hitters_R)\n",
    "print \"%-15s\" % 'correct_RBI', np.mean(accuracy_list_Forests_hitters_RBI)\n",
    "print \"%-15s\" % 'correct_SB', np.mean(accuracy_list_Forests_hitters_SB)"
   ]
  },
  {
   "cell_type": "code",
   "execution_count": 28,
   "metadata": {
    "collapsed": false,
    "scrolled": true
   },
   "outputs": [
    {
     "name": "stdout",
     "output_type": "stream",
     "text": [
      "overall average 0.833937991671\n",
      "correct_AVG     0.868347987043\n",
      "correct_HR      0.833132808885\n",
      "correct_R       0.839379916705\n",
      "correct_RBI     0.797223507635\n",
      "correct_SB      0.831605738084\n"
     ]
    }
   ],
   "source": [
    "# Forest implementation using the mode of the optimal parameters\n",
    "\n",
    "accuracy_list_Forests_hitters = []\n",
    "accuracy_list_Forests_hitters_AVG = []\n",
    "accuracy_list_Forests_hitters_HR = []\n",
    "accuracy_list_Forests_hitters_R = []\n",
    "accuracy_list_Forests_hitters_RBI = []\n",
    "accuracy_list_Forests_hitters_SB = []\n",
    "\n",
    "for i in xrange(10):\n",
    "    for col in to_predict_hitters:\n",
    "        y = hitter_predictions[col].tolist()\n",
    "        x_train, x_test, y_train, y_test = train_test_split(x_hitters, y)\n",
    "\n",
    "        randomForest = RandomForestClassifier(n_jobs=-1, min_samples_leaf=1, n_estimators=20,\\\n",
    "                                             criterion='entropy', max_features='sqrt')\n",
    "        randomForest.fit(x_train, y_train)\n",
    "        acc = metrics.accuracy_score(y_test, randomForest.predict(x_test))\n",
    "        accuracy_list_Forests_hitters.append(acc)\n",
    "        \n",
    "        if col == 'correct_AVG':\n",
    "            accuracy_list_Forests_hitters_AVG.append(acc)\n",
    "        elif col == 'correct_HR':\n",
    "            accuracy_list_Forests_hitters_HR.append(acc)\n",
    "        elif col == 'correct_R':\n",
    "            accuracy_list_Forests_hitters_R.append(acc)\n",
    "        elif col == 'correct_RBI':\n",
    "            accuracy_list_Forests_hitters_RBI.append(acc)\n",
    "        elif col == 'correct_SB':\n",
    "            accuracy_list_Forests_hitters_SB.append(acc)\n",
    "        #print \"%-15s\" % col, acc\n",
    "    #print '\\n'\n",
    "\n",
    "print \"%-15s\" % 'overall average', np.mean(accuracy_list_Forests_hitters)\n",
    "print \"%-15s\" % 'correct_AVG', np.mean(accuracy_list_Forests_hitters_AVG)\n",
    "print \"%-15s\" % 'correct_HR', np.mean(accuracy_list_Forests_hitters_HR)\n",
    "print \"%-15s\" % 'correct_R', np.mean(accuracy_list_Forests_hitters_R)\n",
    "print \"%-15s\" % 'correct_RBI', np.mean(accuracy_list_Forests_hitters_RBI)\n",
    "print \"%-15s\" % 'correct_SB', np.mean(accuracy_list_Forests_hitters_SB)"
   ]
  },
  {
   "cell_type": "code",
   "execution_count": 29,
   "metadata": {
    "collapsed": false,
    "scrolled": true
   },
   "outputs": [
    {
     "name": "stdout",
     "output_type": "stream",
     "text": [
      "overall average 0.8348727441\n",
      "correct_AVG     0.872882924572\n",
      "correct_HR      0.830726515502\n",
      "correct_R       0.837019898195\n",
      "correct_RBI     0.8\n",
      "correct_SB      0.83373438223\n"
     ]
    }
   ],
   "source": [
    "# Forests implementation using the exact optimal parameters\n",
    "\n",
    "accuracy_lists_hitters(RandomForestClassifier)"
   ]
  },
  {
   "cell_type": "markdown",
   "metadata": {},
   "source": [
    "Observe that even with giving all of the optimal parameters for each statistic individually the accuracy rate doesn't improve by any significant amount, so for the other methods we will continue to run a grid search to obtain the optimal parameters, but we will chose the mode of those optimal parameters when we find the accuracy rate in order to streamline the code.\n",
    "\n",
    "We can observe that random forests does a pretty good job at predicting each of our different categories with the best result occuring for 'correct\\_AVG' with an 87.3% and the worst was 'correct\\_RBI' with an 80.6%."
   ]
  },
  {
   "cell_type": "code",
   "execution_count": 30,
   "metadata": {
    "collapsed": false
   },
   "outputs": [
    {
     "data": {
      "text/plain": [
       "<matplotlib.axes._subplots.AxesSubplot at 0x11751f2d0>"
      ]
     },
     "execution_count": 30,
     "metadata": {},
     "output_type": "execute_result"
    },
    {
     "data": {
      "image/png": "[encoded data removed]",
      "text/plain": [
       "<matplotlib.figure.Figure at 0x11751cbd0>"
      ]
     },
     "metadata": {},
     "output_type": "display_data"
    }
   ],
   "source": [
    "#import seaborn as sns\n",
    "cm = metrics.confusion_matrix(y_test, randomForest.predict(x_test))\n",
    "sns.heatmap(cm, annot=True)"
   ]
  },
  {
   "cell_type": "markdown",
   "metadata": {},
   "source": [
    "As can be seen from our confusion matrix, our graph tended to have many true positives and false negatives, which would lead us to believe that our predictions from random forests were strong and appear to be good estimators."
   ]
  },
  {
   "cell_type": "code",
   "execution_count": 31,
   "metadata": {
    "collapsed": false
   },
   "outputs": [
    {
     "data": {
      "text/plain": [
       "0.81683257118531183"
      ]
     },
     "execution_count": 31,
     "metadata": {},
     "output_type": "execute_result"
    }
   ],
   "source": [
    "metrics.roc_auc_score(y_test, randomForest.predict(x_test))"
   ]
  },
  {
   "cell_type": "markdown",
   "metadata": {},
   "source": [
    "Again, similar to our confusion matrix, we see our roc_auc score was very high at 83%."
   ]
  },
  {
   "cell_type": "code",
   "execution_count": 32,
   "metadata": {
    "collapsed": false
   },
   "outputs": [
    {
     "data": {
      "text/plain": [
       "array([ 0.05344263,  0.05273657,  0.03633001,  0.04878387,  0.04392285,\n",
       "        0.14502775,  0.02842889,  0.0365138 ,  0.02957557,  0.04499448,\n",
       "        0.04103973,  0.03674738,  0.03373294,  0.04341922,  0.04308983,\n",
       "        0.04294413,  0.11905337,  0.04148456,  0.04366639,  0.03506604])"
      ]
     },
     "execution_count": 32,
     "metadata": {},
     "output_type": "execute_result"
    }
   ],
   "source": [
    "randomForest.feature_importances_"
   ]
  },
  {
   "cell_type": "code",
   "execution_count": 33,
   "metadata": {
    "collapsed": false
   },
   "outputs": [
    {
     "data": {
      "text/plain": [
       "Index([u'Unnamed: 0', u'AVG', u'HR', u'R', u'RBI', u'SB', u'method',\n",
       "       u'previous_2B', u'previous_3B', u'previous_AB', u'previous_AVG',\n",
       "       u'previous_BB', u'previous_HR', u'previous_OBP', u'previous_R',\n",
       "       u'previous_RBI', u'previous_SB', u'previous_SLG', u'previous_SO',\n",
       "       u'previous_age'],\n",
       "      dtype='object')"
      ]
     },
     "execution_count": 33,
     "metadata": {},
     "output_type": "execute_result"
    }
   ],
   "source": [
    "x_train.columns"
   ]
  },
  {
   "cell_type": "markdown",
   "metadata": {},
   "source": [
    "Here we attempted to determine which features were most relevant in our predictions.  This x_train was being used to attempt a correct prediction for number of SB (stolen bases) and this model would appear to correctly place the largest emphasis on the 'previous_SB' statistic (higher than any other feature importance by nearly 10%)."
   ]
  },
  {
   "cell_type": "code",
   "execution_count": 34,
   "metadata": {
    "collapsed": false
   },
   "outputs": [],
   "source": [
    "# we took out this scatter plot and the next one but are planning to incorporate this additional analysis at\n",
    "#     a later time\n",
    "#plt.scatter(x_train.iloc[:,15], x_train.iloc[:,4], c=y_train, cmap=plt.cm.BuGn)"
   ]
  },
  {
   "cell_type": "code",
   "execution_count": 35,
   "metadata": {
    "collapsed": false
   },
   "outputs": [],
   "source": [
    "# running random forests for pitchers\n",
    "\n",
    "best_params = []\n",
    "\n",
    "for col in to_predict_pitchers:\n",
    "    y = pitcher_predictions[col].tolist()\n",
    "    x_train, x_test, y_train, y_test = train_test_split(x_pitchers, y)\n",
    "    \n",
    "    randomForest = RandomForestClassifier()\n",
    "    parameters = {'n_estimators':[10, 15, 20], 'criterion':['gini', 'entropy'], \\\n",
    "                  'min_samples_leaf':[1, 5], 'max_features':['auto', 'sqrt'],\\\n",
    "                  'max_leaf_nodes':[None, 5], 'bootstrap':[True], 'n_jobs':[1, -1]}\n",
    "    clf = GridSearchCV(randomForest, parameters)\n",
    "    clf.fit(x_train, y_train)\n",
    "    best_params.append({col:clf.best_params_})\n",
    "    \n",
    "rforest_pitchers_params = best_params"
   ]
  },
  {
   "cell_type": "code",
   "execution_count": 36,
   "metadata": {
    "collapsed": false,
    "scrolled": true
   },
   "outputs": [
    {
     "name": "stdout",
     "output_type": "stream",
     "text": [
      "overall average 0.762467948718\n",
      "correct_ERA     0.858717948718\n",
      "correct_K       0.667051282051\n",
      "correct_W       0.739358974359\n",
      "correct_WHIP    0.784743589744\n"
     ]
    }
   ],
   "source": [
    "# pitchers random forest using the optimal parameters\n",
    "\n",
    "accuracy_list_Forests_pitchers = []\n",
    "accuracy_list_Forests_pitchers_ERA = []\n",
    "accuracy_list_Forests_pitchers_K = []\n",
    "accuracy_list_Forests_pitchers_W = []\n",
    "accuracy_list_Forests_pitchers_WHIP = []\n",
    "\n",
    "for i in xrange(10):\n",
    "    for col in to_predict_pitchers:\n",
    "        y = pitcher_predictions[col].tolist()\n",
    "        x_train, x_test, y_train, y_test = train_test_split(x_pitchers, y)\n",
    "\n",
    "        randomForest = RandomForestClassifier(n_jobs=-1, min_samples_leaf=5, n_estimators=20, criterion='gini',\\\n",
    "                                             max_features='sqrt')\n",
    "        randomForest.fit(x_train, y_train)\n",
    "        acc = metrics.accuracy_score(y_test, randomForest.predict(x_test))\n",
    "        accuracy_list_Forests_pitchers.append(acc)\n",
    "        \n",
    "        if col == 'correct_ERA':\n",
    "            accuracy_list_Forests_pitchers_ERA.append(acc)\n",
    "        elif col == 'correct_K':\n",
    "            accuracy_list_Forests_pitchers_K.append(acc)\n",
    "        elif col == 'correct_W':\n",
    "            accuracy_list_Forests_pitchers_W.append(acc)\n",
    "        elif col == 'correct_WHIP':\n",
    "            accuracy_list_Forests_pitchers_WHIP.append(acc)\n",
    "\n",
    "print \"%-15s\" % 'overall average', np.mean(accuracy_list_Forests_pitchers)\n",
    "print \"%-15s\" % 'correct_ERA', np.mean(accuracy_list_Forests_pitchers_ERA)\n",
    "print \"%-15s\" % 'correct_K', np.mean(accuracy_list_Forests_pitchers_K)\n",
    "print \"%-15s\" % 'correct_W', np.mean(accuracy_list_Forests_pitchers_W)\n",
    "print \"%-15s\" % 'correct_WHIP', np.mean(accuracy_list_Forests_pitchers_WHIP)"
   ]
  },
  {
   "cell_type": "code",
   "execution_count": 37,
   "metadata": {
    "collapsed": false,
    "scrolled": true
   },
   "outputs": [
    {
     "name": "stdout",
     "output_type": "stream",
     "text": [
      "overall average 0.757948717949\n",
      "correct_ERA     0.860897435897\n",
      "correct_K       0.657820512821\n",
      "correct_W       0.729615384615\n",
      "correct_WHIP    0.783461538462\n"
     ]
    }
   ],
   "source": [
    "# Forests using exact optimal parameters for our pitchers\n",
    "\n",
    "accuracy_lists_pitchers(RandomForestClassifier)"
   ]
  },
  {
   "cell_type": "markdown",
   "metadata": {},
   "source": [
    "Random forests was not quite as accurate for predicting pitcher projections as it was for hitters.  However, despite not being as accurate, the predictions were still pretty good.  The best prediction was for 'correct\\_ERA' with an 86.6% and the worst was a measly 65.9% for 'correct\\_K'."
   ]
  },
  {
   "cell_type": "code",
   "execution_count": 38,
   "metadata": {
    "collapsed": false
   },
   "outputs": [
    {
     "data": {
      "text/plain": [
       "<matplotlib.axes._subplots.AxesSubplot at 0x10e76f750>"
      ]
     },
     "execution_count": 38,
     "metadata": {},
     "output_type": "execute_result"
    },
    {
     "data": {
      "image/png": "[encoded data removed]",
      "text/plain": [
       "<matplotlib.figure.Figure at 0x116ce3c10>"
      ]
     },
     "metadata": {},
     "output_type": "display_data"
    }
   ],
   "source": [
    "cm = metrics.confusion_matrix(y_test, randomForest.predict(x_test))\n",
    "sns.heatmap(cm, annot=True)"
   ]
  },
  {
   "cell_type": "markdown",
   "metadata": {},
   "source": [
    "While our results for true positive were definitely the most significant statistic in our confusion_matrix, the number of true negatives was also a significant portion of the results (rather than false positives which we would have hoped for)"
   ]
  },
  {
   "cell_type": "code",
   "execution_count": 39,
   "metadata": {
    "collapsed": false
   },
   "outputs": [
    {
     "data": {
      "text/plain": [
       "0.52742077598517301"
      ]
     },
     "execution_count": 39,
     "metadata": {},
     "output_type": "execute_result"
    }
   ],
   "source": [
    "metrics.roc_auc_score(y_test, randomForest.predict(x_test))"
   ]
  },
  {
   "cell_type": "markdown",
   "metadata": {},
   "source": [
    "As can be expected due to our confusion_matrix results, the roc_auc statistic is not very promising with a 55%, due in large part to the second largest amount of results being seen in the true negatives portion rather than in false negatives."
   ]
  },
  {
   "cell_type": "code",
   "execution_count": 40,
   "metadata": {
    "collapsed": false
   },
   "outputs": [
    {
     "data": {
      "text/plain": [
       "array([ 0.07034598,  0.041002  ,  0.07254058,  0.07294973,  0.02476141,\n",
       "        0.06144793,  0.01518842,  0.06345543,  0.07108015,  0.07305115,\n",
       "        0.07427776,  0.08131474,  0.0769242 ,  0.06672681,  0.01412949,\n",
       "        0.04525258,  0.07555164])"
      ]
     },
     "execution_count": 40,
     "metadata": {},
     "output_type": "execute_result"
    }
   ],
   "source": [
    "randomForest.feature_importances_"
   ]
  },
  {
   "cell_type": "code",
   "execution_count": 41,
   "metadata": {
    "collapsed": false
   },
   "outputs": [
    {
     "data": {
      "text/plain": [
       "Index([u'Unnamed: 0', u'Age', u'ERA', u'K', u'W', u'WHIP', u'method',\n",
       "       u'previous_BB', u'previous_BF', u'previous_ERA', u'previous_FIP',\n",
       "       u'previous_H', u'previous_IP', u'previous_K', u'previous_SV',\n",
       "       u'previous_W', u'previous_WHIP'],\n",
       "      dtype='object')"
      ]
     },
     "execution_count": 41,
     "metadata": {},
     "output_type": "execute_result"
    }
   ],
   "source": [
    "x_train.columns"
   ]
  },
  {
   "cell_type": "markdown",
   "metadata": {},
   "source": [
    "Apparently, the previous_WHIP feature is helpful in predicting WHIP, but other features such as ERA and K are slightly more significant for our predictions."
   ]
  },
  {
   "cell_type": "code",
   "execution_count": 42,
   "metadata": {
    "collapsed": false
   },
   "outputs": [],
   "source": [
    "#plt.scatter(x_train.iloc[:,-1], x_train.iloc[:,2], c=y_train, cmap=plt.cm.BuGn)"
   ]
  }
 ],
 "metadata": {
  "kernelspec": {
   "display_name": "Python 2",
   "language": "python",
   "name": "python2"
  },
  "language_info": {
   "codemirror_mode": {
    "name": "ipython",
    "version": 2
   },
   "file_extension": ".py",
   "mimetype": "text/x-python",
   "name": "python",
   "nbconvert_exporter": "python",
   "pygments_lexer": "ipython2",
   "version": "2.7.12"
  }
 },
 "nbformat": 4,
 "nbformat_minor": 0
}
