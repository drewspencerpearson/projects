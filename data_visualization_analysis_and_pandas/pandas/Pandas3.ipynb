{
 "cells": [
  {
   "cell_type": "code",
   "execution_count": null,
   "metadata": {
    "collapsed": true
   },
   "outputs": [],
   "source": [
    "import numpy as np\n",
    "import pandas as pd\n",
    "from matplotlib import pyplot as plt\n",
    "%matplotlib inline \n",
    "from pydataset import data"
   ]
  },
  {
   "cell_type": "markdown",
   "metadata": {},
   "source": [
    "# Problem 1"
   ]
  },
  {
   "cell_type": "code",
   "execution_count": null,
   "metadata": {
    "collapsed": false
   },
   "outputs": [],
   "source": [
    "diamonds = data('diamonds')\n",
    "#data(\"diamonds\", show_doc=True)\n",
    "clarity = diamonds.groupby('clarity')\n",
    "#cut = diamonds.groupby('cut')\n",
    "means = clarity.mean()\n",
    "#errors = clarity.std()\n",
    "means.loc[:,[\"price\"]].plot(kind=\"bar\",  title='Price by Clarity')\n",
    "plt.ylabel('price ($)')\n",
    "plt.show()\n",
    "print 'source is the diamonds pydataset'"
   ]
  },
  {
   "cell_type": "markdown",
   "metadata": {},
   "source": [
    "This plot was used by the grouby method in pandas grouping different clarities together. The data is from a py dataset called diamonds. The clarity is a measure of how clear the diamond is, with the order being the following: I1 (worst), SI1, SI2, VS1, VS2, VVS1, VVS2, IF (best). So, this graph shows that the mean price of diamonds in the best clarity category are actually lower than diamonds in the worst clarity category. It also shows that in general clarity is not a great indicator as to which diamonds will be the most expensive. So, what are the big takeaways and learning from this graph? This graph helps us understand where we need to dive deeper. We need to see why the mean price of the worst clarity is greater than the mean price of the best clarity, so maybe we need to like at the mean weight of stones in each category as well as the cuts in each category. So, like many graphs, this graph does not answer any specific questions, but it gives us more direction on where to look. "
   ]
  },
  {
   "cell_type": "markdown",
   "metadata": {},
   "source": [
    "# Problem 2"
   ]
  },
  {
   "cell_type": "code",
   "execution_count": null,
   "metadata": {
    "collapsed": false
   },
   "outputs": [],
   "source": [
    "titanic = pd.read_csv('titanic.csv')\n",
    "titanic['Age'].fillna(titanic['Age'].mean())\n",
    "titanic = titanic[[\"Survived\", \"Pclass\", \"Sex\", \"Age\", \"Fare\", \"Embarked\"]]\n",
    "titanic = titanic.dropna()\n",
    "embarked_from = titanic.groupby('Embarked')\n",
    "print embarked_from.describe()\n",
    "titanic.pivot_table('Survived', index = 'Embarked', columns = 'Sex')"
   ]
  },
  {
   "cell_type": "markdown",
   "metadata": {},
   "source": [
    "These tables suggest that if a person embarked from Cobh, then they had a higher probability of surviving than if they had left from one of the other cities. These tables also suggest that given a man and woman depart from the same city the woman has at least two times higher of a probability of survival than males. It also states that a woman, no matter what city she departs from she has a higher chance of survival than any given male. I think this is important to note, but also I think we need to look deeper at class and at sex to see if there are more factors than just city in deciding if someone has a higher probability of survival. "
   ]
  },
  {
   "cell_type": "code",
   "execution_count": null,
   "metadata": {
    "collapsed": false
   },
   "outputs": [],
   "source": [
    "titanic.pivot_table('Survived', index = 'Embarked', columns = 'Pclass')"
   ]
  },
  {
   "cell_type": "markdown",
   "metadata": {},
   "source": [
    "This shows that when the cities are broken down by class, the city does not actually play a large part with the first class of people. As the probability of survival for Pclass = 1 for all three cities is within 11%. Whereas with the 2nd and 3rd classes the different cities differ from over 20%. So, this table supports the city analysis, but it also shows that the first pivot table does not tell the whole story meaning it is not just the city that can inform us if someone was likely to survive. "
   ]
  },
  {
   "cell_type": "code",
   "execution_count": null,
   "metadata": {
    "collapsed": false
   },
   "outputs": [],
   "source": [
    "titanic.pivot_table('Survived', index = 'Pclass', columns = 'Sex')"
   ]
  },
  {
   "cell_type": "markdown",
   "metadata": {},
   "source": [
    "This table shows us that Females accross different classes are much more likely to survive. So, now we have seen that females accross cities and accross classes have a higher probability to survive. I think this stems from the fact that females and children were given first priority in the lifeboats and thus had a much higher chance of survival as they were in a boat. "
   ]
  },
  {
   "cell_type": "markdown",
   "metadata": {},
   "source": [
    "# Problem 3"
   ]
  },
  {
   "cell_type": "markdown",
   "metadata": {},
   "source": [
    "# Drug Relapse"
   ]
  },
  {
   "cell_type": "markdown",
   "metadata": {},
   "source": [
    "In this presentation we will look into some causes of drug relapse. The data is taken from a UIS Drug Treatment study data, which can be found in the pydatasets titled \"uis\""
   ]
  },
  {
   "cell_type": "code",
   "execution_count": null,
   "metadata": {
    "collapsed": true
   },
   "outputs": [],
   "source": [
    "drugs = data('uis')"
   ]
  },
  {
   "cell_type": "code",
   "execution_count": null,
   "metadata": {
    "collapsed": false
   },
   "outputs": [],
   "source": [
    "drugs.plot(kind=\"scatter\", x=\"BECK\", y=\"LEN.T\")\n",
    "plt.ylabel('length of treatment (days)')\n",
    "plt.xlabel('Beck depression score')\n",
    "plt.title('Beck Depression score versus Length of treatment')"
   ]
  },
  {
   "cell_type": "markdown",
   "metadata": {},
   "source": [
    "This Scatter plot shows that for incoming patients, their depression score does not seem to have a relation to the length of their treatment. We see that the scatter plot is pretty uniform. So, no matter if the patient has a depression score of 0 or in the 40's they could range from a short to a long time of treatment. "
   ]
  },
  {
   "cell_type": "code",
   "execution_count": null,
   "metadata": {
    "collapsed": false
   },
   "outputs": [],
   "source": [
    "#drugs[['HC','IV']].plot(kind = 'bar')\n",
    "drugs[['HC']].plot(kind = 'hist', label = True)\n",
    "plt.xlabel('Heroin/Cocaine use 3 months prior to visitations\\n\\\n",
    "            1 = Heroin & Cocaine, 2 = Heroin , 3 = Cocaine , 4 =neither')\n",
    "plt.ylabel('Number of patients')\n",
    "plt.title('Histogram of previous drug use of patients')"
   ]
  },
  {
   "cell_type": "markdown",
   "metadata": {},
   "source": [
    "This histogram shows us that their is a wide range of drug use among the patients. It is interesting to note that the most common patient is one that has not done heroin nor cocaine leading up to the visitation. "
   ]
  },
  {
   "cell_type": "code",
   "execution_count": null,
   "metadata": {
    "collapsed": false
   },
   "outputs": [],
   "source": [
    "success = drugs.groupby('CENSOR')\n",
    "#cut = diamonds.groupby('cut')\n",
    "means = success.mean()\n",
    "means.loc[:,[\"TIME\"]].plot(kind=\"bar\",  title='Time to Revisitation Based on Reason of Relapse')\n",
    "plt.ylabel('Time to Relapse (days)')\n",
    "plt.xlabel('Reason for Relapse \\n 1 = returned to drugs, 0 = other reason')\n"
   ]
  },
  {
   "cell_type": "markdown",
   "metadata": {},
   "source": [
    "This graph is very insightful. This shows the average time that patients have to return to the clinic for re-treatment based on either a relapse of their drugs or for another reason. For those patients that relapse on their drug use their time from admittence to return is about 150 days. Whereas the average time to for various other reasons is about 580 days. So, we see that the first 200 days after being admitted are crucial. If one is going to relapse it is most likely going to happen in the first 200 days"
   ]
  },
  {
   "cell_type": "markdown",
   "metadata": {},
   "source": [
    "These are exploratory graphs. We will now dive into the data a little more with some different charts. "
   ]
  },
  {
   "cell_type": "code",
   "execution_count": null,
   "metadata": {
    "collapsed": false
   },
   "outputs": [],
   "source": [
    "smaller_drugs = drugs[['ID', 'AGE', 'BECK', 'CENSOR', 'HC', \"IV\", 'RACE', 'TIME']]\n",
    "IV = smaller_drugs.groupby('IV')\n",
    "print IV.describe()\n"
   ]
  },
  {
   "cell_type": "markdown",
   "metadata": {},
   "source": [
    "This exploratory chart just gives us some basics on IV use prior to visitation. IV is split into three catagories. 1 = Never used IV drugs, 2 = previous IV drug use, and 3 = recent IV drug use. This chart does tell us a few things to look out for: 1.) The average age increases as the use of IV increases. 2.) The average relapse to drugs increases as the IV drug use increases. 3.) The percentage of white/non-white increases as IV drug use scale increases. These are all things to keep in mind as we dive deeper. "
   ]
  },
  {
   "cell_type": "code",
   "execution_count": null,
   "metadata": {
    "collapsed": false
   },
   "outputs": [],
   "source": [
    "drugs.pivot_table('CENSOR', index = 'IV', columns = 'HC')"
   ]
  },
  {
   "cell_type": "markdown",
   "metadata": {},
   "source": [
    "This pivot table is very interesting in that it provides almost no intuition as to what type of person is most likely to relapse. We see in this table that We have HC, which as explained earlier is Heroin/Cocaine intake and IV, which is previous IV drug use. The values are the probabilities that one will relapse. We see that they are all high, with the lowest being someone who has only done Cocaine and never IV drug use at 73% chance of relapse. However, every single category is in between 73-90%. This shows that we cannot really determine if someone will relapse based on their IV drug use and recent Heroin/Cocaine usage. "
   ]
  },
  {
   "cell_type": "code",
   "execution_count": null,
   "metadata": {
    "collapsed": false
   },
   "outputs": [],
   "source": [
    "drugs.pivot_table('CENSOR', index = 'SITE', columns = 'RACE')"
   ]
  },
  {
   "cell_type": "markdown",
   "metadata": {},
   "source": [
    "I wanted to dive a little deeper into race, based on our first chart. Here we have a pivot table showing the probability of relapse based on race and site. This is very interesting, because it seems that the site is very important depending on race. For Race = 0 (White) we see that they have a 7% higher chance of relapse if treated at site 0. Whereas for Race = 1 (Non-White) we see they have a 15% lower chance of relapse if treated at site 0. This is very interesting and maybe shows that whites should only go to site 1 and non-whites to site 0."
   ]
  },
  {
   "cell_type": "markdown",
   "metadata": {},
   "source": [
    "Summing all this information together, we did not find too many indicators to determine whether the drug treatment will be successful, meaning non-relapse. It was not a complete failure however, as we found first off that there are many indicators that we can rule out as predictive, such as previous IV drug use or heroin/cocaine use. Also, length of treatment did not seem to have much of an impact. However, what is extremely important is the first 200 days after one begins treatment. If they can make it past those 200 days without relapsing they have a much higher chance of not relapsing."
   ]
  },
  {
   "cell_type": "markdown",
   "metadata": {},
   "source": [
    "This is a good start on the issue, but there are some areas that need more analysis. One area that could provide lots of insight is the sites vs. race pivot table. We saw a fairly large discrepency in terms of which sites help which races in not relapsing. So, if I was presenting this to a company my biggest commitment to them would be to look into the different sites. See if they can find differences between site 0 and site 1. Finally, instruct them to look for any reasons why whites tend to do better at site 1, while non-whites do better at site 0. What type of employees are working at these sites? Are there more non-white doctors at site 0? These questions could provide some insights into how to help reduce re-lapse based on race. "
   ]
  },
  {
   "cell_type": "markdown",
   "metadata": {},
   "source": [
    "Note: I already stated this, but this data came from a UIS treatment drug study."
   ]
  },
  {
   "cell_type": "code",
   "execution_count": null,
   "metadata": {
    "collapsed": true
   },
   "outputs": [],
   "source": []
  }
 ],
 "metadata": {
  "kernelspec": {
   "display_name": "Python 2",
   "language": "python",
   "name": "python2"
  },
  "language_info": {
   "codemirror_mode": {
    "name": "ipython",
    "version": 2
   },
   "file_extension": ".py",
   "mimetype": "text/x-python",
   "name": "python",
   "nbconvert_exporter": "python",
   "pygments_lexer": "ipython2",
   "version": "2.7.12"
  }
 },
 "nbformat": 4,
 "nbformat_minor": 0
}
